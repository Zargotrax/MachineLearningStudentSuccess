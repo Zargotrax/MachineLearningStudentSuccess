{
 "cells": [
  {
   "cell_type": "markdown",
   "metadata": {},
   "source": [
    "## Analyse des données pour le projet de session Machine Learning : "
   ]
  },
  {
   "cell_type": "markdown",
   "metadata": {},
   "source": [
    "### Objectif\n",
    "Analyser des facteurs prédictifs pouvant amener à un étudiant à graduer ou abandonner l'université."
   ]
  },
  {
   "cell_type": "markdown",
   "metadata": {},
   "source": [
    "### Importation des librairies nécessaires"
   ]
  },
  {
   "cell_type": "code",
   "execution_count": 1,
   "metadata": {
    "ExecuteTime": {
     "end_time": "2023-11-02T00:25:57.300183100Z",
     "start_time": "2023-11-02T00:25:57.290210300Z"
    }
   },
   "outputs": [],
   "source": [
    "import pandas as pd\n",
    "import numpy as np\n",
    "import matplotlib.pyplot as plt\n",
    "import seaborn as sns\n",
    "from matplotlib import rcParams\n",
    "import json\n",
    "\n",
    "rcParams['figure.figsize'] = 12, 9"
   ]
  },
  {
   "cell_type": "markdown",
   "metadata": {},
   "source": [
    "### Fonction pour l'analyse statistique"
   ]
  },
  {
   "cell_type": "code",
   "execution_count": 5,
   "metadata": {
    "ExecuteTime": {
     "end_time": "2023-11-01T21:14:48.423067100Z",
     "start_time": "2023-11-01T21:14:47.650165600Z"
    }
   },
   "outputs": [],
   "source": [
    "def analyse_stats_donnee(donnee, colonne, type):\n",
    "    if type == \"Catégorique\":\n",
    "        sns.countplot(donnee, x=colonne)\n",
    "    elif type == \"Numérique\":\n",
    "        sns.histplot(donnee, x=colonne, bins=50)\n",
    "    \n",
    "    plt.title(f\"Histogramme sur les données ({colonne})\")\n",
    "    plt.xlabel(f\"{colonne}\")\n",
    "    plt.ylabel(\"Fréquence\")\n",
    "    plt.show()\n",
    "\n",
    "    with open('./donnee_info.json', 'r') as openfile:\n",
    "        donnee_info = json.load(openfile)\n",
    "\n",
    "    print(f\"Informations intéressantes sur les données de la colonne {colonne} :\")\n",
    "    print(\"-------------------------------------------------------------------\")\n",
    "    print(donnee[colonne].describe())\n",
    "    print(\"\\n\")\n",
    "    print(f\"Valeurs majoritaire de la colonne ({colonne}) :\")\n",
    "    print(\"------------------------------------------------\")\n",
    "    if len(donnee[colonne].unique()) == 2:\n",
    "        top_index = donnee[colonne].value_counts().iloc[:2].index\n",
    "        top_val = donnee[colonne].value_counts().iloc[:2].values\n",
    "        if type == \"Catégorique\":\n",
    "            print(f\"{donnee_info[colonne][str(top_index[0])]} ({top_index[0]}) : {top_val[0]} ({(top_val[0] / donnee[colonne].size)*100:.2f}%)\")\n",
    "            print(f\"{donnee_info[colonne][str(top_index[1])]} ({top_index[1]}) : {top_val[1]} ({(top_val[1] / donnee[colonne].size)*100:.2f}%)\")\n",
    "        if type == \"Numérique\":\n",
    "            print(f\"{top_index[0]} : {top_val[0]} ({(top_val[0] / donnee[colonne].size)*100:.2f}%)\")\n",
    "            print(f\"{top_index[1]} : {top_val[1]} ({(top_val[1] / donnee[colonne].size)*100:.2f}%)\")\n",
    "    elif len(donnee[colonne].unique()) >= 3:\n",
    "        top_index = donnee[colonne].value_counts().iloc[:3].index\n",
    "        top_val = donnee[colonne].value_counts().iloc[:3].values\n",
    "        if type == \"Catégorique\":\n",
    "            print(f\"{donnee_info[colonne][str(top_index[0])]} ({top_index[0]}) : {top_val[0]} ({(top_val[0] / donnee[colonne].size)*100:.2f}%)\")\n",
    "            print(f\"{donnee_info[colonne][str(top_index[1])]} ({top_index[1]}) : {top_val[1]} ({(top_val[1] / donnee[colonne].size)*100:.2f}%)\")\n",
    "            print(f\"{donnee_info[colonne][str(top_index[2])]} ({top_index[2]}) : {top_val[2]} ({(top_val[2] / donnee[colonne].size)*100:.2f}%)\")\n",
    "        if type == \"Numérique\":\n",
    "            print(f\"{top_index[0]} : {top_val[0]} ({(top_val[0] / donnee[colonne].size)*100:.2f}%)\")\n",
    "            print(f\"{top_index[1]} : {top_val[1]} ({(top_val[1] / donnee[colonne].size)*100:.2f}%)\")\n",
    "            print(f\"{top_index[2]} : {top_val[2]} ({(top_val[2] / donnee[colonne].size)*100:.2f}%)\")"
   ]
  },
  {
   "cell_type": "markdown",
   "metadata": {},
   "source": [
    "### Instancier le jeu de données"
   ]
  },
  {
   "cell_type": "code",
   "execution_count": 6,
   "metadata": {
    "ExecuteTime": {
     "end_time": "2023-11-01T21:14:48.449996Z",
     "start_time": "2023-11-01T21:14:47.663131Z"
    }
   },
   "outputs": [],
   "source": [
    "data = pd.read_csv(\"./dataset.csv\")"
   ]
  },
  {
   "cell_type": "markdown",
   "metadata": {
    "jp-MarkdownHeadingCollapsed": true,
    "tags": []
   },
   "source": [
    "### Description du jeu de données :\n",
    "\n",
    "Cet ensemble de données contient des données provenant d'un établissement d'enseignement supérieur sur diverses variables liées aux étudiants de premier cycle, notamment la démographie, les facteurs socio-économiques et les performances académiques, afin d'étudier l'impact de ces facteurs sur l'abandon scolaire et la réussite scolaire.\n",
    "\n",
    "- `Etat civil (Catégorique)` :\n",
    "  - 1 : Célibataire\n",
    "  - 2 : Marié(e)\n",
    "  - 3 : Veuf\n",
    "  - 4 : Divorcé(e)\n",
    "  - 5 : Union de fait\n",
    "  - 6 : Séparés légalement\n",
    "- `Mode d'application (Catégorique)` (À revoir car l'info est complexe) :\n",
    "  - 1 : 1ère phase – contingent général\n",
    "  - 2 : Ordonnance No. 612/93 (À voir ça veut dire quoi)\n",
    "  - 3 : 1ère phase – contingent spécial (île des Açores ou \"Azores Island\" en anglais)\n",
    "  - 4 : Titulaires d'autres formations supérieures\n",
    "  - 5 : Ordonnance No. 854-B/99 (À voir ça veut dire quoi)\n",
    "  - 6 : Étudiant international (licence ou \"bachelor\" en anglais)\n",
    "  - 7 : 1ère phase – contingent spécial (île de Madère ou \"Madeira Island\" en anglais)\n",
    "  - 8 : 2e phase – contingent général\n",
    "  - 9 : 3ème phase – contingent général\n",
    "  - 10 : Ordonnance No. 533-A/99, point b2) (Plan différent)\n",
    "  - 11 : Ordonnance No. 533-A/99, point b3) (Autre institution)\n",
    "  - 12 : Plus de 23 ans\n",
    "  - 13 : Transfert\n",
    "  - 14 : Changement de cours ou \"Change in course\" en anglais\n",
    "  - 15 : Titulaires d'un diplôme de spécialisation technologique\n",
    "  - 16 : Changement d'établissement/de cours\n",
    "  - 17 : Titulaires d'un diplôme de cycle court\n",
    "  - 18 : Changement d'établissement/de cours (International)\n",
    "- `L'ordre d'application (Numérique)` :\n",
    "  - L'ordre dans lequel l'étudiant a postulé (0 - premier choix, et 9 - dernier choix)\n",
    "  - Valeurs numériques de 0 à 9\n",
    "- `Cours (Catégorique)` :\n",
    "  - 1 : Technologies de production de biocarburants\n",
    "  - 2 : Conception d'animation et multimédia \n",
    "  - 3 : Service Social (présence en soirée)\n",
    "  - 4 : Agronomie\n",
    "  - 5 : Conception de communications\n",
    "  - 6 : Soins infirmiers vétérinaires\n",
    "  - 7 : Génie informatique\n",
    "  - 8 : Équiniculture\n",
    "  - 9 : Gestion\n",
    "  - 10 : Service social\n",
    "  - 11 : Tourisme\n",
    "  - 12 : Soins infirmier\n",
    "  - 13 : Hygiène buccale (Dentiste ou Hygiéniste dentaire) ou \"Oral Hygiene\" en anglais\n",
    "  - 14 : Gestion de la publicité et du marketing\n",
    "  - 15 : Journalisme et communication\n",
    "  - 16 : Éducation de base ou \"Basic Education\" en anglais\n",
    "  - 17 : Gestion (présence en soirée)\n",
    "- `Présence de jour/soir (Catégorique)` :\n",
    "  - 0 : Soir ou \"Evening\" en anglais\n",
    "  - 1 : Jour ou \"Daytime\" en anglais\n",
    "- `Qualification antérieure ou Diplôme antérieure (Catégorique)` :\n",
    "  - 1 : Étude secondaire\n",
    "  - 2 : Étude supérieure – baccalauréat\n",
    "  - 3 : Étude supérieure – diplôme\n",
    "  - 4 : Étude supérieure – maîtrise\n",
    "  - 5 : Étude supérieure – doctorat\n",
    "  - 6 : Fréquence d'étude supérieure ou \"Frequency of higher education\" en anglais (À revoir)\n",
    "  - 7 : 12e année de scolarité – non terminée \n",
    "  - 8 : 11e année de scolarité – non terminée \n",
    "  - 9 : Autre – 11e année de scolarité\n",
    "  - 10 : 10e année de scolarité\n",
    "  - 11 : 10e année de scolarité - non terminée\n",
    "  - 12 : Étude de base de 3e cycle (9ème/10ème/11ème année) ou équivalent\n",
    "  - 13 : Étude de base de 2e cycle (6e/7e/8e année) ou équivalent\n",
    "  - 14 : Cours de spécialisation technologique\n",
    "  - 15 : Étude supérieure – diplôme (1er cycle)\n",
    "  - 16 : Cours technique supérieur professionnel\n",
    "  - 17 : Étude supérieure – maîtrise (2e cycle)\n",
    "- `Nationalité (Catégorique)` :\n",
    "  - 1 : Portugais\n",
    "  - 2 : Allemand\n",
    "  - 3 : Espagnol\n",
    "  - 4 : Italien\n",
    "  - 5 : Néerlandais\n",
    "  - 6 : Anglais (UK)\n",
    "  - 7 : Lituanien\n",
    "  - 8 : Angolais\n",
    "  - 9 : Cap-Verdien\n",
    "  - 10 : Guinéen\n",
    "  - 11 : Mozambicain\n",
    "  - 12 : Santoméen\n",
    "  - 13 : Turc\n",
    "  - 14 : Brésilien\n",
    "  - 15 : Roumain\n",
    "  - 16 : Moldavie (République de)\n",
    "  - 17 : Mexicain\n",
    "  - 18 : Ukrainien\n",
    "  - 19 : Russe\n",
    "  - 20 : Cubain\n",
    "  - 21 : Colombien\n",
    "- `Qualification de la mère ou du père (Catégorique)` :\n",
    "  - 1 : Étude secondaire – 12e année de scolarité ou équivalent\n",
    "  - 2 : Étude supérieure – baccalauréat\n",
    "  - 3 : Étude supérieure – diplôme\n",
    "  - 4 : Étude supérieure – maîtrise\n",
    "  - 5 : Étude supérieure – doctorat\n",
    "  - 6 : Fréquence d'étude supérieure ou \"Frequency of higher education\" en anglais (À revoir)\n",
    "  - 7 : 12e année de scolarité – non terminée \n",
    "  - 8 : 11e année de scolarité – non terminée \n",
    "  - 9 : 7ème année (ancienne) (À voir ça veut dire quoi)\n",
    "  - 10 : Autre – 11e année de scolarité\n",
    "  - 11 : Cours complémentaire de 2ème année du lycée (high school)\n",
    "  - 12 : 10ème année de scolarité\n",
    "  - 13 : Cours de commerce général\n",
    "  - 14 : Étude de base de 3e cycle (9ème/10ème/11ème année) ou équivalent\n",
    "  - 15 : Cours complémentaire de lycée (high school)\n",
    "  - 16 : Cours technico-professionnel\n",
    "  - 17 : Cours complémentaire de lycée (high school) – non terminé\n",
    "  - 18 : 7ème année de scolarité\n",
    "  - 19 : 2ème cycle du cursus général du lycée (high school)\n",
    "  - 20 : 9e année de scolarité – non terminée\n",
    "  - 21 : 8ème année de scolarité\n",
    "  - 22 : Cours Général d'Administration et de Commerce\n",
    "  - 23 : Comptabilité et administration supplémentaires\n",
    "  - 24 : Inconnu\n",
    "  - 25 : Ne sait ni lire ni écrire\n",
    "  - 26 : Savoir lire sans avoir une 4ème année de scolarité\n",
    "  - 27 : Étude de base de 1er cycle (4e/5e année) ou équivalent\n",
    "  - 28 : Étude de base de 2e cycle (6e/7e/8e année) ou équivalent\n",
    "  - 29 : Cours de spécialisation technologique\n",
    "  - 30 : Étude supérieure – diplôme (1er cycle)\n",
    "  - 31 : Parcours d'études supérieures spécialisées\n",
    "  - 32 : Cours technique supérieur professionnel\n",
    "  - 33 : Étude supérieure – maîtrise (2e cycle)\n",
    "  - 34 : Étude supérieure – doctorat (3e cycle)\n",
    "- `Occupation de la mère ou du père (Catégorique)` :\n",
    "  - 1 : Étudiant\n",
    "  - 2 : Représentants du Pouvoir Législatif et des Organes Exécutifs, Directeurs et Dirigeants Exécutifs (Pas sûr de la traduction)\n",
    "  - 3 : Spécialistes en activités intellectuelles et scientifiques\n",
    "  - 4 : Techniciens et professions de niveau intermédiaire\n",
    "  - 5 : Personnel administratif\n",
    "  - 6 : Travailleurs des services personnels, de la sécurité et de la sûreté et vendeurs\n",
    "  - 7 : Agriculteurs et travailleurs qualifiés de l’agriculture, des pêches et des forêts\n",
    "  - 8 : Ouvriers qualifiés de l’industrie, de la construction et des artisans\n",
    "  - 9 : Opérateurs d'installations, de machines et ouvriers d'assemblage\n",
    "  - 10 : Travailleurs sans compétences\n",
    "  - 11 : Métiers des Forces armées\n",
    "  - 12 : Autre situation\n",
    "  - 13 : (vide)/(blank)\n",
    "  - 14 : Officiers des Forces armées\n",
    "  - 15 : Sergents des forces armées\n",
    "  - 16 : Autres membres des forces armées\n",
    "  - 17 : Directeurs des services administratifs et commerciaux\n",
    "  - 18 : Directeurs d'hôtellerie, de restauration, de commerce et autres services\n",
    "  - 19 : Spécialistes en sciences physiques, mathématiques, ingénierie et techniques connexes\n",
    "  - 20 : Professionnels de la santé\n",
    "  - 21 : Enseignants\n",
    "  - 22 : Spécialistes en finance, comptabilité, organisation administrative et relations publiques et commerciales\n",
    "  - 23 : Techniciens et professions scientifiques et ingénieries de niveau intermédiaire\n",
    "  - 24 : Techniciens et professionnels de niveau intermédiaire de la santé\n",
    "  - 25 : Techniciens de niveau intermédiaire des services juridiques, sociaux, sportifs, culturels et assimilés\n",
    "  - 26 : Techniciens en technologies de l'information et de la communication\n",
    "  - 27 : Employés de bureau, secrétaires en général et opérateurs de traitement de données\n",
    "  - 28 : Opérateurs liés aux données, à la comptabilité, aux statistiques, aux services financiers et aux registres\n",
    "  - 29 : Autre personnel de soutien administratif\n",
    "  - 30 : Travailleurs des services personnels\n",
    "  - 31 : Vendeurs\n",
    "  - 32 : Travailleurs des soins personnels et autres\n",
    "  - 33 : Personnel des services de protection et de sécurité\n",
    "  - 34 : Agriculteurs orientés vers le marché et travailleurs qualifiés en production agricole et animale\n",
    "  - 35 : Agriculteurs, éleveurs, pêcheurs, chasseurs et cueilleurs et subsistance\n",
    "  - 36 : Ouvriers du bâtiment qualifiés et assimilés, à l'exception des électriciens\n",
    "  - 37 : Ouvriers qualifiés en métallurgie, travail des métaux et assimilés\n",
    "  - 38 : Ouvriers qualifiés en électricité et électronique\n",
    "  - 39 : Travailleurs de l'industrie agroalimentaire, du travail du bois, de l'habillement et d'autres industries et artisanats\n",
    "  - 40 : Opérateurs d'installations fixes et de machines\n",
    "  - 41 : Ouvriers d'assemblage\n",
    "  - 42 : Conducteurs de véhicules et opérateurs d’équipements mobiles\n",
    "  - 43 : Travailleurs non qualifiés dans l'agriculture, la production animale, la pêche et la foresterie\n",
    "  - 44 : Travailleurs non qualifiés dans les industries extractives, la construction, la fabrication et les transports\n",
    "  - 45 : Assistants à la préparation des repas\n",
    "  - 46 : Vendeurs de rue (sauf nourriture) et prestataires de services de rue\n",
    "- `Déplacé (Catégorique)` :\n",
    "  - Une personne déplacée est un individu contraint de quitter son domicile ou son lieu de résidence habituel pour diverses raisons telles que les conflits, la persécution, les catastrophes naturelles ou les crises d'origine humaine. Ce déplacement peut se faire à l'intérieur de leur propre pays (personne déplacée à l'intérieur de son pays, PDIP) ou à travers les frontières internationales (réfugié)\n",
    "  - 0 : Non\n",
    "  - 1 : Oui\n",
    "- `Besoins éducatifs spéciaux (Catégorique)` :\n",
    "  - 0 : Non\n",
    "  - 1 : Oui\n",
    "- `Débiteur/Dettes (Catégorique)` :\n",
    "  - `Une personne qui doit une somme d’argent, qui a des dettes`\n",
    "  - 0 : Non\n",
    "  - 1 : Oui\n",
    "- `Frais de scolarité à jour (Catégorique)` :\n",
    "  - 0 : Non\n",
    "  - 1 : Oui\n",
    "- `Sexe (Catégorique)` :\n",
    "  - 0 : Femme\n",
    "  - 1 : Homme\n",
    "- `Bourse scolaire (Catégorique)` :\n",
    "  - 0 : Non\n",
    "  - 1 : Oui\n",
    "- `Âge à l'inscription (Numérique)` :\n",
    "  - Valeurs numériques de l'âge à l'inscription\n",
    "- `International (Catégorique)` :\n",
    "  - 0 : Non\n",
    "  - 1 : Oui\n",
    "- `Unités curriculaires 1er semestre (créditées) (Numérique)` :\n",
    "  - Le nombre d'unités d'études créditées par l'étudiant au premier semestre\n",
    "- `Unités curriculaires 1er semestre (inscrits) (Numérique)` :\n",
    "  - Le nombre d'unités d'études inscrites par l'étudiant au premier semestre\n",
    "- `Unités curriculaires 1er semestre (évaluations) (Numérique)` :\n",
    "  - Le nombre d'unités d'études évaluées par l'étudiant au premier semestre\n",
    "- `Unités curriculaires 1er semestre (approuvées) (Numérique)` :\n",
    "  - Le nombre d'unités d'études approuvées par l'étudiant au premier semestre\n",
    "- `Unités curriculaires 1er semestre (note) (Numérique)` :\n",
    "  - ?\n",
    "- `Unités curriculaires 1er semestre (sans évaluations) (Numérique)` :\n",
    "  - ?\n",
    "- `Unités curriculaires 2e semestre (créditées) (Numérique)` :\n",
    "  - Le nombre d'unités d'études créditées par l'étudiant au second semestre\n",
    "- `Unités curriculaires 2e semestre (inscrits) (Numérique)` :\n",
    "  - Le nombre d'unités d'études inscrites par l'étudiant au second semestre\n",
    "- `Unités curriculaires 2e semestre (évaluations) (Numérique)` :\n",
    "  - Le nombre d'unités d'études évaluées par l'étudiant au second semestre\n",
    "- `Unités curriculaires 2e semestre (approuvées) (Numérique)` :\n",
    "  - Le nombre d'unités d'études approuvées par l'étudiant au second semestre\n",
    "- `Unités curriculaires 2e semestre (note) (Numérique)` :\n",
    "  - ?\n",
    "- `Unités curriculaires 2e semestre (sans évaluations) (Numérique)` :\n",
    "  - ?\n",
    "- `Taux de chômage (Numérique)` :\n",
    "  - Valeur numérique du taux de chômage. Plus il est élevé, plus il y a du chômage\n",
    "- `Taux d'inflation (Numérique)` :\n",
    "  - Valeur numérique du taux d'inflation. Si négatif, alors il y a une diminution par rapport à la période antérieure, si positif, il y a une augmentation par rapport à la prériode antérieure\n",
    "- `PIB (Numérique)` :\n",
    "  - Le Produit Intérieur Brut (PIB) est un indicateur clé utilisé pour mesurer la performance économique d'un pays. Il représente la valeur totale de tous les biens et services produits à l'intérieur des frontières du pays sur une période spécifique, généralement une année ou un trimestre\n",
    "- `Cible (Catégorique)`:\n",
    "  - 0 : Abandonné\n",
    "  - 1 : Gradué\n",
    "  - 2 : Inscrit"
   ]
  },
  {
   "cell_type": "markdown",
   "metadata": {},
   "source": [
    "## Traduction des noms de caractéristiques du jeu de données"
   ]
  },
  {
   "cell_type": "code",
   "execution_count": 7,
   "metadata": {
    "ExecuteTime": {
     "end_time": "2023-11-01T21:14:48.485897500Z",
     "start_time": "2023-11-01T21:14:47.696042900Z"
    }
   },
   "outputs": [
    {
     "data": {
      "text/plain": "      État civil  Mode d'application  Ordre d'application  Cours  \\\n0              1                   8                    5      2   \n1              1                   6                    1     11   \n2              1                   1                    5      5   \n3              1                   8                    2     15   \n4              2                  12                    1      3   \n...          ...                 ...                  ...    ...   \n4419           1                   1                    6     15   \n4420           1                   1                    2     15   \n4421           1                   1                    1     12   \n4422           1                   1                    1      9   \n4423           1                   5                    1     15   \n\n      Présence jour/soir  Qualification antérieure  Nationalité  \\\n0                      1                         1            1   \n1                      1                         1            1   \n2                      1                         1            1   \n3                      1                         1            1   \n4                      0                         1            1   \n...                  ...                       ...          ...   \n4419                   1                         1            1   \n4420                   1                         1           19   \n4421                   1                         1            1   \n4422                   1                         1            1   \n4423                   1                         1            9   \n\n      Qualification mère  Qualification père  Occupation mère  ...  \\\n0                     13                  10                6  ...   \n1                      1                   3                4  ...   \n2                     22                  27               10  ...   \n3                     23                  27                6  ...   \n4                     22                  28               10  ...   \n...                  ...                 ...              ...  ...   \n4419                   1                   1                6  ...   \n4420                   1                   1               10  ...   \n4421                  22                  27               10  ...   \n4422                  22                  27                8  ...   \n4423                  23                  27                6  ...   \n\n      Unités curriculaires 2e semestre (créditées)  \\\n0                                                0   \n1                                                0   \n2                                                0   \n3                                                0   \n4                                                0   \n...                                            ...   \n4419                                             0   \n4420                                             0   \n4421                                             0   \n4422                                             0   \n4423                                             0   \n\n      Unités curriculaires 2e semestre (inscrits)  \\\n0                                               0   \n1                                               6   \n2                                               6   \n3                                               6   \n4                                               6   \n...                                           ...   \n4419                                            6   \n4420                                            6   \n4421                                            8   \n4422                                            5   \n4423                                            6   \n\n      Unités curriculaires 2e semestre (évaluations)  \\\n0                                                  0   \n1                                                  6   \n2                                                  0   \n3                                                 10   \n4                                                  6   \n...                                              ...   \n4419                                               8   \n4420                                               6   \n4421                                               9   \n4422                                               6   \n4423                                               6   \n\n      Unités curriculaires 2e semestre (approuvées)  \\\n0                                                 0   \n1                                                 6   \n2                                                 0   \n3                                                 5   \n4                                                 6   \n...                                             ...   \n4419                                              5   \n4420                                              2   \n4421                                              1   \n4422                                              5   \n4423                                              6   \n\n      Unités curriculaires 2e semestre (note)  \\\n0                                    0.000000   \n1                                   13.666667   \n2                                    0.000000   \n3                                   12.400000   \n4                                   13.000000   \n...                                       ...   \n4419                                12.666667   \n4420                                11.000000   \n4421                                13.500000   \n4422                                12.000000   \n4423                                13.000000   \n\n      Unités curriculaires 2e semestre (sans évaluations)  Taux de chômage  \\\n0                                                     0               10.8   \n1                                                     0               13.9   \n2                                                     0               10.8   \n3                                                     0                9.4   \n4                                                     0               13.9   \n...                                                 ...                ...   \n4419                                                  0               15.5   \n4420                                                  0               11.1   \n4421                                                  0               13.9   \n4422                                                  0                9.4   \n4423                                                  0               12.7   \n\n      Taux d'inflation   PIB  Cible  \n0                  1.4  1.74      0  \n1                 -0.3  0.79      1  \n2                  1.4  1.74      0  \n3                 -0.8 -3.12      1  \n4                 -0.3  0.79      1  \n...                ...   ...    ...  \n4419               2.8 -4.06      1  \n4420               0.6  2.02      0  \n4421              -0.3  0.79      0  \n4422              -0.8 -3.12      1  \n4423               3.7 -1.70      1  \n\n[3630 rows x 35 columns]",
      "text/html": "<div>\n<style scoped>\n    .dataframe tbody tr th:only-of-type {\n        vertical-align: middle;\n    }\n\n    .dataframe tbody tr th {\n        vertical-align: top;\n    }\n\n    .dataframe thead th {\n        text-align: right;\n    }\n</style>\n<table border=\"1\" class=\"dataframe\">\n  <thead>\n    <tr style=\"text-align: right;\">\n      <th></th>\n      <th>État civil</th>\n      <th>Mode d'application</th>\n      <th>Ordre d'application</th>\n      <th>Cours</th>\n      <th>Présence jour/soir</th>\n      <th>Qualification antérieure</th>\n      <th>Nationalité</th>\n      <th>Qualification mère</th>\n      <th>Qualification père</th>\n      <th>Occupation mère</th>\n      <th>...</th>\n      <th>Unités curriculaires 2e semestre (créditées)</th>\n      <th>Unités curriculaires 2e semestre (inscrits)</th>\n      <th>Unités curriculaires 2e semestre (évaluations)</th>\n      <th>Unités curriculaires 2e semestre (approuvées)</th>\n      <th>Unités curriculaires 2e semestre (note)</th>\n      <th>Unités curriculaires 2e semestre (sans évaluations)</th>\n      <th>Taux de chômage</th>\n      <th>Taux d'inflation</th>\n      <th>PIB</th>\n      <th>Cible</th>\n    </tr>\n  </thead>\n  <tbody>\n    <tr>\n      <th>0</th>\n      <td>1</td>\n      <td>8</td>\n      <td>5</td>\n      <td>2</td>\n      <td>1</td>\n      <td>1</td>\n      <td>1</td>\n      <td>13</td>\n      <td>10</td>\n      <td>6</td>\n      <td>...</td>\n      <td>0</td>\n      <td>0</td>\n      <td>0</td>\n      <td>0</td>\n      <td>0.000000</td>\n      <td>0</td>\n      <td>10.8</td>\n      <td>1.4</td>\n      <td>1.74</td>\n      <td>0</td>\n    </tr>\n    <tr>\n      <th>1</th>\n      <td>1</td>\n      <td>6</td>\n      <td>1</td>\n      <td>11</td>\n      <td>1</td>\n      <td>1</td>\n      <td>1</td>\n      <td>1</td>\n      <td>3</td>\n      <td>4</td>\n      <td>...</td>\n      <td>0</td>\n      <td>6</td>\n      <td>6</td>\n      <td>6</td>\n      <td>13.666667</td>\n      <td>0</td>\n      <td>13.9</td>\n      <td>-0.3</td>\n      <td>0.79</td>\n      <td>1</td>\n    </tr>\n    <tr>\n      <th>2</th>\n      <td>1</td>\n      <td>1</td>\n      <td>5</td>\n      <td>5</td>\n      <td>1</td>\n      <td>1</td>\n      <td>1</td>\n      <td>22</td>\n      <td>27</td>\n      <td>10</td>\n      <td>...</td>\n      <td>0</td>\n      <td>6</td>\n      <td>0</td>\n      <td>0</td>\n      <td>0.000000</td>\n      <td>0</td>\n      <td>10.8</td>\n      <td>1.4</td>\n      <td>1.74</td>\n      <td>0</td>\n    </tr>\n    <tr>\n      <th>3</th>\n      <td>1</td>\n      <td>8</td>\n      <td>2</td>\n      <td>15</td>\n      <td>1</td>\n      <td>1</td>\n      <td>1</td>\n      <td>23</td>\n      <td>27</td>\n      <td>6</td>\n      <td>...</td>\n      <td>0</td>\n      <td>6</td>\n      <td>10</td>\n      <td>5</td>\n      <td>12.400000</td>\n      <td>0</td>\n      <td>9.4</td>\n      <td>-0.8</td>\n      <td>-3.12</td>\n      <td>1</td>\n    </tr>\n    <tr>\n      <th>4</th>\n      <td>2</td>\n      <td>12</td>\n      <td>1</td>\n      <td>3</td>\n      <td>0</td>\n      <td>1</td>\n      <td>1</td>\n      <td>22</td>\n      <td>28</td>\n      <td>10</td>\n      <td>...</td>\n      <td>0</td>\n      <td>6</td>\n      <td>6</td>\n      <td>6</td>\n      <td>13.000000</td>\n      <td>0</td>\n      <td>13.9</td>\n      <td>-0.3</td>\n      <td>0.79</td>\n      <td>1</td>\n    </tr>\n    <tr>\n      <th>...</th>\n      <td>...</td>\n      <td>...</td>\n      <td>...</td>\n      <td>...</td>\n      <td>...</td>\n      <td>...</td>\n      <td>...</td>\n      <td>...</td>\n      <td>...</td>\n      <td>...</td>\n      <td>...</td>\n      <td>...</td>\n      <td>...</td>\n      <td>...</td>\n      <td>...</td>\n      <td>...</td>\n      <td>...</td>\n      <td>...</td>\n      <td>...</td>\n      <td>...</td>\n      <td>...</td>\n    </tr>\n    <tr>\n      <th>4419</th>\n      <td>1</td>\n      <td>1</td>\n      <td>6</td>\n      <td>15</td>\n      <td>1</td>\n      <td>1</td>\n      <td>1</td>\n      <td>1</td>\n      <td>1</td>\n      <td>6</td>\n      <td>...</td>\n      <td>0</td>\n      <td>6</td>\n      <td>8</td>\n      <td>5</td>\n      <td>12.666667</td>\n      <td>0</td>\n      <td>15.5</td>\n      <td>2.8</td>\n      <td>-4.06</td>\n      <td>1</td>\n    </tr>\n    <tr>\n      <th>4420</th>\n      <td>1</td>\n      <td>1</td>\n      <td>2</td>\n      <td>15</td>\n      <td>1</td>\n      <td>1</td>\n      <td>19</td>\n      <td>1</td>\n      <td>1</td>\n      <td>10</td>\n      <td>...</td>\n      <td>0</td>\n      <td>6</td>\n      <td>6</td>\n      <td>2</td>\n      <td>11.000000</td>\n      <td>0</td>\n      <td>11.1</td>\n      <td>0.6</td>\n      <td>2.02</td>\n      <td>0</td>\n    </tr>\n    <tr>\n      <th>4421</th>\n      <td>1</td>\n      <td>1</td>\n      <td>1</td>\n      <td>12</td>\n      <td>1</td>\n      <td>1</td>\n      <td>1</td>\n      <td>22</td>\n      <td>27</td>\n      <td>10</td>\n      <td>...</td>\n      <td>0</td>\n      <td>8</td>\n      <td>9</td>\n      <td>1</td>\n      <td>13.500000</td>\n      <td>0</td>\n      <td>13.9</td>\n      <td>-0.3</td>\n      <td>0.79</td>\n      <td>0</td>\n    </tr>\n    <tr>\n      <th>4422</th>\n      <td>1</td>\n      <td>1</td>\n      <td>1</td>\n      <td>9</td>\n      <td>1</td>\n      <td>1</td>\n      <td>1</td>\n      <td>22</td>\n      <td>27</td>\n      <td>8</td>\n      <td>...</td>\n      <td>0</td>\n      <td>5</td>\n      <td>6</td>\n      <td>5</td>\n      <td>12.000000</td>\n      <td>0</td>\n      <td>9.4</td>\n      <td>-0.8</td>\n      <td>-3.12</td>\n      <td>1</td>\n    </tr>\n    <tr>\n      <th>4423</th>\n      <td>1</td>\n      <td>5</td>\n      <td>1</td>\n      <td>15</td>\n      <td>1</td>\n      <td>1</td>\n      <td>9</td>\n      <td>23</td>\n      <td>27</td>\n      <td>6</td>\n      <td>...</td>\n      <td>0</td>\n      <td>6</td>\n      <td>6</td>\n      <td>6</td>\n      <td>13.000000</td>\n      <td>0</td>\n      <td>12.7</td>\n      <td>3.7</td>\n      <td>-1.70</td>\n      <td>1</td>\n    </tr>\n  </tbody>\n</table>\n<p>3630 rows × 35 columns</p>\n</div>"
     },
     "execution_count": 7,
     "metadata": {},
     "output_type": "execute_result"
    }
   ],
   "source": [
    "# Convertir les noms de caractéristiques en français\n",
    "nom_fr = {\"Marital status\": \"État civil\",\n",
    "          \"Application mode\": \"Mode d'application\",\n",
    "          \"Application order\": \"Ordre d'application\",\n",
    "          \"Course\": \"Cours\", \n",
    "          \"Daytime/evening attendance\": \"Présence jour/soir\",\n",
    "          \"Previous qualification\": \"Qualification antérieure\",\n",
    "          \"Nacionality\": \"Nationalité\",\n",
    "          \"Mother's qualification\": \"Qualification mère\",\n",
    "          \"Father's qualification\": \"Qualification père\",\n",
    "          \"Mother's occupation\": \"Occupation mère\",\n",
    "          \"Father's occupation\": \"Occupation père\",\n",
    "          \"Displaced\": \"Déplacé\",\n",
    "          \"Educational special needs\": \"Besoins éducatifs spéciaux\",\n",
    "          \"Debtor\": \"Dettes\",\n",
    "          \"Tuition fees up to date\": \"Frais de scolarité à jour\",\n",
    "          \"Gender\": \"Sexe\",\n",
    "          \"Scholarship holder\": \"Bourse\",\n",
    "          \"Age at enrollment\": \"Âge à l'inscription\",\n",
    "          \"International\": \"International\",\n",
    "          \"Curricular units 1st sem (credited)\": \"Unités curriculaires 1er semestre (créditées)\",\n",
    "          \"Curricular units 1st sem (enrolled)\": \"Unités curriculaires 1er semestre (inscrits)\",\n",
    "          \"Curricular units 1st sem (evaluations)\": \"Unités curriculaires 1er semestre (évaluations)\",\n",
    "          \"Curricular units 1st sem (approved)\": \"Unités curriculaires 1er semestre (approuvées)\",\n",
    "          \"Curricular units 1st sem (grade)\": \"Unités curriculaires 1er semestre (note)\",\n",
    "          \"Curricular units 1st sem (without evaluations)\": \"Unités curriculaires 1er semestre (sans évaluations)\",\n",
    "          \"Curricular units 2nd sem (credited)\": \"Unités curriculaires 2e semestre (créditées)\",\n",
    "          \"Curricular units 2nd sem (enrolled)\": \"Unités curriculaires 2e semestre (inscrits)\",\n",
    "          \"Curricular units 2nd sem (evaluations)\": \"Unités curriculaires 2e semestre (évaluations)\",\n",
    "          \"Curricular units 2nd sem (approved)\": \"Unités curriculaires 2e semestre (approuvées)\",\n",
    "          \"Curricular units 2nd sem (grade)\": \"Unités curriculaires 2e semestre (note)\",\n",
    "          \"Curricular units 2nd sem (without evaluations)\": \"Unités curriculaires 2e semestre (sans évaluations)\",\n",
    "          \"Unemployment rate\": \"Taux de chômage\",\n",
    "          \"Inflation rate\": \"Taux d'inflation\",\n",
    "          \"GDP\": \"PIB\",\n",
    "          \"Target\": \"Cible\"}\n",
    "\n",
    "data = data.rename(columns=nom_fr)\n",
    "data[\"Cible\"] = data[\"Cible\"].replace(\"Dropout\", 0)\n",
    "data[\"Cible\"] = data[\"Cible\"].replace(\"Graduate\", 1)\n",
    "data[\"Cible\"] = data[\"Cible\"].replace(\"Enrolled\", 2)\n",
    "\n",
    "# Retirer toutes les données où la cible est \"Inscrit\" (2)\n",
    "data = data.drop(data[data['Cible'] == 2].index)\n",
    "\n",
    "data"
   ]
  },
  {
   "cell_type": "markdown",
   "metadata": {},
   "source": [
    "## Analyse des données (Statistique)"
   ]
  },
  {
   "cell_type": "code",
   "execution_count": 8,
   "metadata": {
    "ExecuteTime": {
     "end_time": "2023-11-01T21:14:48.499860200Z",
     "start_time": "2023-11-01T21:14:47.743914700Z"
    }
   },
   "outputs": [
    {
     "name": "stdout",
     "output_type": "stream",
     "text": [
      "<class 'pandas.core.frame.DataFrame'>\n",
      "Index: 3630 entries, 0 to 4423\n",
      "Data columns (total 35 columns):\n",
      " #   Column                                                Non-Null Count  Dtype  \n",
      "---  ------                                                --------------  -----  \n",
      " 0   État civil                                            3630 non-null   int64  \n",
      " 1   Mode d'application                                    3630 non-null   int64  \n",
      " 2   Ordre d'application                                   3630 non-null   int64  \n",
      " 3   Cours                                                 3630 non-null   int64  \n",
      " 4   Présence jour/soir                                    3630 non-null   int64  \n",
      " 5   Qualification antérieure                              3630 non-null   int64  \n",
      " 6   Nationalité                                           3630 non-null   int64  \n",
      " 7   Qualification mère                                    3630 non-null   int64  \n",
      " 8   Qualification père                                    3630 non-null   int64  \n",
      " 9   Occupation mère                                       3630 non-null   int64  \n",
      " 10  Occupation père                                       3630 non-null   int64  \n",
      " 11  Déplacé                                               3630 non-null   int64  \n",
      " 12  Besoins éducatifs spéciaux                            3630 non-null   int64  \n",
      " 13  Dettes                                                3630 non-null   int64  \n",
      " 14  Frais de scolarité à jour                             3630 non-null   int64  \n",
      " 15  Sexe                                                  3630 non-null   int64  \n",
      " 16  Bourse                                                3630 non-null   int64  \n",
      " 17  Âge à l'inscription                                   3630 non-null   int64  \n",
      " 18  International                                         3630 non-null   int64  \n",
      " 19  Unités curriculaires 1er semestre (créditées)         3630 non-null   int64  \n",
      " 20  Unités curriculaires 1er semestre (inscrits)          3630 non-null   int64  \n",
      " 21  Unités curriculaires 1er semestre (évaluations)       3630 non-null   int64  \n",
      " 22  Unités curriculaires 1er semestre (approuvées)        3630 non-null   int64  \n",
      " 23  Unités curriculaires 1er semestre (note)              3630 non-null   float64\n",
      " 24  Unités curriculaires 1er semestre (sans évaluations)  3630 non-null   int64  \n",
      " 25  Unités curriculaires 2e semestre (créditées)          3630 non-null   int64  \n",
      " 26  Unités curriculaires 2e semestre (inscrits)           3630 non-null   int64  \n",
      " 27  Unités curriculaires 2e semestre (évaluations)        3630 non-null   int64  \n",
      " 28  Unités curriculaires 2e semestre (approuvées)         3630 non-null   int64  \n",
      " 29  Unités curriculaires 2e semestre (note)               3630 non-null   float64\n",
      " 30  Unités curriculaires 2e semestre (sans évaluations)   3630 non-null   int64  \n",
      " 31  Taux de chômage                                       3630 non-null   float64\n",
      " 32  Taux d'inflation                                      3630 non-null   float64\n",
      " 33  PIB                                                   3630 non-null   float64\n",
      " 34  Cible                                                 3630 non-null   int64  \n",
      "dtypes: float64(5), int64(30)\n",
      "memory usage: 1020.9 KB\n"
     ]
    }
   ],
   "source": [
    "# Observer les infos sur les données\n",
    "data.info()"
   ]
  },
  {
   "cell_type": "code",
   "execution_count": 9,
   "metadata": {
    "ExecuteTime": {
     "end_time": "2023-11-01T21:14:48.538756200Z",
     "start_time": "2023-11-01T21:14:47.769845100Z"
    }
   },
   "outputs": [
    {
     "data": {
      "text/plain": "        État civil  Mode d'application  Ordre d'application        Cours  \\\ncount  3630.000000         3630.000000          3630.000000  3630.000000   \nmean      1.184298            6.810193             1.750138     9.935537   \nstd       0.613009            5.253618             1.333831     4.340715   \nmin       1.000000            1.000000             0.000000     1.000000   \n25%       1.000000            1.000000             1.000000     6.000000   \n50%       1.000000            8.000000             1.000000    11.000000   \n75%       1.000000           12.000000             2.000000    13.000000   \nmax       6.000000           18.000000             6.000000    17.000000   \n\n       Présence jour/soir  Qualification antérieure  Nationalité  \\\ncount         3630.000000               3630.000000  3630.000000   \nmean             0.887603                  2.552617     1.242424   \nstd              0.315897                  3.952440     1.700394   \nmin              0.000000                  1.000000     1.000000   \n25%              1.000000                  1.000000     1.000000   \n50%              1.000000                  1.000000     1.000000   \n75%              1.000000                  1.000000     1.000000   \nmax              1.000000                 17.000000    21.000000   \n\n       Qualification mère  Qualification père  Occupation mère  ...  \\\ncount         3630.000000         3630.000000      3630.000000  ...   \nmean            12.558678           16.663636         7.212948  ...   \nstd              9.006183           10.993025         3.707343  ...   \nmin              1.000000            1.000000         1.000000  ...   \n25%              2.000000            3.000000         5.000000  ...   \n50%             13.000000           14.000000         6.000000  ...   \n75%             22.000000           27.000000        10.000000  ...   \nmax             29.000000           34.000000        32.000000  ...   \n\n       Unités curriculaires 2e semestre (créditées)  \\\ncount                                   3630.000000   \nmean                                       0.581818   \nstd                                        2.022688   \nmin                                        0.000000   \n25%                                        0.000000   \n50%                                        0.000000   \n75%                                        0.000000   \nmax                                       19.000000   \n\n       Unités curriculaires 2e semestre (inscrits)  \\\ncount                                  3630.000000   \nmean                                      6.296419   \nstd                                       2.263020   \nmin                                       0.000000   \n25%                                       5.000000   \n50%                                       6.000000   \n75%                                       7.000000   \nmax                                      23.000000   \n\n       Unités curriculaires 2e semestre (évaluations)  \\\ncount                                     3630.000000   \nmean                                         7.763085   \nstd                                          3.964163   \nmin                                          0.000000   \n25%                                          6.000000   \n50%                                          8.000000   \n75%                                         10.000000   \nmax                                         33.000000   \n\n       Unités curriculaires 2e semestre (approuvées)  \\\ncount                                    3630.000000   \nmean                                        4.518457   \nstd                                         3.162376   \nmin                                         0.000000   \n25%                                         2.000000   \n50%                                         5.000000   \n75%                                         6.000000   \nmax                                        20.000000   \n\n       Unités curriculaires 2e semestre (note)  \\\ncount                              3630.000000   \nmean                                 10.036155   \nstd                                   5.481742   \nmin                                   0.000000   \n25%                                  10.517857   \n50%                                  12.333333   \n75%                                  13.500000   \nmax                                  18.571429   \n\n       Unités curriculaires 2e semestre (sans évaluations)  Taux de chômage  \\\ncount                                        3630.000000        3630.000000   \nmean                                            0.142149          11.630358   \nstd                                             0.747670           2.667652   \nmin                                             0.000000           7.600000   \n25%                                             0.000000           9.400000   \n50%                                             0.000000          11.100000   \n75%                                             0.000000          13.900000   \nmax                                            12.000000          16.200000   \n\n       Taux d'inflation          PIB        Cible  \ncount       3630.000000  3630.000000  3630.000000  \nmean           1.231598    -0.009256     0.608540  \nstd            1.384911     2.259986     0.488144  \nmin           -0.800000    -4.060000     0.000000  \n25%            0.300000    -1.700000     0.000000  \n50%            1.400000     0.320000     1.000000  \n75%            2.600000     1.790000     1.000000  \nmax            3.700000     3.510000     1.000000  \n\n[8 rows x 35 columns]",
      "text/html": "<div>\n<style scoped>\n    .dataframe tbody tr th:only-of-type {\n        vertical-align: middle;\n    }\n\n    .dataframe tbody tr th {\n        vertical-align: top;\n    }\n\n    .dataframe thead th {\n        text-align: right;\n    }\n</style>\n<table border=\"1\" class=\"dataframe\">\n  <thead>\n    <tr style=\"text-align: right;\">\n      <th></th>\n      <th>État civil</th>\n      <th>Mode d'application</th>\n      <th>Ordre d'application</th>\n      <th>Cours</th>\n      <th>Présence jour/soir</th>\n      <th>Qualification antérieure</th>\n      <th>Nationalité</th>\n      <th>Qualification mère</th>\n      <th>Qualification père</th>\n      <th>Occupation mère</th>\n      <th>...</th>\n      <th>Unités curriculaires 2e semestre (créditées)</th>\n      <th>Unités curriculaires 2e semestre (inscrits)</th>\n      <th>Unités curriculaires 2e semestre (évaluations)</th>\n      <th>Unités curriculaires 2e semestre (approuvées)</th>\n      <th>Unités curriculaires 2e semestre (note)</th>\n      <th>Unités curriculaires 2e semestre (sans évaluations)</th>\n      <th>Taux de chômage</th>\n      <th>Taux d'inflation</th>\n      <th>PIB</th>\n      <th>Cible</th>\n    </tr>\n  </thead>\n  <tbody>\n    <tr>\n      <th>count</th>\n      <td>3630.000000</td>\n      <td>3630.000000</td>\n      <td>3630.000000</td>\n      <td>3630.000000</td>\n      <td>3630.000000</td>\n      <td>3630.000000</td>\n      <td>3630.000000</td>\n      <td>3630.000000</td>\n      <td>3630.000000</td>\n      <td>3630.000000</td>\n      <td>...</td>\n      <td>3630.000000</td>\n      <td>3630.000000</td>\n      <td>3630.000000</td>\n      <td>3630.000000</td>\n      <td>3630.000000</td>\n      <td>3630.000000</td>\n      <td>3630.000000</td>\n      <td>3630.000000</td>\n      <td>3630.000000</td>\n      <td>3630.000000</td>\n    </tr>\n    <tr>\n      <th>mean</th>\n      <td>1.184298</td>\n      <td>6.810193</td>\n      <td>1.750138</td>\n      <td>9.935537</td>\n      <td>0.887603</td>\n      <td>2.552617</td>\n      <td>1.242424</td>\n      <td>12.558678</td>\n      <td>16.663636</td>\n      <td>7.212948</td>\n      <td>...</td>\n      <td>0.581818</td>\n      <td>6.296419</td>\n      <td>7.763085</td>\n      <td>4.518457</td>\n      <td>10.036155</td>\n      <td>0.142149</td>\n      <td>11.630358</td>\n      <td>1.231598</td>\n      <td>-0.009256</td>\n      <td>0.608540</td>\n    </tr>\n    <tr>\n      <th>std</th>\n      <td>0.613009</td>\n      <td>5.253618</td>\n      <td>1.333831</td>\n      <td>4.340715</td>\n      <td>0.315897</td>\n      <td>3.952440</td>\n      <td>1.700394</td>\n      <td>9.006183</td>\n      <td>10.993025</td>\n      <td>3.707343</td>\n      <td>...</td>\n      <td>2.022688</td>\n      <td>2.263020</td>\n      <td>3.964163</td>\n      <td>3.162376</td>\n      <td>5.481742</td>\n      <td>0.747670</td>\n      <td>2.667652</td>\n      <td>1.384911</td>\n      <td>2.259986</td>\n      <td>0.488144</td>\n    </tr>\n    <tr>\n      <th>min</th>\n      <td>1.000000</td>\n      <td>1.000000</td>\n      <td>0.000000</td>\n      <td>1.000000</td>\n      <td>0.000000</td>\n      <td>1.000000</td>\n      <td>1.000000</td>\n      <td>1.000000</td>\n      <td>1.000000</td>\n      <td>1.000000</td>\n      <td>...</td>\n      <td>0.000000</td>\n      <td>0.000000</td>\n      <td>0.000000</td>\n      <td>0.000000</td>\n      <td>0.000000</td>\n      <td>0.000000</td>\n      <td>7.600000</td>\n      <td>-0.800000</td>\n      <td>-4.060000</td>\n      <td>0.000000</td>\n    </tr>\n    <tr>\n      <th>25%</th>\n      <td>1.000000</td>\n      <td>1.000000</td>\n      <td>1.000000</td>\n      <td>6.000000</td>\n      <td>1.000000</td>\n      <td>1.000000</td>\n      <td>1.000000</td>\n      <td>2.000000</td>\n      <td>3.000000</td>\n      <td>5.000000</td>\n      <td>...</td>\n      <td>0.000000</td>\n      <td>5.000000</td>\n      <td>6.000000</td>\n      <td>2.000000</td>\n      <td>10.517857</td>\n      <td>0.000000</td>\n      <td>9.400000</td>\n      <td>0.300000</td>\n      <td>-1.700000</td>\n      <td>0.000000</td>\n    </tr>\n    <tr>\n      <th>50%</th>\n      <td>1.000000</td>\n      <td>8.000000</td>\n      <td>1.000000</td>\n      <td>11.000000</td>\n      <td>1.000000</td>\n      <td>1.000000</td>\n      <td>1.000000</td>\n      <td>13.000000</td>\n      <td>14.000000</td>\n      <td>6.000000</td>\n      <td>...</td>\n      <td>0.000000</td>\n      <td>6.000000</td>\n      <td>8.000000</td>\n      <td>5.000000</td>\n      <td>12.333333</td>\n      <td>0.000000</td>\n      <td>11.100000</td>\n      <td>1.400000</td>\n      <td>0.320000</td>\n      <td>1.000000</td>\n    </tr>\n    <tr>\n      <th>75%</th>\n      <td>1.000000</td>\n      <td>12.000000</td>\n      <td>2.000000</td>\n      <td>13.000000</td>\n      <td>1.000000</td>\n      <td>1.000000</td>\n      <td>1.000000</td>\n      <td>22.000000</td>\n      <td>27.000000</td>\n      <td>10.000000</td>\n      <td>...</td>\n      <td>0.000000</td>\n      <td>7.000000</td>\n      <td>10.000000</td>\n      <td>6.000000</td>\n      <td>13.500000</td>\n      <td>0.000000</td>\n      <td>13.900000</td>\n      <td>2.600000</td>\n      <td>1.790000</td>\n      <td>1.000000</td>\n    </tr>\n    <tr>\n      <th>max</th>\n      <td>6.000000</td>\n      <td>18.000000</td>\n      <td>6.000000</td>\n      <td>17.000000</td>\n      <td>1.000000</td>\n      <td>17.000000</td>\n      <td>21.000000</td>\n      <td>29.000000</td>\n      <td>34.000000</td>\n      <td>32.000000</td>\n      <td>...</td>\n      <td>19.000000</td>\n      <td>23.000000</td>\n      <td>33.000000</td>\n      <td>20.000000</td>\n      <td>18.571429</td>\n      <td>12.000000</td>\n      <td>16.200000</td>\n      <td>3.700000</td>\n      <td>3.510000</td>\n      <td>1.000000</td>\n    </tr>\n  </tbody>\n</table>\n<p>8 rows × 35 columns</p>\n</div>"
     },
     "execution_count": 9,
     "metadata": {},
     "output_type": "execute_result"
    }
   ],
   "source": [
    "# Observer la description des données\n",
    "data.describe()"
   ]
  },
  {
   "cell_type": "markdown",
   "metadata": {},
   "source": [
    "### Données démographiques"
   ]
  },
  {
   "cell_type": "markdown",
   "metadata": {},
   "source": [
    "`État civil`"
   ]
  },
  {
   "cell_type": "code",
   "execution_count": 10,
   "metadata": {
    "ExecuteTime": {
     "end_time": "2023-11-01T21:14:48.906281100Z",
     "start_time": "2023-11-01T21:14:47.875562900Z"
    }
   },
   "outputs": [
    {
     "data": {
      "text/plain": "<Figure size 1200x900 with 1 Axes>",
      "image/png": "[encoded data removed]"
     },
     "metadata": {},
     "output_type": "display_data"
    },
    {
     "name": "stdout",
     "output_type": "stream",
     "text": [
      "Informations intéressantes sur les données de la colonne État civil :\n",
      "-------------------------------------------------------------------\n",
      "count    3630.000000\n",
      "mean        1.184298\n",
      "std         0.613009\n",
      "min         1.000000\n",
      "25%         1.000000\n",
      "50%         1.000000\n",
      "75%         1.000000\n",
      "max         6.000000\n",
      "Name: État civil, dtype: float64\n",
      "\n",
      "\n",
      "Valeurs majoritaire de la colonne (État civil) :\n",
      "------------------------------------------------\n"
     ]
    },
    {
     "ename": "KeyError",
     "evalue": "'État civil'",
     "output_type": "error",
     "traceback": [
      "\u001B[1;31m---------------------------------------------------------------------------\u001B[0m",
      "\u001B[1;31mKeyError\u001B[0m                                  Traceback (most recent call last)",
      "Cell \u001B[1;32mIn[10], line 1\u001B[0m\n\u001B[1;32m----> 1\u001B[0m \u001B[43manalyse_stats_donnee\u001B[49m\u001B[43m(\u001B[49m\u001B[43mdata\u001B[49m\u001B[43m,\u001B[49m\u001B[43m \u001B[49m\u001B[38;5;124;43m\"\u001B[39;49m\u001B[38;5;124;43mÉtat civil\u001B[39;49m\u001B[38;5;124;43m\"\u001B[39;49m\u001B[43m,\u001B[49m\u001B[43m \u001B[49m\u001B[38;5;124;43m\"\u001B[39;49m\u001B[38;5;124;43mCatégorique\u001B[39;49m\u001B[38;5;124;43m\"\u001B[39;49m\u001B[43m)\u001B[49m\n",
      "Cell \u001B[1;32mIn[5], line 34\u001B[0m, in \u001B[0;36manalyse_stats_donnee\u001B[1;34m(donnee, colonne, type)\u001B[0m\n\u001B[0;32m     32\u001B[0m top_val \u001B[38;5;241m=\u001B[39m donnee[colonne]\u001B[38;5;241m.\u001B[39mvalue_counts()\u001B[38;5;241m.\u001B[39miloc[:\u001B[38;5;241m3\u001B[39m]\u001B[38;5;241m.\u001B[39mvalues\n\u001B[0;32m     33\u001B[0m \u001B[38;5;28;01mif\u001B[39;00m \u001B[38;5;28mtype\u001B[39m \u001B[38;5;241m==\u001B[39m \u001B[38;5;124m\"\u001B[39m\u001B[38;5;124mCatégorique\u001B[39m\u001B[38;5;124m\"\u001B[39m:\n\u001B[1;32m---> 34\u001B[0m     \u001B[38;5;28mprint\u001B[39m(\u001B[38;5;124mf\u001B[39m\u001B[38;5;124m\"\u001B[39m\u001B[38;5;132;01m{\u001B[39;00mdonnee_info[colonne][\u001B[38;5;28mstr\u001B[39m(top_index[\u001B[38;5;241m0\u001B[39m])]\u001B[38;5;132;01m}\u001B[39;00m\u001B[38;5;124m (\u001B[39m\u001B[38;5;132;01m{\u001B[39;00mtop_index[\u001B[38;5;241m0\u001B[39m]\u001B[38;5;132;01m}\u001B[39;00m\u001B[38;5;124m) : \u001B[39m\u001B[38;5;132;01m{\u001B[39;00mtop_val[\u001B[38;5;241m0\u001B[39m]\u001B[38;5;132;01m}\u001B[39;00m\u001B[38;5;124m (\u001B[39m\u001B[38;5;132;01m{\u001B[39;00m(top_val[\u001B[38;5;241m0\u001B[39m]\u001B[38;5;250m \u001B[39m\u001B[38;5;241m/\u001B[39m\u001B[38;5;250m \u001B[39mdonnee[colonne]\u001B[38;5;241m.\u001B[39msize)\u001B[38;5;241m*\u001B[39m\u001B[38;5;241m100\u001B[39m\u001B[38;5;132;01m:\u001B[39;00m\u001B[38;5;124m.2f\u001B[39m\u001B[38;5;132;01m}\u001B[39;00m\u001B[38;5;124m%)\u001B[39m\u001B[38;5;124m\"\u001B[39m)\n\u001B[0;32m     35\u001B[0m     \u001B[38;5;28mprint\u001B[39m(\u001B[38;5;124mf\u001B[39m\u001B[38;5;124m\"\u001B[39m\u001B[38;5;132;01m{\u001B[39;00mdonnee_info[colonne][\u001B[38;5;28mstr\u001B[39m(top_index[\u001B[38;5;241m1\u001B[39m])]\u001B[38;5;132;01m}\u001B[39;00m\u001B[38;5;124m (\u001B[39m\u001B[38;5;132;01m{\u001B[39;00mtop_index[\u001B[38;5;241m1\u001B[39m]\u001B[38;5;132;01m}\u001B[39;00m\u001B[38;5;124m) : \u001B[39m\u001B[38;5;132;01m{\u001B[39;00mtop_val[\u001B[38;5;241m1\u001B[39m]\u001B[38;5;132;01m}\u001B[39;00m\u001B[38;5;124m (\u001B[39m\u001B[38;5;132;01m{\u001B[39;00m(top_val[\u001B[38;5;241m1\u001B[39m]\u001B[38;5;250m \u001B[39m\u001B[38;5;241m/\u001B[39m\u001B[38;5;250m \u001B[39mdonnee[colonne]\u001B[38;5;241m.\u001B[39msize)\u001B[38;5;241m*\u001B[39m\u001B[38;5;241m100\u001B[39m\u001B[38;5;132;01m:\u001B[39;00m\u001B[38;5;124m.2f\u001B[39m\u001B[38;5;132;01m}\u001B[39;00m\u001B[38;5;124m%)\u001B[39m\u001B[38;5;124m\"\u001B[39m)\n\u001B[0;32m     36\u001B[0m     \u001B[38;5;28mprint\u001B[39m(\u001B[38;5;124mf\u001B[39m\u001B[38;5;124m\"\u001B[39m\u001B[38;5;132;01m{\u001B[39;00mdonnee_info[colonne][\u001B[38;5;28mstr\u001B[39m(top_index[\u001B[38;5;241m2\u001B[39m])]\u001B[38;5;132;01m}\u001B[39;00m\u001B[38;5;124m (\u001B[39m\u001B[38;5;132;01m{\u001B[39;00mtop_index[\u001B[38;5;241m2\u001B[39m]\u001B[38;5;132;01m}\u001B[39;00m\u001B[38;5;124m) : \u001B[39m\u001B[38;5;132;01m{\u001B[39;00mtop_val[\u001B[38;5;241m2\u001B[39m]\u001B[38;5;132;01m}\u001B[39;00m\u001B[38;5;124m (\u001B[39m\u001B[38;5;132;01m{\u001B[39;00m(top_val[\u001B[38;5;241m2\u001B[39m]\u001B[38;5;250m \u001B[39m\u001B[38;5;241m/\u001B[39m\u001B[38;5;250m \u001B[39mdonnee[colonne]\u001B[38;5;241m.\u001B[39msize)\u001B[38;5;241m*\u001B[39m\u001B[38;5;241m100\u001B[39m\u001B[38;5;132;01m:\u001B[39;00m\u001B[38;5;124m.2f\u001B[39m\u001B[38;5;132;01m}\u001B[39;00m\u001B[38;5;124m%)\u001B[39m\u001B[38;5;124m\"\u001B[39m)\n",
      "\u001B[1;31mKeyError\u001B[0m: 'État civil'"
     ]
    }
   ],
   "source": [
    "analyse_stats_donnee(data, \"État civil\", \"Catégorique\")"
   ]
  },
  {
   "cell_type": "markdown",
   "metadata": {},
   "source": [
    "`Nationalité`"
   ]
  },
  {
   "cell_type": "code",
   "execution_count": null,
   "metadata": {
    "ExecuteTime": {
     "start_time": "2023-11-01T21:14:48.674394Z"
    }
   },
   "outputs": [],
   "source": [
    "analyse_stats_donnee(data, \"Nationalité\", \"Catégorique\")"
   ]
  },
  {
   "cell_type": "markdown",
   "metadata": {},
   "source": [
    "`Déplacé`"
   ]
  },
  {
   "cell_type": "code",
   "execution_count": null,
   "metadata": {
    "ExecuteTime": {
     "start_time": "2023-11-01T21:14:48.676388800Z"
    }
   },
   "outputs": [],
   "source": [
    "analyse_stats_donnee(data, \"Déplacé\", \"Catégorique\")"
   ]
  },
  {
   "cell_type": "markdown",
   "metadata": {},
   "source": [
    "`Sexe`"
   ]
  },
  {
   "cell_type": "code",
   "execution_count": null,
   "metadata": {
    "ExecuteTime": {
     "start_time": "2023-11-01T21:14:48.679380900Z"
    }
   },
   "outputs": [],
   "source": [
    "analyse_stats_donnee(data, \"Sexe\", \"Catégorique\")"
   ]
  },
  {
   "cell_type": "markdown",
   "metadata": {},
   "source": [
    "`Âge à l'inscription`\n",
    "\n",
    "Il est possible d'observer que l'âge à l'inscription est majoritairement entre 17 et 23 ans."
   ]
  },
  {
   "cell_type": "code",
   "execution_count": null,
   "metadata": {
    "ExecuteTime": {
     "start_time": "2023-11-01T21:14:48.682373500Z"
    }
   },
   "outputs": [],
   "source": [
    "analyse_stats_donnee(data, \"Âge à l'inscription\", \"Numérique\")"
   ]
  },
  {
   "cell_type": "markdown",
   "metadata": {},
   "source": [
    "`International`"
   ]
  },
  {
   "cell_type": "code",
   "execution_count": null,
   "metadata": {
    "ExecuteTime": {
     "start_time": "2023-11-01T21:14:48.685365Z"
    }
   },
   "outputs": [],
   "source": [
    "analyse_stats_donnee(data, \"International\", \"Catégorique\")"
   ]
  },
  {
   "cell_type": "markdown",
   "metadata": {},
   "source": [
    "### Données socioéconomiques"
   ]
  },
  {
   "cell_type": "markdown",
   "metadata": {},
   "source": [
    "`Qualification père`"
   ]
  },
  {
   "cell_type": "code",
   "execution_count": null,
   "metadata": {
    "ExecuteTime": {
     "start_time": "2023-11-01T21:14:48.687359500Z"
    }
   },
   "outputs": [],
   "source": [
    "analyse_stats_donnee(data, \"Qualification père\", \"Catégorique\")"
   ]
  },
  {
   "cell_type": "markdown",
   "metadata": {},
   "source": [
    "`Qualification mère`"
   ]
  },
  {
   "cell_type": "code",
   "execution_count": null,
   "metadata": {
    "ExecuteTime": {
     "start_time": "2023-11-01T21:14:48.690351500Z"
    }
   },
   "outputs": [],
   "source": [
    "analyse_stats_donnee(data, \"Qualification mère\", \"Catégorique\")"
   ]
  },
  {
   "cell_type": "markdown",
   "metadata": {},
   "source": [
    "`Occupation père`"
   ]
  },
  {
   "cell_type": "code",
   "execution_count": null,
   "metadata": {
    "ExecuteTime": {
     "start_time": "2023-11-01T21:14:48.693344300Z"
    }
   },
   "outputs": [],
   "source": [
    "analyse_stats_donnee(data, \"Occupation père\", \"Catégorique\")"
   ]
  },
  {
   "cell_type": "markdown",
   "metadata": {},
   "source": [
    "`Occupation mère`"
   ]
  },
  {
   "cell_type": "code",
   "execution_count": null,
   "metadata": {
    "ExecuteTime": {
     "start_time": "2023-11-01T21:14:48.697332600Z"
    }
   },
   "outputs": [],
   "source": [
    "analyse_stats_donnee(data, \"Occupation mère\", \"Catégorique\")"
   ]
  },
  {
   "cell_type": "markdown",
   "metadata": {},
   "source": [
    "`Besoins éducatifs spéciaux`"
   ]
  },
  {
   "cell_type": "code",
   "execution_count": null,
   "metadata": {
    "ExecuteTime": {
     "start_time": "2023-11-01T21:14:48.699327Z"
    }
   },
   "outputs": [],
   "source": [
    "analyse_stats_donnee(data, \"Besoins éducatifs spéciaux\", \"Catégorique\")"
   ]
  },
  {
   "cell_type": "markdown",
   "metadata": {},
   "source": [
    "`Dettes`"
   ]
  },
  {
   "cell_type": "code",
   "execution_count": null,
   "metadata": {
    "ExecuteTime": {
     "start_time": "2023-11-01T21:14:48.702319500Z"
    }
   },
   "outputs": [],
   "source": [
    "analyse_stats_donnee(data, \"Dettes\", \"Catégorique\")"
   ]
  },
  {
   "cell_type": "markdown",
   "metadata": {},
   "source": [
    "`Frais de scolarité à jour`"
   ]
  },
  {
   "cell_type": "code",
   "execution_count": null,
   "metadata": {
    "ExecuteTime": {
     "start_time": "2023-11-01T21:14:48.704314800Z"
    }
   },
   "outputs": [],
   "source": [
    "analyse_stats_donnee(data, \"Frais de scolarité à jour\", \"Catégorique\")"
   ]
  },
  {
   "cell_type": "markdown",
   "metadata": {},
   "source": [
    "`Bourse`"
   ]
  },
  {
   "cell_type": "code",
   "execution_count": null,
   "metadata": {
    "ExecuteTime": {
     "start_time": "2023-11-01T21:14:48.707306300Z"
    }
   },
   "outputs": [],
   "source": [
    "analyse_stats_donnee(data, \"Bourse\", \"Catégorique\")"
   ]
  },
  {
   "cell_type": "markdown",
   "metadata": {},
   "source": [
    "### Données macroéconomiques"
   ]
  },
  {
   "cell_type": "markdown",
   "metadata": {},
   "source": [
    "`Taux de chômage`"
   ]
  },
  {
   "cell_type": "code",
   "execution_count": null,
   "metadata": {
    "ExecuteTime": {
     "start_time": "2023-11-01T21:14:48.710298600Z"
    }
   },
   "outputs": [],
   "source": [
    "analyse_stats_donnee(data, \"Taux de chômage\", \"Numérique\")"
   ]
  },
  {
   "cell_type": "markdown",
   "metadata": {},
   "source": [
    "`Taux d'inflation`"
   ]
  },
  {
   "cell_type": "code",
   "execution_count": null,
   "metadata": {
    "ExecuteTime": {
     "start_time": "2023-11-01T21:14:48.713291Z"
    }
   },
   "outputs": [],
   "source": [
    "analyse_stats_donnee(data, \"Taux d'inflation\", \"Numérique\")"
   ]
  },
  {
   "cell_type": "markdown",
   "metadata": {},
   "source": [
    "`PIB`"
   ]
  },
  {
   "cell_type": "code",
   "execution_count": null,
   "metadata": {
    "ExecuteTime": {
     "start_time": "2023-11-01T21:14:48.716281900Z"
    }
   },
   "outputs": [],
   "source": [
    "analyse_stats_donnee(data, \"PIB\", \"Numérique\")"
   ]
  },
  {
   "cell_type": "markdown",
   "metadata": {},
   "source": [
    "### Données académiques lors de l’inscription"
   ]
  },
  {
   "cell_type": "markdown",
   "metadata": {},
   "source": [
    "`Mode d'application`"
   ]
  },
  {
   "cell_type": "code",
   "execution_count": null,
   "metadata": {
    "ExecuteTime": {
     "start_time": "2023-11-01T21:14:48.720271300Z"
    }
   },
   "outputs": [],
   "source": [
    "analyse_stats_donnee(data, \"Mode d'application\", \"Catégorique\")"
   ]
  },
  {
   "cell_type": "markdown",
   "metadata": {},
   "source": [
    "`Ordre d'application`"
   ]
  },
  {
   "cell_type": "code",
   "execution_count": null,
   "metadata": {
    "ExecuteTime": {
     "start_time": "2023-11-01T21:14:48.723263400Z"
    }
   },
   "outputs": [],
   "source": [
    "analyse_stats_donnee(data, \"Ordre d'application\", \"Numérique\")"
   ]
  },
  {
   "cell_type": "markdown",
   "metadata": {},
   "source": [
    "`Cours`"
   ]
  },
  {
   "cell_type": "code",
   "execution_count": null,
   "metadata": {
    "ExecuteTime": {
     "start_time": "2023-11-01T21:14:48.724260300Z"
    }
   },
   "outputs": [],
   "source": [
    "analyse_stats_donnee(data, \"Cours\", \"Catégorique\")"
   ]
  },
  {
   "cell_type": "markdown",
   "metadata": {},
   "source": [
    "`Présence jour/soir`"
   ]
  },
  {
   "cell_type": "code",
   "execution_count": null,
   "metadata": {
    "ExecuteTime": {
     "start_time": "2023-11-01T21:14:48.726255400Z"
    }
   },
   "outputs": [],
   "source": [
    "analyse_stats_donnee(data, \"Présence jour/soir\", \"Catégorique\")"
   ]
  },
  {
   "cell_type": "markdown",
   "metadata": {},
   "source": [
    "`Qualification antérieure`"
   ]
  },
  {
   "cell_type": "code",
   "execution_count": null,
   "metadata": {
    "ExecuteTime": {
     "start_time": "2023-11-01T21:14:48.728250400Z"
    }
   },
   "outputs": [],
   "source": [
    "analyse_stats_donnee(data, \"Qualification antérieure\", \"Catégorique\")"
   ]
  },
  {
   "cell_type": "markdown",
   "metadata": {},
   "source": [
    "### Données académiques à la fin du premier semestre"
   ]
  },
  {
   "cell_type": "markdown",
   "metadata": {},
   "source": [
    "`Unités curriculaires 1er semestre (créditées)`"
   ]
  },
  {
   "cell_type": "code",
   "execution_count": null,
   "metadata": {
    "ExecuteTime": {
     "start_time": "2023-11-01T21:14:48.729246900Z"
    }
   },
   "outputs": [],
   "source": [
    "analyse_stats_donnee(data, \"Unités curriculaires 1er semestre (créditées)\", \"Numérique\")"
   ]
  },
  {
   "cell_type": "markdown",
   "metadata": {},
   "source": [
    "`Unités curriculaires 1er semestre (inscrits)`"
   ]
  },
  {
   "cell_type": "code",
   "execution_count": null,
   "metadata": {
    "ExecuteTime": {
     "start_time": "2023-11-01T21:14:48.731241500Z"
    }
   },
   "outputs": [],
   "source": [
    "analyse_stats_donnee(data, \"Unités curriculaires 1er semestre (inscrits)\", \"Numérique\")"
   ]
  },
  {
   "cell_type": "markdown",
   "metadata": {},
   "source": [
    "`Unités curriculaires 1er semestre (évaluations)`"
   ]
  },
  {
   "cell_type": "code",
   "execution_count": null,
   "metadata": {
    "ExecuteTime": {
     "start_time": "2023-11-01T21:14:48.733236300Z"
    }
   },
   "outputs": [],
   "source": [
    "analyse_stats_donnee(data, \"Unités curriculaires 1er semestre (évaluations)\", \"Numérique\")"
   ]
  },
  {
   "cell_type": "markdown",
   "metadata": {},
   "source": [
    "`Unités curriculaires 1er semestre (approuvées)`"
   ]
  },
  {
   "cell_type": "code",
   "execution_count": null,
   "metadata": {
    "ExecuteTime": {
     "start_time": "2023-11-01T21:14:48.735231400Z"
    }
   },
   "outputs": [],
   "source": [
    "analyse_stats_donnee(data, \"Unités curriculaires 1er semestre (approuvées)\", \"Numérique\")"
   ]
  },
  {
   "cell_type": "markdown",
   "metadata": {},
   "source": [
    "`Unités curriculaires 1er semestre (note)`"
   ]
  },
  {
   "cell_type": "code",
   "execution_count": null,
   "metadata": {
    "ExecuteTime": {
     "start_time": "2023-11-01T21:14:48.737226200Z"
    }
   },
   "outputs": [],
   "source": [
    "analyse_stats_donnee(data, \"Unités curriculaires 1er semestre (note)\", \"Numérique\")"
   ]
  },
  {
   "cell_type": "markdown",
   "metadata": {},
   "source": [
    "`Unités curriculaires 1er semestre (sans évaluations)`"
   ]
  },
  {
   "cell_type": "code",
   "execution_count": null,
   "metadata": {
    "ExecuteTime": {
     "start_time": "2023-11-01T21:14:48.739221100Z"
    }
   },
   "outputs": [],
   "source": [
    "analyse_stats_donnee(data, \"Unités curriculaires 1er semestre (sans évaluations)\", \"Numérique\")"
   ]
  },
  {
   "cell_type": "markdown",
   "metadata": {},
   "source": [
    "### Données académiques à la fin du deuxième semestre"
   ]
  },
  {
   "cell_type": "markdown",
   "metadata": {},
   "source": [
    "`Unités curriculaires 2e semestre (créditées)`"
   ]
  },
  {
   "cell_type": "code",
   "execution_count": null,
   "metadata": {
    "ExecuteTime": {
     "start_time": "2023-11-01T21:14:48.741215300Z"
    }
   },
   "outputs": [],
   "source": [
    "analyse_stats_donnee(data, \"Unités curriculaires 2e semestre (créditées)\", \"Numérique\")"
   ]
  },
  {
   "cell_type": "markdown",
   "metadata": {},
   "source": [
    "`Unités curriculaires 2e semestre (inscrits)`"
   ]
  },
  {
   "cell_type": "code",
   "execution_count": null,
   "metadata": {
    "ExecuteTime": {
     "start_time": "2023-11-01T21:14:48.743209800Z"
    }
   },
   "outputs": [],
   "source": [
    "analyse_stats_donnee(data, \"Unités curriculaires 2e semestre (inscrits)\", \"Numérique\")"
   ]
  },
  {
   "cell_type": "markdown",
   "metadata": {},
   "source": [
    "`Unités curriculaires 2e semestre (évaluations)`"
   ]
  },
  {
   "cell_type": "code",
   "execution_count": null,
   "metadata": {
    "ExecuteTime": {
     "start_time": "2023-11-01T21:14:48.744207300Z"
    }
   },
   "outputs": [],
   "source": [
    "analyse_stats_donnee(data, \"Unités curriculaires 2e semestre (évaluations)\", \"Numérique\")"
   ]
  },
  {
   "cell_type": "markdown",
   "metadata": {},
   "source": [
    "`Unités curriculaires 2e semestre (approuvées)`"
   ]
  },
  {
   "cell_type": "code",
   "execution_count": null,
   "metadata": {
    "ExecuteTime": {
     "start_time": "2023-11-01T21:14:48.746201500Z"
    }
   },
   "outputs": [],
   "source": [
    "analyse_stats_donnee(data, \"Unités curriculaires 2e semestre (approuvées)\", \"Numérique\")"
   ]
  },
  {
   "cell_type": "markdown",
   "metadata": {},
   "source": [
    "`Unités curriculaires 2e semestre (note)`"
   ]
  },
  {
   "cell_type": "code",
   "execution_count": null,
   "metadata": {
    "ExecuteTime": {
     "start_time": "2023-11-01T21:14:48.748196800Z"
    }
   },
   "outputs": [],
   "source": [
    "analyse_stats_donnee(data, \"Unités curriculaires 2e semestre (note)\", \"Numérique\")"
   ]
  },
  {
   "cell_type": "markdown",
   "metadata": {},
   "source": [
    "`Unités curriculaires 2e semestre (sans évaluations)`"
   ]
  },
  {
   "cell_type": "code",
   "execution_count": null,
   "metadata": {
    "ExecuteTime": {
     "start_time": "2023-11-01T21:14:48.751188900Z"
    }
   },
   "outputs": [],
   "source": [
    "analyse_stats_donnee(data, \"Unités curriculaires 2e semestre (sans évaluations)\", \"Numérique\")"
   ]
  },
  {
   "cell_type": "markdown",
   "metadata": {},
   "source": [
    "### Données Cible"
   ]
  },
  {
   "cell_type": "code",
   "execution_count": null,
   "metadata": {
    "ExecuteTime": {
     "start_time": "2023-11-01T21:14:48.753183500Z"
    }
   },
   "outputs": [],
   "source": [
    "analyse_stats_donnee(data, \"Cible\", \"Catégorique\")"
   ]
  },
  {
   "cell_type": "code",
   "execution_count": null,
   "metadata": {
    "ExecuteTime": {
     "start_time": "2023-11-01T21:14:48.755178Z"
    }
   },
   "outputs": [],
   "source": []
  }
 ],
 "metadata": {
  "kernelspec": {
   "display_name": "Python 3 (ipykernel)",
   "language": "python",
   "name": "python3"
  },
  "language_info": {
   "codemirror_mode": {
    "name": "ipython",
    "version": 3
   },
   "file_extension": ".py",
   "mimetype": "text/x-python",
   "name": "python",
   "nbconvert_exporter": "python",
   "pygments_lexer": "ipython3",
   "version": "3.10.12"
  }
 },
 "nbformat": 4,
 "nbformat_minor": 4
}
