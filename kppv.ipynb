{
 "cells": [
  {
   "cell_type": "code",
   "execution_count": null,
   "metadata": {},
   "outputs": [],
   "source": [
    "from basic_fixture import *\n",
    "from util import evaluate_classifier\n",
    "\n",
    "import time\n",
    "import pandas as pd\n",
    "import numpy as np\n",
    "import matplotlib.pyplot as plt\n",
    "import seaborn as sns\n",
    "\n",
    "from sklearn import metrics\n",
    "from sklearn import preprocessing\n",
    "from sklearn.neighbors import KNeighborsClassifier\n",
    "from sklearn.metrics import classification_report\n",
    "from sklearn.model_selection import train_test_split\n",
    "from sklearn.metrics import roc_auc_score\n",
    "from sklearn.model_selection import GridSearchCV\n",
    "from sklearn.feature_selection import chi2, SelectKBest, f_classif\n",
    "\n",
    "data, target = Dataset().get_data()\n",
    "x_train, x_test, y_train, y_test = train_test_split(\n",
    "        data, target, test_size=0.3, random_state=4)\n"
   ]
  },
  {
   "cell_type": "markdown",
   "metadata": {},
   "source": [
    "### Feature selection\n",
    "Let's test what inputs has the most impact on the outcome for a few values of K"
   ]
  },
  {
   "cell_type": "code",
   "execution_count": null,
   "metadata": {},
   "outputs": [],
   "source": [
    "desired_features_cnt = 5\n",
    "\n",
    "ft = SelectKBest(f_classif, k=desired_features_cnt).fit(x_train, y_train)\n",
    "ft_np = np.array(ft.scores_)\n",
    "max_elements_ind = np.argpartition(ft_np, -desired_features_cnt)[-desired_features_cnt:]\n",
    "top = x_train.columns[max_elements_ind]\n",
    "\n",
    "print(f'most important inputs : {x_train.columns[max_elements_ind[np.argsort(ft_np[max_elements_ind])[::-1]]]}')"
   ]
  },
  {
   "cell_type": "markdown",
   "metadata": {},
   "source": [
    "### Finding a good range for K\n",
    "Testing a couple of values for K with a default KNN classifier, let's find the range we want for the tuning"
   ]
  },
  {
   "cell_type": "code",
   "execution_count": null,
   "metadata": {},
   "outputs": [],
   "source": [
    "# Preprocessing\n",
    "X_train_2 = ft.transform(x_train)\n",
    "X_test_2 = ft.transform(x_test)\n",
    "X_train = preprocessing.StandardScaler().fit(X_train_2).transform(X_train_2.astype(float))\n",
    "X_test = preprocessing.StandardScaler().fit(X_test_2).transform(X_test_2.astype(float))\n",
    "\n",
    "n_range = 30\n",
    "mean_acc = np.zeros(n_range)\n",
    "for i in range(1,n_range + 1):\n",
    "    #Train Model and Predict  \n",
    "    knn = KNeighborsClassifier(n_neighbors = i).fit(X_train,y_train)\n",
    "    yhat= knn.predict(X_test)\n",
    "    mean_acc[i-1] = metrics.accuracy_score(y_test, yhat)\n",
    "    \n",
    "k_range_cnt = 10\n",
    "k_range = np.argpartition(mean_acc, -k_range_cnt)[-k_range_cnt:]\n",
    "#print(k_range)\n",
    "\n",
    "\"\"\"\n",
    "loc = np.arange(1,n_range + 1,step=1.0)\n",
    "plt.figure(figsize = (10, 6))\n",
    "plt.plot(range(1,n_range + 1), mean_acc)\n",
    "plt.xticks(loc)\n",
    "plt.xlabel('Number of Neighbors ')\n",
    "plt.ylabel('Accuracy')\n",
    "plt.show()\n",
    "\"\"\"\n"
   ]
  },
  {
   "cell_type": "markdown",
   "metadata": {},
   "source": [
    "# Hyperparameters tuning\n",
    "\n",
    "### 1. weights and metrics"
   ]
  },
  {
   "cell_type": "code",
   "execution_count": null,
   "metadata": {},
   "outputs": [],
   "source": [
    "\n",
    "grid_params = { 'n_neighbors' : k_range,\n",
    "               'weights' : ['uniform','distance'],\n",
    "               'metric' : ['minkowski','euclidean','manhattan']}\n",
    "gs = GridSearchCV(KNeighborsClassifier(), grid_params, verbose = 1, cv=3, n_jobs = -1)\n",
    "g_res = gs.fit(X_train, y_train)\n",
    "\n",
    "tuned_best_param_1 = g_res.best_params_\n",
    "print(f'best score : {g_res.best_score_}')\n",
    "print(f'best params : {tuned_best_param_1}')"
   ]
  },
  {
   "cell_type": "markdown",
   "metadata": {},
   "source": [
    "### 2. p and leaf size\n"
   ]
  },
  {
   "cell_type": "code",
   "execution_count": null,
   "metadata": {},
   "outputs": [],
   "source": [
    "grid_params = { 'n_neighbors' : k_range,\n",
    "               'leaf_size' : list(range(1,20))#,\n",
    "               #'p' : [1, 2]\n",
    "               }\n",
    "gs = GridSearchCV(KNeighborsClassifier(), grid_params, verbose = 1, cv=3, n_jobs = -1)\n",
    "g_res = gs.fit(X_train, y_train)\n",
    "\n",
    "tuned_best_param_2 = g_res.best_params_\n",
    "print(f'best score : {g_res.best_score_}')\n",
    "print(f'best params : {tuned_best_param_2}')"
   ]
  },
  {
   "cell_type": "markdown",
   "metadata": {},
   "source": [
    "### 3. Everything all at once"
   ]
  },
  {
   "cell_type": "code",
   "execution_count": null,
   "metadata": {},
   "outputs": [],
   "source": [
    "grid_params = { 'n_neighbors' : k_range,\n",
    "               'weights' : ['uniform','distance'],\n",
    "               'metric' : ['minkowski','euclidean','manhattan'],\n",
    "               'algorithm' : ['ball_tree', 'kd_tree', 'brute'],\n",
    "               'p' : [1,2],\n",
    "               #'leaf_size' : list(range(1,50)),\n",
    "               }\n",
    "gs = GridSearchCV(KNeighborsClassifier(), grid_params, verbose = 1, cv=5, n_jobs = -1)\n",
    "g_res = gs.fit(X_train, y_train)\n",
    "\n",
    "tuned_best_param_3 = g_res.best_params_\n",
    "print(f'best score : {g_res.best_score_}')\n",
    "print(f'best params : {tuned_best_param_3}')"
   ]
  },
  {
   "cell_type": "markdown",
   "metadata": {},
   "source": [
    "### 4. only n_neighbors, 5. diff n_neighbors"
   ]
  },
  {
   "cell_type": "code",
   "execution_count": null,
   "metadata": {},
   "outputs": [],
   "source": [
    "grid_params = { 'n_neighbors' : k_range,\n",
    "               'weights' : ['uniform','distance'],\n",
    "               'metric' : ['minkowski','euclidean','manhattan'],\n",
    "               'p' : [1,2],\n",
    "               'leaf_size' : list(range(1,20)),}\n",
    "gs = GridSearchCV(KNeighborsClassifier(), grid_params, verbose = 1, cv=3, n_jobs = -1)\n",
    "g_res = gs.fit(X_train, y_train)\n",
    "\n",
    "tuned_best_param_4 = g_res.best_params_\n",
    "print(f'best score : {g_res.best_score_}')\n",
    "print(f'best params : {tuned_best_param_4}')\n",
    "\n",
    "grid_params = { 'n_neighbors' : [5,6]}\n",
    "gs = GridSearchCV(KNeighborsClassifier(), grid_params, verbose = 1, cv=3, n_jobs = -1)\n",
    "g_res = gs.fit(X_train, y_train)\n",
    "\n",
    "tuned_best_param_5 = g_res.best_params_\n",
    "print(f'best score : {g_res.best_score_}')\n",
    "print(f'best params : {tuned_best_param_5}')"
   ]
  },
  {
   "cell_type": "markdown",
   "metadata": {},
   "source": [
    "### evaluation"
   ]
  },
  {
   "cell_type": "code",
   "execution_count": null,
   "metadata": {},
   "outputs": [],
   "source": [
    "control = evaluate_classifier(KNeighborsClassifier(), data, target)\n",
    "\n",
    "tuned_params = [tuned_best_param_1, tuned_best_param_2, tuned_best_param_3, tuned_best_param_4, tuned_best_param_5]\n",
    "tuned = [evaluate_classifier(KNeighborsClassifier(**params), data, target) for params in tuned_params]"
   ]
  },
  {
   "cell_type": "markdown",
   "metadata": {},
   "source": [
    "### Performance comparisons"
   ]
  },
  {
   "cell_type": "code",
   "execution_count": null,
   "metadata": {},
   "outputs": [],
   "source": [
    "print(\"Control\")\n",
    "print(f'train_time : {control[\"train_time\"]}, performance : {control[\"performance\"]}')\n",
    "\n",
    "for i, t in enumerate(tuned):\n",
    "    print(f'\\n set{i}')\n",
    "    print(f'train_time : {t[\"train_time\"]}, performance : {t[\"performance\"]}')\n",
    "    print(f'hyperparams : {tuned_params[i]}')"
   ]
  },
  {
   "cell_type": "markdown",
   "metadata": {},
   "source": [
    "### reports"
   ]
  },
  {
   "cell_type": "code",
   "execution_count": null,
   "metadata": {},
   "outputs": [],
   "source": [
    "print(\"Control\")\n",
    "print(f'train_time : {control[\"train_time\"]}, classification report : \\n{control[\"classification_report\"]}')\n",
    "\n",
    "for i, t in enumerate(tuned):\n",
    "    print(f'\\n set{i}')\n",
    "    print(f'train_time : {t[\"train_time\"]}, classification report : \\n{t[\"classification_report\"]}')"
   ]
  },
  {
   "cell_type": "markdown",
   "metadata": {},
   "source": [
    "## Conclusions\n",
    "- Tuning the leaf size does nothing for performance but does affect the training speed\n",
    "- The hyperparameters that truly matters are : n_neighbors, metric, weights"
   ]
  }
 ],
 "metadata": {
  "kernelspec": {
   "display_name": ".venv",
   "language": "python",
   "name": "python3"
  },
  "language_info": {
   "codemirror_mode": {
    "name": "ipython",
    "version": 3
   },
   "file_extension": ".py",
   "mimetype": "text/x-python",
   "name": "python",
   "nbconvert_exporter": "python",
   "pygments_lexer": "ipython3",
   "version": "3.12.0"
  }
 },
 "nbformat": 4,
 "nbformat_minor": 2
}
