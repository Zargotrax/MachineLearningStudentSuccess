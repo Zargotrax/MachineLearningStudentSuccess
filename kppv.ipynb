{
 "cells": [
  {
   "cell_type": "code",
   "execution_count": 8,
   "metadata": {},
   "outputs": [],
   "source": [
    "from basic_fixture import *\n",
    "from util import *\n",
    "\n",
    "import numpy as np\n",
    "\n",
    "from sklearn import metrics\n",
    "from sklearn import preprocessing\n",
    "from sklearn.neighbors import KNeighborsClassifier\n",
    "from sklearn.model_selection import train_test_split\n",
    "from sklearn.model_selection import GridSearchCV\n",
    "from sklearn.feature_selection import SelectKBest, f_classif\n",
    "\n",
    "data, target = Dataset().get_data()\n",
    "x_train, x_test, y_train, y_test = train_test_split(\n",
    "        data, target, test_size=0.3, random_state=4)\n"
   ]
  },
  {
   "cell_type": "markdown",
   "metadata": {},
   "source": [
    "### Feature selection\n",
    "Let's test what inputs has the most impact on the outcome for a few values of K"
   ]
  },
  {
   "cell_type": "code",
   "execution_count": 9,
   "metadata": {},
   "outputs": [
    {
     "name": "stdout",
     "output_type": "stream",
     "text": [
      "most important inputs : Index(['Unités curriculaires 2e semestre (approuvées)',\n",
      "       'Unités curriculaires 2e semestre (note)',\n",
      "       'Unités curriculaires 1er semestre (approuvées)',\n",
      "       'Unités curriculaires 1er semestre (note)',\n",
      "       'Frais de scolarité à jour'],\n",
      "      dtype='object')\n"
     ]
    }
   ],
   "source": [
    "desired_features_cnt = 5\n",
    "\n",
    "ft = SelectKBest(f_classif, k=desired_features_cnt).fit(x_train, y_train)\n",
    "ft_np = np.array(ft.scores_)\n",
    "max_elements_ind = np.argpartition(ft_np, -desired_features_cnt)[-desired_features_cnt:]\n",
    "top = x_train.columns[max_elements_ind]\n",
    "\n",
    "print(f'most important inputs : {x_train.columns[max_elements_ind[np.argsort(ft_np[max_elements_ind])[::-1]]]}')"
   ]
  },
  {
   "cell_type": "markdown",
   "metadata": {},
   "source": [
    "### Finding a good range for K\n",
    "Testing a couple of values for K with a default KNN classifier, let's find the range we want for the tuning"
   ]
  },
  {
   "cell_type": "code",
   "execution_count": 10,
   "metadata": {},
   "outputs": [
    {
     "data": {
      "text/plain": [
       "\"\\nloc = np.arange(1,n_range + 1,step=1.0)\\nplt.figure(figsize = (10, 6))\\nplt.plot(range(1,n_range + 1), mean_acc)\\nplt.xticks(loc)\\nplt.xlabel('Number of Neighbors ')\\nplt.ylabel('Accuracy')\\nplt.show()\\n\""
      ]
     },
     "execution_count": 10,
     "metadata": {},
     "output_type": "execute_result"
    }
   ],
   "source": [
    "# Preprocessing\n",
    "X_train_2 = ft.transform(x_train)\n",
    "X_test_2 = ft.transform(x_test)\n",
    "X_train = preprocessing.StandardScaler().fit(X_train_2).transform(X_train_2.astype(float))\n",
    "X_test = preprocessing.StandardScaler().fit(X_test_2).transform(X_test_2.astype(float))\n",
    "\n",
    "n_range = 30\n",
    "mean_acc = np.zeros(n_range)\n",
    "for i in range(1,n_range + 1):\n",
    "    #Train Model and Predict  \n",
    "    knn = KNeighborsClassifier(n_neighbors = i).fit(X_train,y_train)\n",
    "    yhat= knn.predict(X_test)\n",
    "    mean_acc[i-1] = metrics.accuracy_score(y_test, yhat)\n",
    "    \n",
    "k_range_cnt = 10\n",
    "k_range = np.argpartition(mean_acc, -k_range_cnt)[-k_range_cnt:]\n",
    "#print(k_range)\n",
    "\n",
    "\"\"\"\n",
    "loc = np.arange(1,n_range + 1,step=1.0)\n",
    "plt.figure(figsize = (10, 6))\n",
    "plt.plot(range(1,n_range + 1), mean_acc)\n",
    "plt.xticks(loc)\n",
    "plt.xlabel('Number of Neighbors ')\n",
    "plt.ylabel('Accuracy')\n",
    "plt.show()\n",
    "\"\"\"\n"
   ]
  },
  {
   "cell_type": "markdown",
   "metadata": {},
   "source": [
    "# Hyperparameters tuning\n",
    "\n",
    "### 1. every hyperparameters"
   ]
  },
  {
   "cell_type": "code",
   "execution_count": 11,
   "metadata": {},
   "outputs": [
    {
     "name": "stdout",
     "output_type": "stream",
     "text": [
      "Fitting 3 folds for each of 360 candidates, totalling 1080 fits\n",
      "best score : 0.889413616686344\n",
      "best params : {'algorithm': 'ball_tree', 'metric': 'minkowski', 'n_neighbors': 15, 'p': 1, 'weights': 'uniform'}\n"
     ]
    }
   ],
   "source": [
    "\n",
    "grid_params = { \n",
    "               'n_neighbors' : k_range,\n",
    "               'weights' : ['uniform','distance'],\n",
    "               'metric' : ['minkowski','euclidean','manhattan'],\n",
    "               'algorithm' : ['ball_tree', 'kd_tree', 'brute'],\n",
    "               'p' : [1,2],\n",
    "               }\n",
    "gs = GridSearchCV(KNeighborsClassifier(), grid_params, verbose = 1, cv=3, n_jobs = -1)\n",
    "g_res = gs.fit(X_train, y_train)\n",
    "\n",
    "tuned_best_param_1 = g_res.best_params_\n",
    "print(f'best score : {g_res.best_score_}')\n",
    "print(f'best params : {tuned_best_param_1}')"
   ]
  },
  {
   "cell_type": "markdown",
   "metadata": {},
   "source": [
    "### Performance comparisons"
   ]
  },
  {
   "cell_type": "code",
   "execution_count": 12,
   "metadata": {},
   "outputs": [
    {
     "name": "stdout",
     "output_type": "stream",
     "text": [
      "\n",
      "control\n",
      "KNeighborsClassifier with params {'algorithm': 'auto', 'leaf_size': 30, 'metric': 'minkowski', 'metric_params': None, 'n_jobs': None, 'n_neighbors': 5, 'p': 2, 'weights': 'uniform'}\n",
      "train_time: 0.07249641418457031, classification report: \n",
      "              precision    recall  f1-score   support\n",
      "\n",
      "           0       0.88      0.65      0.75       435\n",
      "           1       0.80      0.94      0.86       654\n",
      "\n",
      "    accuracy                           0.82      1089\n",
      "   macro avg       0.84      0.79      0.81      1089\n",
      "weighted avg       0.83      0.82      0.82      1089\n",
      "\n",
      "performance: 0.7947063165664874\n",
      "\n",
      "with optimized hyperparameters\n",
      "KNeighborsClassifier with params {'algorithm': 'ball_tree', 'leaf_size': 30, 'metric': 'minkowski', 'metric_params': None, 'n_jobs': None, 'n_neighbors': 15, 'p': 1, 'weights': 'uniform'}\n",
      "train_time: 0.15900397300720215, classification report: \n",
      "              precision    recall  f1-score   support\n",
      "\n",
      "           0       0.95      0.63      0.76       435\n",
      "           1       0.80      0.98      0.88       654\n",
      "\n",
      "    accuracy                           0.84      1089\n",
      "   macro avg       0.87      0.81      0.82      1089\n",
      "weighted avg       0.86      0.84      0.83      1089\n",
      "\n",
      "performance: 0.805008963408204\n"
     ]
    }
   ],
   "source": [
    "tuned_clf = [KNeighborsClassifier(), KNeighborsClassifier(**tuned_best_param_1)]\n",
    "names = ['control', 'with optimized hyperparameters']\n",
    "\n",
    "compare_classifiers(tuned_clf, data, target, clf_names=names)"
   ]
  },
  {
   "cell_type": "markdown",
   "metadata": {},
   "source": [
    "## Observations\n",
    "- Tuning the leaf size does nothing for performance. Same for P\n",
    "- Increasing the sizes of K and the number of columns helps every versions but the one where we tune every hyperparameters\n",
    "- with 10 columns every tunings have the same score of 84.20%\n",
    "- The chosen metric seems to pretty much always choose minkowsky"
   ]
  }
 ],
 "metadata": {
  "kernelspec": {
   "display_name": ".venv",
   "language": "python",
   "name": "python3"
  },
  "language_info": {
   "codemirror_mode": {
    "name": "ipython",
    "version": 3
   },
   "file_extension": ".py",
   "mimetype": "text/x-python",
   "name": "python",
   "nbconvert_exporter": "python",
   "pygments_lexer": "ipython3",
   "version": "3.12.0"
  }
 },
 "nbformat": 4,
 "nbformat_minor": 2
}
