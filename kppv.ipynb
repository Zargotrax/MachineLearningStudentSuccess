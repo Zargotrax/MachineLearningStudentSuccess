{
 "cells": [
  {
   "cell_type": "code",
   "execution_count": 7,
   "metadata": {},
   "outputs": [],
   "source": [
    "from basic_fixture import *\n",
    "from util import evaluate_classifier\n",
    "\n",
    "import time\n",
    "import pandas as pd\n",
    "import numpy as np\n",
    "import matplotlib.pyplot as plt\n",
    "import seaborn as sns\n",
    "\n",
    "from sklearn import metrics\n",
    "from sklearn import preprocessing\n",
    "from sklearn.neighbors import KNeighborsClassifier\n",
    "from sklearn.metrics import classification_report\n",
    "from sklearn.model_selection import train_test_split\n",
    "from sklearn.metrics import roc_auc_score\n",
    "from sklearn.model_selection import GridSearchCV\n",
    "from sklearn.feature_selection import chi2, SelectKBest, f_classif\n",
    "\n",
    "data, target = Dataset().get_data()\n",
    "x_train, x_test, y_train, y_test = train_test_split(\n",
    "        data, target, test_size=0.3, random_state=4)\n"
   ]
  },
  {
   "cell_type": "markdown",
   "metadata": {},
   "source": [
    "### Feature selection\n",
    "Let's test what inputs has the most impact on the outcome for a few values of K"
   ]
  },
  {
   "cell_type": "code",
   "execution_count": 8,
   "metadata": {},
   "outputs": [
    {
     "name": "stdout",
     "output_type": "stream",
     "text": [
      "most important inputs : Index(['Unités curriculaires 2e semestre (approuvées)',\n",
      "       'Unités curriculaires 2e semestre (note)',\n",
      "       'Unités curriculaires 1er semestre (approuvées)',\n",
      "       'Unités curriculaires 1er semestre (note)',\n",
      "       'Frais de scolarité à jour'],\n",
      "      dtype='object')\n"
     ]
    }
   ],
   "source": [
    "desired_features_cnt = 5\n",
    "\n",
    "ft = SelectKBest(f_classif, k=desired_features_cnt).fit(x_train, y_train)\n",
    "ft_np = np.array(ft.scores_)\n",
    "max_elements_ind = np.argpartition(ft_np, -desired_features_cnt)[-desired_features_cnt:]\n",
    "top = x_train.columns[max_elements_ind]\n",
    "\n",
    "print(f'most important inputs : {x_train.columns[max_elements_ind[np.argsort(ft_np[max_elements_ind])[::-1]]]}')"
   ]
  },
  {
   "cell_type": "markdown",
   "metadata": {},
   "source": [
    "### Finding a good range for K\n",
    "Testing a couple of values for K with a default KNN classifier, let's find the range we want for the tuning"
   ]
  },
  {
   "cell_type": "code",
   "execution_count": 9,
   "metadata": {},
   "outputs": [
    {
     "data": {
      "text/plain": [
       "\"\\nloc = np.arange(1,n_range + 1,step=1.0)\\nplt.figure(figsize = (10, 6))\\nplt.plot(range(1,n_range + 1), mean_acc)\\nplt.xticks(loc)\\nplt.xlabel('Number of Neighbors ')\\nplt.ylabel('Accuracy')\\nplt.show()\\n\""
      ]
     },
     "execution_count": 9,
     "metadata": {},
     "output_type": "execute_result"
    }
   ],
   "source": [
    "# Preprocessing\n",
    "X_train_2 = ft.transform(x_train)\n",
    "X_test_2 = ft.transform(x_test)\n",
    "X_train = preprocessing.StandardScaler().fit(X_train_2).transform(X_train_2.astype(float))\n",
    "X_test = preprocessing.StandardScaler().fit(X_test_2).transform(X_test_2.astype(float))\n",
    "\n",
    "n_range = 30\n",
    "mean_acc = np.zeros(n_range)\n",
    "for i in range(1,n_range + 1):\n",
    "    #Train Model and Predict  \n",
    "    knn = KNeighborsClassifier(n_neighbors = i).fit(X_train,y_train)\n",
    "    yhat= knn.predict(X_test)\n",
    "    mean_acc[i-1] = metrics.accuracy_score(y_test, yhat)\n",
    "    \n",
    "k_range_cnt = 10\n",
    "k_range = np.argpartition(mean_acc, -k_range_cnt)[-k_range_cnt:]\n",
    "#print(k_range)\n",
    "\n",
    "\"\"\"\n",
    "loc = np.arange(1,n_range + 1,step=1.0)\n",
    "plt.figure(figsize = (10, 6))\n",
    "plt.plot(range(1,n_range + 1), mean_acc)\n",
    "plt.xticks(loc)\n",
    "plt.xlabel('Number of Neighbors ')\n",
    "plt.ylabel('Accuracy')\n",
    "plt.show()\n",
    "\"\"\"\n"
   ]
  },
  {
   "cell_type": "markdown",
   "metadata": {},
   "source": [
    "# Hyperparameters tuning\n",
    "\n",
    "### 1. weights and metrics"
   ]
  },
  {
   "cell_type": "code",
   "execution_count": 10,
   "metadata": {},
   "outputs": [
    {
     "name": "stdout",
     "output_type": "stream",
     "text": [
      "Fitting 3 folds for each of 60 candidates, totalling 180 fits\n",
      "best score : 0.889413616686344\n",
      "best params : {'metric': 'manhattan', 'n_neighbors': 15, 'weights': 'uniform'}\n"
     ]
    }
   ],
   "source": [
    "\n",
    "grid_params = { 'n_neighbors' : k_range,\n",
    "               'weights' : ['uniform','distance'],\n",
    "               'metric' : ['minkowski','euclidean','manhattan']}\n",
    "gs = GridSearchCV(KNeighborsClassifier(), grid_params, verbose = 1, cv=3, n_jobs = -1)\n",
    "g_res = gs.fit(X_train, y_train)\n",
    "\n",
    "tuned_best_param_1 = g_res.best_params_\n",
    "print(f'best score : {g_res.best_score_}')\n",
    "print(f'best params : {tuned_best_param_1}')"
   ]
  },
  {
   "cell_type": "markdown",
   "metadata": {},
   "source": [
    "### 2. p and leaf size\n"
   ]
  },
  {
   "cell_type": "code",
   "execution_count": 11,
   "metadata": {},
   "outputs": [
    {
     "name": "stdout",
     "output_type": "stream",
     "text": [
      "Fitting 3 folds for each of 190 candidates, totalling 570 fits\n",
      "best score : 0.88823297914207\n",
      "best params : {'leaf_size': 1, 'n_neighbors': 28}\n"
     ]
    }
   ],
   "source": [
    "grid_params = { 'n_neighbors' : k_range,\n",
    "               'leaf_size' : list(range(1,20))#,\n",
    "               #'p' : [1, 2]\n",
    "               }\n",
    "gs = GridSearchCV(KNeighborsClassifier(), grid_params, verbose = 1, cv=3, n_jobs = -1)\n",
    "g_res = gs.fit(X_train, y_train)\n",
    "\n",
    "tuned_best_param_2 = g_res.best_params_\n",
    "print(f'best score : {g_res.best_score_}')\n",
    "print(f'best params : {tuned_best_param_2}')"
   ]
  },
  {
   "cell_type": "markdown",
   "metadata": {},
   "source": [
    "### 3. Everything all at once"
   ]
  },
  {
   "cell_type": "code",
   "execution_count": 12,
   "metadata": {},
   "outputs": [
    {
     "name": "stdout",
     "output_type": "stream",
     "text": [
      "Fitting 5 folds for each of 17640 candidates, totalling 88200 fits\n",
      "best score : 0.8894164874773756\n",
      "best params : {'algorithm': 'ball_tree', 'leaf_size': 1, 'metric': 'minkowski', 'n_neighbors': 9, 'p': 1, 'weights': 'uniform'}\n"
     ]
    }
   ],
   "source": [
    "grid_params = { 'n_neighbors' : k_range,\n",
    "               'weights' : ['uniform','distance'],\n",
    "               'metric' : ['minkowski','euclidean','manhattan'],\n",
    "               'algorithm' : ['ball_tree', 'kd_tree', 'brute'],\n",
    "               'p' : [1,2],\n",
    "               'leaf_size' : list(range(1,50)),\n",
    "               }\n",
    "gs = GridSearchCV(KNeighborsClassifier(), grid_params, verbose = 1, cv=5, n_jobs = -1)\n",
    "g_res = gs.fit(X_train, y_train)\n",
    "\n",
    "tuned_best_param_3 = g_res.best_params_\n",
    "print(f'best score : {g_res.best_score_}')\n",
    "print(f'best params : {tuned_best_param_3}')"
   ]
  },
  {
   "cell_type": "markdown",
   "metadata": {},
   "source": [
    "### 4. only n_neighbors, 5. diff n_neighbors"
   ]
  },
  {
   "cell_type": "code",
   "execution_count": 13,
   "metadata": {},
   "outputs": [
    {
     "name": "stdout",
     "output_type": "stream",
     "text": [
      "Fitting 3 folds for each of 2280 candidates, totalling 6840 fits\n",
      "best score : 0.889413616686344\n",
      "best params : {'leaf_size': 1, 'metric': 'minkowski', 'n_neighbors': 15, 'p': 1, 'weights': 'uniform'}\n",
      "Fitting 3 folds for each of 2 candidates, totalling 6 fits\n",
      "best score : 0.8823297914207006\n",
      "best params : {'n_neighbors': 5}\n"
     ]
    }
   ],
   "source": [
    "grid_params = { 'n_neighbors' : k_range,\n",
    "               'weights' : ['uniform','distance'],\n",
    "               'metric' : ['minkowski','euclidean','manhattan'],\n",
    "               'p' : [1,2],\n",
    "               'leaf_size' : list(range(1,20)),}\n",
    "gs = GridSearchCV(KNeighborsClassifier(), grid_params, verbose = 1, cv=3, n_jobs = -1)\n",
    "g_res = gs.fit(X_train, y_train)\n",
    "\n",
    "tuned_best_param_4 = g_res.best_params_\n",
    "print(f'best score : {g_res.best_score_}')\n",
    "print(f'best params : {tuned_best_param_4}')\n",
    "\n",
    "grid_params = { 'n_neighbors' : [5,6]}\n",
    "gs = GridSearchCV(KNeighborsClassifier(), grid_params, verbose = 1, cv=3, n_jobs = -1)\n",
    "g_res = gs.fit(X_train, y_train)\n",
    "\n",
    "tuned_best_param_5 = g_res.best_params_\n",
    "print(f'best score : {g_res.best_score_}')\n",
    "print(f'best params : {tuned_best_param_5}')"
   ]
  },
  {
   "cell_type": "markdown",
   "metadata": {},
   "source": [
    "### evaluation"
   ]
  },
  {
   "cell_type": "code",
   "execution_count": 18,
   "metadata": {},
   "outputs": [],
   "source": [
    "control = evaluate_classifier(KNeighborsClassifier(), data, target)\n",
    "\n",
    "tuned_params = [tuned_best_param_1, tuned_best_param_2, tuned_best_param_3, tuned_best_param_4, tuned_best_param_5]\n",
    "tuned = [evaluate_classifier(KNeighborsClassifier(**params), data, target) for params in tuned_params]"
   ]
  },
  {
   "cell_type": "markdown",
   "metadata": {},
   "source": [
    "### Performance comparisons"
   ]
  },
  {
   "cell_type": "code",
   "execution_count": 19,
   "metadata": {},
   "outputs": [
    {
     "name": "stdout",
     "output_type": "stream",
     "text": [
      "Control\n",
      "train_time : 0.09649777412414551, performance : 0.7947063165664874\n",
      "\n",
      " set0\n",
      "train_time : 0.08600068092346191, performance : 0.805008963408204\n",
      "hyperparams : {'metric': 'manhattan', 'n_neighbors': 15, 'weights': 'uniform'}\n",
      "\n",
      " set1\n",
      "train_time : 0.07950091361999512, performance : 0.7874143203627544\n",
      "hyperparams : {'leaf_size': 1, 'n_neighbors': 28}\n",
      "\n",
      " set2\n",
      "train_time : 0.19950461387634277, performance : 0.8119213329115259\n",
      "hyperparams : {'algorithm': 'ball_tree', 'leaf_size': 1, 'metric': 'minkowski', 'n_neighbors': 9, 'p': 1, 'weights': 'uniform'}\n",
      "\n",
      " set3\n",
      "train_time : 0.08499813079833984, performance : 0.805008963408204\n",
      "hyperparams : {'leaf_size': 1, 'metric': 'minkowski', 'n_neighbors': 15, 'p': 1, 'weights': 'uniform'}\n",
      "\n",
      " set4\n",
      "train_time : 0.07300209999084473, performance : 0.7947063165664874\n",
      "hyperparams : {'n_neighbors': 5}\n"
     ]
    }
   ],
   "source": [
    "print(\"Control\")\n",
    "print(f'train_time : {control[\"train_time\"]}, performance : {control[\"performance\"]}')\n",
    "\n",
    "for i, t in enumerate(tuned):\n",
    "    print(f'\\n set{i}')\n",
    "    print(f'train_time : {t[\"train_time\"]}, performance : {t[\"performance\"]}')\n",
    "    print(f'hyperparams : {tuned_params[i]}')"
   ]
  },
  {
   "cell_type": "markdown",
   "metadata": {},
   "source": [
    "### reports"
   ]
  },
  {
   "cell_type": "code",
   "execution_count": 16,
   "metadata": {},
   "outputs": [
    {
     "name": "stdout",
     "output_type": "stream",
     "text": [
      "Control\n",
      "train_time : 0.2200002670288086, classification report : \n",
      "              precision    recall  f1-score   support\n",
      "\n",
      "           0       0.88      0.65      0.75       435\n",
      "           1       0.80      0.94      0.86       654\n",
      "\n",
      "    accuracy                           0.82      1089\n",
      "   macro avg       0.84      0.79      0.81      1089\n",
      "weighted avg       0.83      0.82      0.82      1089\n",
      "\n",
      "\n",
      " set0\n",
      "train_time : 0.08550071716308594, classification report : \n",
      "              precision    recall  f1-score   support\n",
      "\n",
      "           0       0.95      0.63      0.76       435\n",
      "           1       0.80      0.98      0.88       654\n",
      "\n",
      "    accuracy                           0.84      1089\n",
      "   macro avg       0.87      0.81      0.82      1089\n",
      "weighted avg       0.86      0.84      0.83      1089\n",
      "\n",
      "\n",
      " set1\n",
      "train_time : 0.07249832153320312, classification report : \n",
      "              precision    recall  f1-score   support\n",
      "\n",
      "           0       0.89      0.63      0.74       435\n",
      "           1       0.79      0.95      0.86       654\n",
      "\n",
      "    accuracy                           0.82      1089\n",
      "   macro avg       0.84      0.79      0.80      1089\n",
      "weighted avg       0.83      0.82      0.81      1089\n",
      "\n",
      "\n",
      " set2\n",
      "train_time : 0.19500136375427246, classification report : \n",
      "              precision    recall  f1-score   support\n",
      "\n",
      "           0       0.92      0.66      0.77       435\n",
      "           1       0.81      0.96      0.88       654\n",
      "\n",
      "    accuracy                           0.84      1089\n",
      "   macro avg       0.87      0.81      0.82      1089\n",
      "weighted avg       0.85      0.84      0.84      1089\n",
      "\n",
      "\n",
      " set3\n",
      "train_time : 0.08149981498718262, classification report : \n",
      "              precision    recall  f1-score   support\n",
      "\n",
      "           0       0.95      0.63      0.76       435\n",
      "           1       0.80      0.98      0.88       654\n",
      "\n",
      "    accuracy                           0.84      1089\n",
      "   macro avg       0.87      0.81      0.82      1089\n",
      "weighted avg       0.86      0.84      0.83      1089\n",
      "\n",
      "\n",
      " set4\n",
      "train_time : 0.06849813461303711, classification report : \n",
      "              precision    recall  f1-score   support\n",
      "\n",
      "           0       0.88      0.65      0.75       435\n",
      "           1       0.80      0.94      0.86       654\n",
      "\n",
      "    accuracy                           0.82      1089\n",
      "   macro avg       0.84      0.79      0.81      1089\n",
      "weighted avg       0.83      0.82      0.82      1089\n",
      "\n"
     ]
    }
   ],
   "source": [
    "print(\"Control\")\n",
    "print(f'train_time : {control[\"train_time\"]}, classification report : \\n{control[\"classification_report\"]}')\n",
    "\n",
    "for i, t in enumerate(tuned):\n",
    "    print(f'\\n set{i}')\n",
    "    print(f'train_time : {t[\"train_time\"]}, classification report : \\n{t[\"classification_report\"]}')"
   ]
  },
  {
   "cell_type": "markdown",
   "metadata": {},
   "source": [
    "## Conclusions\n",
    "- Tuning the leaf size does nothing for performance but does affect the training speed\n",
    "- The hyperparameters that truly matters are : n_neighbors, metric, weights"
   ]
  }
 ],
 "metadata": {
  "kernelspec": {
   "display_name": ".venv",
   "language": "python",
   "name": "python3"
  },
  "language_info": {
   "codemirror_mode": {
    "name": "ipython",
    "version": 3
   },
   "file_extension": ".py",
   "mimetype": "text/x-python",
   "name": "python",
   "nbconvert_exporter": "python",
   "pygments_lexer": "ipython3",
   "version": "3.12.0"
  }
 },
 "nbformat": 4,
 "nbformat_minor": 2
}
