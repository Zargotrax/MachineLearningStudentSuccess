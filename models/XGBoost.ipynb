{
 "cells": [
  {
   "cell_type": "code",
   "execution_count": 1,
   "metadata": {},
   "outputs": [],
   "source": [
    "from data.load_dataset import load_data\n",
    "import utils.utils\n",
    "import xgboost as xgb\n",
    "from sklearn.model_selection import train_test_split, cross_val_score, GridSearchCV\n",
    "from sklearn.metrics import classification_report\n",
    "import pandas as pd"
   ]
  },
  {
   "cell_type": "markdown",
   "metadata": {},
   "source": [
    "## Instancier le jeu de données"
   ]
  },
  {
   "cell_type": "code",
   "execution_count": 2,
   "metadata": {},
   "outputs": [],
   "source": [
    "X, y, cat_features = load_data().get_data_X_y(data='simplify', OneHot=True)"
   ]
  },
  {
   "cell_type": "code",
   "execution_count": 3,
   "metadata": {},
   "outputs": [],
   "source": [
    "X_train, X_test, y_train, y_test = train_test_split(X, y, test_size=0.3, random_state=42)"
   ]
  },
  {
   "cell_type": "markdown",
   "metadata": {},
   "source": [
    "## Classification par xgboost (Avec One-Hot Encoding):"
   ]
  },
  {
   "cell_type": "code",
   "execution_count": 4,
   "metadata": {},
   "outputs": [
    {
     "name": "stdout",
     "output_type": "stream",
     "text": [
      "Train Accuracy : 100.000 %\n"
     ]
    }
   ],
   "source": [
    "xgbClassifier = xgb.XGBClassifier(objective=\"binary:logistic\", random_state=42)\n",
    "xgbClassifier.fit(X_train, y_train)\n",
    "\n",
    "print(f\"Train Accuracy : {xgbClassifier.score(X_train, y_train) * 100:.3f} %\")"
   ]
  },
  {
   "cell_type": "code",
   "execution_count": 5,
   "metadata": {},
   "outputs": [
    {
     "name": "stdout",
     "output_type": "stream",
     "text": [
      "Test Accuracy : 90.358 %\n"
     ]
    }
   ],
   "source": [
    "print(f\"Test Accuracy : {xgbClassifier.score(X_test, y_test) * 100:.3f} %\")"
   ]
  },
  {
   "cell_type": "code",
   "execution_count": 6,
   "metadata": {},
   "outputs": [
    {
     "name": "stdout",
     "output_type": "stream",
     "text": [
      "              precision    recall  f1-score   support\n",
      "\n",
      "           0       0.90      0.84      0.87       414\n",
      "           1       0.90      0.94      0.92       675\n",
      "\n",
      "    accuracy                           0.90      1089\n",
      "   macro avg       0.90      0.89      0.90      1089\n",
      "weighted avg       0.90      0.90      0.90      1089\n",
      "\n"
     ]
    }
   ],
   "source": [
    "preds = xgbClassifier.predict(X_test)\n",
    "print(classification_report(y_test, preds))"
   ]
  },
  {
   "cell_type": "code",
   "execution_count": 7,
   "metadata": {},
   "outputs": [
    {
     "data": {
      "text/plain": [
       "array([0.90569745, 0.90354331, 0.90944882, 0.90551181, 0.88976378])"
      ]
     },
     "execution_count": 7,
     "metadata": {},
     "output_type": "execute_result"
    }
   ],
   "source": [
    "# Validation croisée sur les données d'entraînement\n",
    "cross_val = cross_val_score(xgbClassifier, X_train, y_train, cv=5)\n",
    "cross_val"
   ]
  },
  {
   "cell_type": "code",
   "execution_count": 8,
   "metadata": {},
   "outputs": [
    {
     "name": "stdout",
     "output_type": "stream",
     "text": [
      "Mean Cross-validation score sur le train dataset : 90.279%\n"
     ]
    }
   ],
   "source": [
    "print(f\"Mean Cross-validation score sur le train dataset : {cross_val.mean() * 100:.3f}%\")"
   ]
  },
  {
   "cell_type": "markdown",
   "metadata": {},
   "source": [
    "## Feature Importance"
   ]
  },
  {
   "cell_type": "code",
   "execution_count": 9,
   "metadata": {},
   "outputs": [
    {
     "data": {
      "text/html": [
       "<div>\n",
       "<style scoped>\n",
       "    .dataframe tbody tr th:only-of-type {\n",
       "        vertical-align: middle;\n",
       "    }\n",
       "\n",
       "    .dataframe tbody tr th {\n",
       "        vertical-align: top;\n",
       "    }\n",
       "\n",
       "    .dataframe thead th {\n",
       "        text-align: right;\n",
       "    }\n",
       "</style>\n",
       "<table border=\"1\" class=\"dataframe\">\n",
       "  <thead>\n",
       "    <tr style=\"text-align: right;\">\n",
       "      <th></th>\n",
       "      <th>Importance</th>\n",
       "    </tr>\n",
       "  </thead>\n",
       "  <tbody>\n",
       "    <tr>\n",
       "      <th>Unités curriculaires 2e semestre (approuvées)</th>\n",
       "      <td>0.190303</td>\n",
       "    </tr>\n",
       "    <tr>\n",
       "      <th>Frais de scolarité à jour_0</th>\n",
       "      <td>0.071445</td>\n",
       "    </tr>\n",
       "    <tr>\n",
       "      <th>Unités curriculaires 1er semestre (inscrits)</th>\n",
       "      <td>0.044223</td>\n",
       "    </tr>\n",
       "    <tr>\n",
       "      <th>Mode d'application_5</th>\n",
       "      <td>0.024666</td>\n",
       "    </tr>\n",
       "    <tr>\n",
       "      <th>Cours_8</th>\n",
       "      <td>0.020539</td>\n",
       "    </tr>\n",
       "    <tr>\n",
       "      <th>...</th>\n",
       "      <td>...</td>\n",
       "    </tr>\n",
       "    <tr>\n",
       "      <th>Qualification père_1</th>\n",
       "      <td>0.000000</td>\n",
       "    </tr>\n",
       "    <tr>\n",
       "      <th>Qualification mère_12</th>\n",
       "      <td>0.000000</td>\n",
       "    </tr>\n",
       "    <tr>\n",
       "      <th>Qualification mère_11</th>\n",
       "      <td>0.000000</td>\n",
       "    </tr>\n",
       "    <tr>\n",
       "      <th>Qualification mère_6</th>\n",
       "      <td>0.000000</td>\n",
       "    </tr>\n",
       "    <tr>\n",
       "      <th>International_1</th>\n",
       "      <td>0.000000</td>\n",
       "    </tr>\n",
       "  </tbody>\n",
       "</table>\n",
       "<p>135 rows × 1 columns</p>\n",
       "</div>"
      ],
      "text/plain": [
       "                                               Importance\n",
       "Unités curriculaires 2e semestre (approuvées)    0.190303\n",
       "Frais de scolarité à jour_0                      0.071445\n",
       "Unités curriculaires 1er semestre (inscrits)     0.044223\n",
       "Mode d'application_5                             0.024666\n",
       "Cours_8                                          0.020539\n",
       "...                                                   ...\n",
       "Qualification père_1                             0.000000\n",
       "Qualification mère_12                            0.000000\n",
       "Qualification mère_11                            0.000000\n",
       "Qualification mère_6                             0.000000\n",
       "International_1                                  0.000000\n",
       "\n",
       "[135 rows x 1 columns]"
      ]
     },
     "execution_count": 9,
     "metadata": {},
     "output_type": "execute_result"
    }
   ],
   "source": [
    "utils.features_importance(xgbClassifier, X_train.columns, plot=False, log=False)"
   ]
  },
  {
   "cell_type": "markdown",
   "metadata": {},
   "source": [
    "## Classification par xgboost (Sans One-Hot Encoding):\n",
    "\n",
    "En utilisant le paramètre enable_categorical=True, Shap n'est pas compatible avec cette méthode"
   ]
  },
  {
   "cell_type": "code",
   "execution_count": 10,
   "metadata": {},
   "outputs": [],
   "source": [
    "X, y, cat_features = load_data().get_data_X_y(data='simplify', OneHot=False)"
   ]
  },
  {
   "cell_type": "code",
   "execution_count": 11,
   "metadata": {},
   "outputs": [],
   "source": [
    "X_train, X_test, y_train, y_test = train_test_split(X, y, test_size=0.3, random_state=42)"
   ]
  },
  {
   "cell_type": "code",
   "execution_count": 12,
   "metadata": {},
   "outputs": [
    {
     "name": "stdout",
     "output_type": "stream",
     "text": [
      "Train Accuracy : 100.000 %\n"
     ]
    }
   ],
   "source": [
    "xgbClassifier = xgb.XGBClassifier(objective=\"binary:logistic\", random_state=42, enable_categorical=True, tree_method=\"hist\")\n",
    "xgbClassifier.fit(X_train, y_train)\n",
    "\n",
    "print(f\"Train Accuracy : {xgbClassifier.score(X_train, y_train) * 100:.3f} %\")"
   ]
  },
  {
   "cell_type": "code",
   "execution_count": 13,
   "metadata": {},
   "outputs": [
    {
     "name": "stdout",
     "output_type": "stream",
     "text": [
      "Test Accuracy : 90.450 %\n"
     ]
    }
   ],
   "source": [
    "print(f\"Test Accuracy : {xgbClassifier.score(X_test, y_test) * 100:.3f} %\")"
   ]
  },
  {
   "cell_type": "code",
   "execution_count": 14,
   "metadata": {},
   "outputs": [
    {
     "name": "stdout",
     "output_type": "stream",
     "text": [
      "              precision    recall  f1-score   support\n",
      "\n",
      "           0       0.90      0.84      0.87       414\n",
      "           1       0.90      0.95      0.92       675\n",
      "\n",
      "    accuracy                           0.90      1089\n",
      "   macro avg       0.90      0.89      0.90      1089\n",
      "weighted avg       0.90      0.90      0.90      1089\n",
      "\n"
     ]
    }
   ],
   "source": [
    "preds = xgbClassifier.predict(X_test)\n",
    "print(classification_report(y_test, preds))"
   ]
  },
  {
   "cell_type": "code",
   "execution_count": 15,
   "metadata": {},
   "outputs": [
    {
     "data": {
      "text/plain": [
       "array([0.90569745, 0.8976378 , 0.91732283, 0.8996063 , 0.89370079])"
      ]
     },
     "execution_count": 15,
     "metadata": {},
     "output_type": "execute_result"
    }
   ],
   "source": [
    "# Validation croisée sur les données d'entraînement\n",
    "cross_val = cross_val_score(xgbClassifier, X_train, y_train, cv=5)\n",
    "cross_val"
   ]
  },
  {
   "cell_type": "code",
   "execution_count": 16,
   "metadata": {},
   "outputs": [
    {
     "name": "stdout",
     "output_type": "stream",
     "text": [
      "Mean Cross-validation score sur le train dataset : 90.279%\n"
     ]
    }
   ],
   "source": [
    "print(f\"Mean Cross-validation score sur le train dataset : {cross_val.mean() * 100:.3f}%\")"
   ]
  },
  {
   "cell_type": "markdown",
   "metadata": {},
   "source": [
    "## Feature Importance"
   ]
  },
  {
   "cell_type": "code",
   "execution_count": 17,
   "metadata": {},
   "outputs": [
    {
     "data": {
      "text/html": [
       "<div>\n",
       "<style scoped>\n",
       "    .dataframe tbody tr th:only-of-type {\n",
       "        vertical-align: middle;\n",
       "    }\n",
       "\n",
       "    .dataframe tbody tr th {\n",
       "        vertical-align: top;\n",
       "    }\n",
       "\n",
       "    .dataframe thead th {\n",
       "        text-align: right;\n",
       "    }\n",
       "</style>\n",
       "<table border=\"1\" class=\"dataframe\">\n",
       "  <thead>\n",
       "    <tr style=\"text-align: right;\">\n",
       "      <th></th>\n",
       "      <th>Importance</th>\n",
       "    </tr>\n",
       "  </thead>\n",
       "  <tbody>\n",
       "    <tr>\n",
       "      <th>Unités curriculaires 2e semestre (approuvées)</th>\n",
       "      <td>0.346266</td>\n",
       "    </tr>\n",
       "    <tr>\n",
       "      <th>Frais de scolarité à jour</th>\n",
       "      <td>0.128336</td>\n",
       "    </tr>\n",
       "    <tr>\n",
       "      <th>Unités curriculaires 1er semestre (inscrits)</th>\n",
       "      <td>0.047519</td>\n",
       "    </tr>\n",
       "    <tr>\n",
       "      <th>International</th>\n",
       "      <td>0.040277</td>\n",
       "    </tr>\n",
       "    <tr>\n",
       "      <th>Unités curriculaires 1er semestre (créditées)</th>\n",
       "      <td>0.035234</td>\n",
       "    </tr>\n",
       "    <tr>\n",
       "      <th>Cours</th>\n",
       "      <td>0.035156</td>\n",
       "    </tr>\n",
       "    <tr>\n",
       "      <th>Qualification antérieure</th>\n",
       "      <td>0.025263</td>\n",
       "    </tr>\n",
       "    <tr>\n",
       "      <th>Unités curriculaires 1er semestre (sans évaluations)</th>\n",
       "      <td>0.024786</td>\n",
       "    </tr>\n",
       "    <tr>\n",
       "      <th>Unités curriculaires 1er semestre (approuvées)</th>\n",
       "      <td>0.021825</td>\n",
       "    </tr>\n",
       "    <tr>\n",
       "      <th>Bourse</th>\n",
       "      <td>0.021630</td>\n",
       "    </tr>\n",
       "    <tr>\n",
       "      <th>Unités curriculaires 2e semestre (évaluations)</th>\n",
       "      <td>0.018283</td>\n",
       "    </tr>\n",
       "    <tr>\n",
       "      <th>Mode d'application</th>\n",
       "      <td>0.016907</td>\n",
       "    </tr>\n",
       "    <tr>\n",
       "      <th>Unités curriculaires 2e semestre (inscrits)</th>\n",
       "      <td>0.016587</td>\n",
       "    </tr>\n",
       "    <tr>\n",
       "      <th>Occupation père</th>\n",
       "      <td>0.015580</td>\n",
       "    </tr>\n",
       "    <tr>\n",
       "      <th>Qualification père</th>\n",
       "      <td>0.015396</td>\n",
       "    </tr>\n",
       "    <tr>\n",
       "      <th>Dettes</th>\n",
       "      <td>0.015336</td>\n",
       "    </tr>\n",
       "    <tr>\n",
       "      <th>Occupation mère</th>\n",
       "      <td>0.014441</td>\n",
       "    </tr>\n",
       "    <tr>\n",
       "      <th>Qualification mère</th>\n",
       "      <td>0.014308</td>\n",
       "    </tr>\n",
       "    <tr>\n",
       "      <th>Âge à l'inscription</th>\n",
       "      <td>0.014042</td>\n",
       "    </tr>\n",
       "    <tr>\n",
       "      <th>Unités curriculaires 1er semestre (évaluations)</th>\n",
       "      <td>0.013302</td>\n",
       "    </tr>\n",
       "    <tr>\n",
       "      <th>Unités curriculaires 2e semestre (note)</th>\n",
       "      <td>0.013125</td>\n",
       "    </tr>\n",
       "    <tr>\n",
       "      <th>Unités curriculaires 1er semestre (note)</th>\n",
       "      <td>0.012430</td>\n",
       "    </tr>\n",
       "    <tr>\n",
       "      <th>Taux d'inflation</th>\n",
       "      <td>0.012206</td>\n",
       "    </tr>\n",
       "    <tr>\n",
       "      <th>PIB</th>\n",
       "      <td>0.012095</td>\n",
       "    </tr>\n",
       "    <tr>\n",
       "      <th>Unités curriculaires 2e semestre (sans évaluations)</th>\n",
       "      <td>0.011112</td>\n",
       "    </tr>\n",
       "    <tr>\n",
       "      <th>Sexe</th>\n",
       "      <td>0.010848</td>\n",
       "    </tr>\n",
       "    <tr>\n",
       "      <th>Ordre d'application</th>\n",
       "      <td>0.010276</td>\n",
       "    </tr>\n",
       "    <tr>\n",
       "      <th>État civil</th>\n",
       "      <td>0.010161</td>\n",
       "    </tr>\n",
       "    <tr>\n",
       "      <th>Taux de chômage</th>\n",
       "      <td>0.008713</td>\n",
       "    </tr>\n",
       "    <tr>\n",
       "      <th>Déplacé</th>\n",
       "      <td>0.008013</td>\n",
       "    </tr>\n",
       "    <tr>\n",
       "      <th>Présence jour/soir</th>\n",
       "      <td>0.005885</td>\n",
       "    </tr>\n",
       "    <tr>\n",
       "      <th>Unités curriculaires 2e semestre (créditées)</th>\n",
       "      <td>0.004661</td>\n",
       "    </tr>\n",
       "    <tr>\n",
       "      <th>Besoins éducatifs spéciaux</th>\n",
       "      <td>0.000000</td>\n",
       "    </tr>\n",
       "  </tbody>\n",
       "</table>\n",
       "</div>"
      ],
      "text/plain": [
       "                                                    Importance\n",
       "Unités curriculaires 2e semestre (approuvées)         0.346266\n",
       "Frais de scolarité à jour                             0.128336\n",
       "Unités curriculaires 1er semestre (inscrits)          0.047519\n",
       "International                                         0.040277\n",
       "Unités curriculaires 1er semestre (créditées)         0.035234\n",
       "Cours                                                 0.035156\n",
       "Qualification antérieure                              0.025263\n",
       "Unités curriculaires 1er semestre (sans évaluat...    0.024786\n",
       "Unités curriculaires 1er semestre (approuvées)        0.021825\n",
       "Bourse                                                0.021630\n",
       "Unités curriculaires 2e semestre (évaluations)        0.018283\n",
       "Mode d'application                                    0.016907\n",
       "Unités curriculaires 2e semestre (inscrits)           0.016587\n",
       "Occupation père                                       0.015580\n",
       "Qualification père                                    0.015396\n",
       "Dettes                                                0.015336\n",
       "Occupation mère                                       0.014441\n",
       "Qualification mère                                    0.014308\n",
       "Âge à l'inscription                                   0.014042\n",
       "Unités curriculaires 1er semestre (évaluations)       0.013302\n",
       "Unités curriculaires 2e semestre (note)               0.013125\n",
       "Unités curriculaires 1er semestre (note)              0.012430\n",
       "Taux d'inflation                                      0.012206\n",
       "PIB                                                   0.012095\n",
       "Unités curriculaires 2e semestre (sans évaluati...    0.011112\n",
       "Sexe                                                  0.010848\n",
       "Ordre d'application                                   0.010276\n",
       "État civil                                            0.010161\n",
       "Taux de chômage                                       0.008713\n",
       "Déplacé                                               0.008013\n",
       "Présence jour/soir                                    0.005885\n",
       "Unités curriculaires 2e semestre (créditées)          0.004661\n",
       "Besoins éducatifs spéciaux                            0.000000"
      ]
     },
     "execution_count": 17,
     "metadata": {},
     "output_type": "execute_result"
    }
   ],
   "source": [
    "utils.features_importance(xgbClassifier, X_train.columns)"
   ]
  },
  {
   "cell_type": "markdown",
   "metadata": {},
   "source": [
    "## Optimisation des Hyperparamètres"
   ]
  },
  {
   "cell_type": "code",
   "execution_count": 18,
   "metadata": {},
   "outputs": [],
   "source": [
    "X, y, cat_features = load_data().get_data_X_y(data='simplify', OneHot=True)\n",
    "X_train, X_test, y_train, y_test = train_test_split(X, y, test_size=0.3, random_state=42)"
   ]
  },
  {
   "cell_type": "code",
   "execution_count": 19,
   "metadata": {},
   "outputs": [
    {
     "name": "stdout",
     "output_type": "stream",
     "text": [
      "Meilleurs hyperparamèetres:\n",
      "  booster  learning_rate  n_estimators        objective\n",
      "0  gbtree            0.1            50  binary:logistic\n",
      "\n",
      "Meilleur score: 0.9194023002199753\n"
     ]
    }
   ],
   "source": [
    "# init xgb classifier\n",
    "xgb_clf = xgb.XGBClassifier(verbosity=0, random_state=42)\n",
    "\n",
    "param_grid = {\n",
    "    'objective':[\"binary:logistic\", \"binary:hinge\"],\n",
    "    'booster':[\"gblinear\", \"gbtree\"],\n",
    "    'n_estimators': [50, 100, 150],\n",
    "    'learning_rate': [0.01, 0.05, 0.1],\n",
    "}\n",
    "\n",
    "\n",
    "# init grid search\n",
    "grid_search = GridSearchCV(estimator=xgb_clf, param_grid=param_grid, cv=3, scoring='f1')\n",
    "\n",
    "grid_search.fit(X_train, y_train)\n",
    "\n",
    "best_parameters = grid_search.best_params_\n",
    "best_score = grid_search.best_score_\n",
    "\n",
    "print(\"Meilleurs hyperparamèetres:\")\n",
    "best_parameters_df = {key: [value] for key, value in best_parameters.items()}\n",
    "df = pd.DataFrame(best_parameters_df)\n",
    "print(df)\n",
    "print()\n",
    "print(\"Meilleur score:\", best_score)"
   ]
  },
  {
   "cell_type": "code",
   "execution_count": 20,
   "metadata": {},
   "outputs": [],
   "source": [
    "model = grid_search.best_estimator_"
   ]
  },
  {
   "cell_type": "code",
   "execution_count": 21,
   "metadata": {},
   "outputs": [
    {
     "name": "stdout",
     "output_type": "stream",
     "text": [
      "Train Accuracy : 95.907 %\n"
     ]
    }
   ],
   "source": [
    "model.fit(X_train, y_train)\n",
    "\n",
    "print(f\"Train Accuracy : {model.score(X_train, y_train) * 100:.3f} %\")"
   ]
  },
  {
   "cell_type": "code",
   "execution_count": 22,
   "metadata": {},
   "outputs": [
    {
     "name": "stdout",
     "output_type": "stream",
     "text": [
      "Test Accuracy : 90.174 %\n"
     ]
    }
   ],
   "source": [
    "print(f\"Test Accuracy : {model.score(X_test, y_test) * 100:.3f} %\")"
   ]
  }
 ],
 "metadata": {
  "kernelspec": {
   "display_name": "Jake_env",
   "language": "python",
   "name": "python3"
  },
  "language_info": {
   "codemirror_mode": {
    "name": "ipython",
    "version": 3
   },
   "file_extension": ".py",
   "mimetype": "text/x-python",
   "name": "python",
   "nbconvert_exporter": "python",
   "pygments_lexer": "ipython3",
   "version": "3.11.0"
  }
 },
 "nbformat": 4,
 "nbformat_minor": 2
}
