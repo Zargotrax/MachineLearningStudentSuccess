{
 "cells": [
  {
   "cell_type": "code",
   "execution_count": 1,
   "metadata": {},
   "outputs": [],
   "source": [
    "import pandas as pd\n",
    "import numpy as np\n",
    "import pandas as pd\n",
    "import seaborn as sns\n",
    "import matplotlib.pyplot as plt\n",
    "\n",
    "from matplotlib import rcParams\n",
    "rcParams['figure.figsize'] = 12, 9"
   ]
  },
  {
   "cell_type": "markdown",
   "metadata": {},
   "source": [
    "### Initialization of the features_importance.csv data\n",
    "Empty the file and create the header using the following code. \n",
    "Then, fill the csv by running every models with the param \"log=True\" when evaluating the feature_importance"
   ]
  },
  {
   "cell_type": "code",
   "execution_count": 2,
   "metadata": {},
   "outputs": [],
   "source": [
    "def reset_data(reset=False):\n",
    "    if reset == False:\n",
    "        return\n",
    "    features = [\"feature_1 (most important)\", \"feature_1_weight\"]\n",
    "    for i in range(2, 135):\n",
    "        features.append(f\"feature_{i}\")\n",
    "        features.append(f\"feature_{i}_weight\")\n",
    "    header = [\"model_name\", \"params\"] + features\n",
    "    \n",
    "    # Create an empty DataFrame with the specified header\n",
    "    df_empty = pd.DataFrame(columns=header)\n",
    "    \n",
    "    # Save the empty DataFrame to the CSV file, overwriting its content\n",
    "    df_empty.to_csv(\"features_importance.csv\", index=False)\n",
    "    \n",
    "    print(\"File features_importances.csv has been opened and completely emptied with the new header.\")\n",
    "        \n",
    "# IMPORTANT : ONLY UNCOMMENT THIS AND RUN IT IF YOU WANT TO RESET THE features_importance.csv FILE!\n",
    "# Note that you can update a model in the csv by simply running it again with \"log=True\".\n",
    "# re-comment when you're done so that the model is not reset by accident\n",
    "#reset_data(True)\n",
    "    \n"
   ]
  },
  {
   "cell_type": "markdown",
   "metadata": {},
   "source": [
    "# Visualise the table"
   ]
  },
  {
   "cell_type": "code",
   "execution_count": 3,
   "metadata": {},
   "outputs": [
    {
     "name": "stdout",
     "output_type": "stream",
     "text": [
      "                                                             0                                   1                                   2                                   3                                   4                                   5\n",
      "model_name                                       XGBClassifier                  CatBoostClassifier              DecisionTreeClassifier                  LogisticRegression              RandomForestClassifier                                 SVC\n",
      "feature_1 (most important)  Unités curriculaires 2e semestr...  Unités curriculaires 2e semestr...  Unités curriculaires 2e semestr...  Unités curriculaires 2e semestr...  Unités curriculaires 2e semestr...           Frais de scolarité à jour\n",
      "feature_1_weight                                      0.190303                           27.220402                            0.795291                           14.601068                            0.232599                            1.397637\n",
      "feature_2                          Frais de scolarité à jour_0           Frais de scolarité à jour           Frais de scolarité à jour  Unités curriculaires 1er semest...  Unités curriculaires 1er semest...  Unités curriculaires 2e semestr...\n",
      "feature_2_weight                                      0.071445                            8.417881                            0.100373                           10.106462                            0.161179                            0.504961\n",
      "feature_3                   Unités curriculaires 1er semest...                               Cours  Unités curriculaires 2e semestr...  Unités curriculaires 2e semestr...  Unités curriculaires 2e semestr...                              Bourse\n",
      "feature_3_weight                                      0.044223                            7.101919                             0.05127                            4.054678                            0.125959                            0.412676\n",
      "feature_4                                 Mode d'application_5  Unités curriculaires 2e semestr...  Unités curriculaires 2e semestr...  Unités curriculaires 2e semestr...           Frais de scolarité à jour  Unités curriculaires 1er semest...\n",
      "feature_4_weight                                      0.024666                            5.634017                            0.009433                            2.733282                            0.072136                            0.363724\n",
      "feature_5                                              Cours_8  Unités curriculaires 1er semest...  Unités curriculaires 1er semest...                             Cours_2  Unités curriculaires 1er semest...  Unités curriculaires 2e semestr...\n",
      "feature_5_weight                                      0.020539                            4.735262                            0.009083                            2.593791                            0.071857                            0.138583\n",
      "feature_6                                      International_0  Unités curriculaires 1er semest...  Unités curriculaires 1er semest...               Mode d'application_10                 Âge à l'inscription          Besoins éducatifs spéciaux\n",
      "feature_6_weight                                      0.019072                            4.535337                            0.008149                            1.889991                            0.032041                            0.115267\n",
      "feature_7                                              Cours_9  Unités curriculaires 2e semestr...  Unités curriculaires 1er semest...                Qualification mère_2  Unités curriculaires 2e semestr...                          État civil\n",
      "feature_7_weight                                      0.018883                            4.060012                            0.005293                            1.676203                             0.03084                            0.104214\n",
      "feature_8                                    Occupation mère_1                              Bourse                  Qualification père                  Occupation mère_18                               Cours            Qualification antérieure\n",
      "feature_8_weight                                      0.018239                            3.155322                            0.004568                            1.482168                            0.023924                            0.074054\n",
      "feature_9                                    Occupation mère_8  Unités curriculaires 1er semest...  Unités curriculaires 1er semest...                        État civil_5  Unités curriculaires 1er semest...                       International\n",
      "feature_9_weight                                      0.016883                            3.131552                            0.003736                            1.466418                            0.021686                            0.058255\n",
      "feature_10                                            Cours_15                     Occupation père                    Taux d'inflation         Frais de scolarité à jour_1  Unités curriculaires 2e semestr...  Unités curriculaires 2e semestr...\n",
      "feature_10_weight                                     0.015805                            3.071165                            0.003604                            1.403225                            0.020896                            0.028144\n",
      "feature_11                                             Cours_5                  Mode d'application                              Bourse                  Occupation père_17                  Mode d'application  Unités curriculaires 1er semest...\n",
      "feature_11_weight                                     0.015706                             3.04209                            0.003115                            1.172176                            0.020212                            0.026594\n",
      "feature_12                                            Bourse_0                  Qualification père                               Cours                Qualification mère_9                              Bourse                     Occupation père\n",
      "feature_12_weight                                     0.015445                            2.909217                            0.002684                            1.157677                            0.020159                            0.023358\n",
      "feature_13                  Unités curriculaires 1er semest...  Unités curriculaires 2e semestr...                 Âge à l'inscription          Qualification antérieure_8  Unités curriculaires 1er semest...                  Qualification père\n",
      "feature_13_weight                                     0.014338                            2.893316                            0.002343                            1.144542                            0.020085                            0.011538\n",
      "feature_14                  Unités curriculaires 1er semest...                  Qualification mère                     Occupation mère          Qualification antérieure_7                              Dettes                     Occupation mère\n",
      "feature_14_weight                                     0.014069                            2.647293                            0.000932                            0.998457                            0.015647                           -0.002924\n",
      "feature_15                  Unités curriculaires 2e semestr...                 Âge à l'inscription  Unités curriculaires 2e semestr...                             Cours_9                     Occupation père                                 PIB\n",
      "feature_15_weight                                     0.013376                            2.354517                            0.000127                            0.987122                            0.014614                           -0.003458\n"
     ]
    }
   ],
   "source": [
    "data = pd.read_csv(\"./features_importance.csv\")\n",
    "\n",
    "features_to_keep = 15\n",
    "columns_cnt = 2 * features_to_keep + 1\n",
    "\n",
    "df = data.copy()\n",
    "df = df.drop('params', axis=1)\n",
    "df = df.iloc[:,:columns_cnt]\n",
    "\n",
    "pd.set_option('display.max_colwidth', 35)\n",
    "# Set the display width to the default value\n",
    "pd.set_option('display.width', 9999999)\n",
    "    \n",
    "print(df.transpose())"
   ]
  }
 ],
 "metadata": {
  "kernelspec": {
   "display_name": ".venv",
   "language": "python",
   "name": "python3"
  },
  "language_info": {
   "codemirror_mode": {
    "name": "ipython",
    "version": 3
   },
   "file_extension": ".py",
   "mimetype": "text/x-python",
   "name": "python",
   "nbconvert_exporter": "python",
   "pygments_lexer": "ipython3",
   "version": "3.11.0"
  }
 },
 "nbformat": 4,
 "nbformat_minor": 2
}
