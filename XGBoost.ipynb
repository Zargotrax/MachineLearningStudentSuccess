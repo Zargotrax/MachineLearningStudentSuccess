{
 "cells": [
  {
   "cell_type": "code",
   "execution_count": 164,
   "metadata": {},
   "outputs": [],
   "source": [
    "from load_dataset import load_data\n",
    "import utils\n",
    "import xgboost as xgb\n",
    "from sklearn.model_selection import train_test_split, cross_val_score, GridSearchCV\n",
    "from sklearn.metrics import classification_report\n",
    "import pandas as pd"
   ]
  },
  {
   "cell_type": "markdown",
   "metadata": {},
   "source": [
    "## Instancier le jeu de données"
   ]
  },
  {
   "cell_type": "code",
   "execution_count": 165,
   "metadata": {},
   "outputs": [],
   "source": [
    "X, y, cat_features = load_data().get_data_X_y(data='simplify', OneHot=True)"
   ]
  },
  {
   "cell_type": "code",
   "execution_count": 166,
   "metadata": {},
   "outputs": [],
   "source": [
    "X_train, X_test, y_train, y_test = train_test_split(X, y, test_size=0.3, random_state=42)"
   ]
  },
  {
   "cell_type": "markdown",
   "metadata": {},
   "source": [
    "## Classification par xgboost (Avec One-Hot Encoding):"
   ]
  },
  {
   "cell_type": "code",
   "execution_count": 167,
   "metadata": {},
   "outputs": [
    {
     "name": "stdout",
     "output_type": "stream",
     "text": [
      "Train Accuracy : 100.000 %\n"
     ]
    }
   ],
   "source": [
    "xgbClassifier = xgb.XGBClassifier(objective=\"binary:logistic\", random_state=42)\n",
    "xgbClassifier.fit(X_train, y_train)\n",
    "\n",
    "print(f\"Train Accuracy : {xgbClassifier.score(X_train, y_train) * 100:.3f} %\")"
   ]
  },
  {
   "cell_type": "code",
   "execution_count": 168,
   "metadata": {},
   "outputs": [
    {
     "name": "stdout",
     "output_type": "stream",
     "text": [
      "Test Accuracy : 90.266 %\n"
     ]
    }
   ],
   "source": [
    "print(f\"Test Accuracy : {xgbClassifier.score(X_test, y_test) * 100:.3f} %\")"
   ]
  },
  {
   "cell_type": "code",
   "execution_count": 169,
   "metadata": {},
   "outputs": [
    {
     "name": "stdout",
     "output_type": "stream",
     "text": [
      "              precision    recall  f1-score   support\n",
      "\n",
      "           0       0.90      0.84      0.87       414\n",
      "           1       0.90      0.94      0.92       675\n",
      "\n",
      "    accuracy                           0.90      1089\n",
      "   macro avg       0.90      0.89      0.90      1089\n",
      "weighted avg       0.90      0.90      0.90      1089\n",
      "\n"
     ]
    }
   ],
   "source": [
    "preds = xgbClassifier.predict(X_test)\n",
    "print(classification_report(y_test, preds))"
   ]
  },
  {
   "cell_type": "code",
   "execution_count": 170,
   "metadata": {},
   "outputs": [
    {
     "data": {
      "text/plain": [
       "array([0.90373281, 0.8976378 , 0.90551181, 0.9015748 , 0.88188976])"
      ]
     },
     "execution_count": 170,
     "metadata": {},
     "output_type": "execute_result"
    }
   ],
   "source": [
    "# Validation croisée sur les données d'entraînement\n",
    "cross_val = cross_val_score(xgbClassifier, X_train, y_train, cv=5)\n",
    "cross_val"
   ]
  },
  {
   "cell_type": "code",
   "execution_count": 171,
   "metadata": {},
   "outputs": [
    {
     "name": "stdout",
     "output_type": "stream",
     "text": [
      "Mean Cross-validation score sur le train dataset : 89.807%\n"
     ]
    }
   ],
   "source": [
    "print(f\"Mean Cross-validation score sur le train dataset : {cross_val.mean() * 100:.3f}%\")"
   ]
  },
  {
   "cell_type": "markdown",
   "metadata": {},
   "source": [
    "## Feature Importance"
   ]
  },
  {
   "cell_type": "code",
   "execution_count": 172,
   "metadata": {},
   "outputs": [
    {
     "data": {
      "text/html": [
       "<div>\n",
       "<style scoped>\n",
       "    .dataframe tbody tr th:only-of-type {\n",
       "        vertical-align: middle;\n",
       "    }\n",
       "\n",
       "    .dataframe tbody tr th {\n",
       "        vertical-align: top;\n",
       "    }\n",
       "\n",
       "    .dataframe thead th {\n",
       "        text-align: right;\n",
       "    }\n",
       "</style>\n",
       "<table border=\"1\" class=\"dataframe\">\n",
       "  <thead>\n",
       "    <tr style=\"text-align: right;\">\n",
       "      <th></th>\n",
       "      <th>Importance</th>\n",
       "    </tr>\n",
       "  </thead>\n",
       "  <tbody>\n",
       "    <tr>\n",
       "      <th>Unités curriculaires 2e semestre (approuvées)</th>\n",
       "      <td>0.191808</td>\n",
       "    </tr>\n",
       "    <tr>\n",
       "      <th>Frais de scolarité à jour_0</th>\n",
       "      <td>0.083047</td>\n",
       "    </tr>\n",
       "    <tr>\n",
       "      <th>Unités curriculaires 1er semestre (inscrits)</th>\n",
       "      <td>0.041927</td>\n",
       "    </tr>\n",
       "    <tr>\n",
       "      <th>International_0</th>\n",
       "      <td>0.019702</td>\n",
       "    </tr>\n",
       "    <tr>\n",
       "      <th>Unités curriculaires 2e semestre (inscrits)</th>\n",
       "      <td>0.018259</td>\n",
       "    </tr>\n",
       "    <tr>\n",
       "      <th>...</th>\n",
       "      <td>...</td>\n",
       "    </tr>\n",
       "    <tr>\n",
       "      <th>Qualification père_1</th>\n",
       "      <td>0.000000</td>\n",
       "    </tr>\n",
       "    <tr>\n",
       "      <th>Qualification mère_12</th>\n",
       "      <td>0.000000</td>\n",
       "    </tr>\n",
       "    <tr>\n",
       "      <th>Qualification mère_11</th>\n",
       "      <td>0.000000</td>\n",
       "    </tr>\n",
       "    <tr>\n",
       "      <th>Qualification mère_6</th>\n",
       "      <td>0.000000</td>\n",
       "    </tr>\n",
       "    <tr>\n",
       "      <th>International_1</th>\n",
       "      <td>0.000000</td>\n",
       "    </tr>\n",
       "  </tbody>\n",
       "</table>\n",
       "<p>135 rows × 1 columns</p>\n",
       "</div>"
      ],
      "text/plain": [
       "                                               Importance\n",
       "Unités curriculaires 2e semestre (approuvées)    0.191808\n",
       "Frais de scolarité à jour_0                      0.083047\n",
       "Unités curriculaires 1er semestre (inscrits)     0.041927\n",
       "International_0                                  0.019702\n",
       "Unités curriculaires 2e semestre (inscrits)      0.018259\n",
       "...                                                   ...\n",
       "Qualification père_1                             0.000000\n",
       "Qualification mère_12                            0.000000\n",
       "Qualification mère_11                            0.000000\n",
       "Qualification mère_6                             0.000000\n",
       "International_1                                  0.000000\n",
       "\n",
       "[135 rows x 1 columns]"
      ]
     },
     "execution_count": 172,
     "metadata": {},
     "output_type": "execute_result"
    }
   ],
   "source": [
    "utils.features_importance(xgbClassifier, X_train.columns)"
   ]
  },
  {
   "cell_type": "markdown",
   "metadata": {},
   "source": [
    "## Classification par xgboost (Sans One-Hot Encoding):\n",
    "\n",
    "En utilisant le paramètre enable_categorical=True, Shap n'est pas compatible avec cette méthode"
   ]
  },
  {
   "cell_type": "code",
   "execution_count": 173,
   "metadata": {},
   "outputs": [],
   "source": [
    "X, y, cat_features = load_data().get_data_X_y(data='simplify', OneHot=False)"
   ]
  },
  {
   "cell_type": "code",
   "execution_count": 174,
   "metadata": {},
   "outputs": [],
   "source": [
    "X_train, X_test, y_train, y_test = train_test_split(X, y, test_size=0.3, random_state=42)"
   ]
  },
  {
   "cell_type": "code",
   "execution_count": 175,
   "metadata": {},
   "outputs": [
    {
     "name": "stdout",
     "output_type": "stream",
     "text": [
      "Train Accuracy : 100.000 %\n"
     ]
    }
   ],
   "source": [
    "xgbClassifier = xgb.XGBClassifier(objective=\"binary:logistic\", random_state=42, enable_categorical=True, tree_method=\"hist\")\n",
    "xgbClassifier.fit(X_train, y_train)\n",
    "\n",
    "print(f\"Train Accuracy : {xgbClassifier.score(X_train, y_train) * 100:.3f} %\")"
   ]
  },
  {
   "cell_type": "code",
   "execution_count": 176,
   "metadata": {},
   "outputs": [
    {
     "name": "stdout",
     "output_type": "stream",
     "text": [
      "Test Accuracy : 89.532 %\n"
     ]
    }
   ],
   "source": [
    "print(f\"Test Accuracy : {xgbClassifier.score(X_test, y_test) * 100:.3f} %\")"
   ]
  },
  {
   "cell_type": "code",
   "execution_count": 177,
   "metadata": {},
   "outputs": [
    {
     "name": "stdout",
     "output_type": "stream",
     "text": [
      "              precision    recall  f1-score   support\n",
      "\n",
      "           0       0.89      0.83      0.86       414\n",
      "           1       0.90      0.93      0.92       675\n",
      "\n",
      "    accuracy                           0.90      1089\n",
      "   macro avg       0.89      0.88      0.89      1089\n",
      "weighted avg       0.89      0.90      0.89      1089\n",
      "\n"
     ]
    }
   ],
   "source": [
    "preds = xgbClassifier.predict(X_test)\n",
    "print(classification_report(y_test, preds))"
   ]
  },
  {
   "cell_type": "code",
   "execution_count": 178,
   "metadata": {},
   "outputs": [
    {
     "data": {
      "text/plain": [
       "array([0.90176817, 0.88976378, 0.90944882, 0.9015748 , 0.88779528])"
      ]
     },
     "execution_count": 178,
     "metadata": {},
     "output_type": "execute_result"
    }
   ],
   "source": [
    "# Validation croisée sur les données d'entraînement\n",
    "cross_val = cross_val_score(xgbClassifier, X_train, y_train, cv=5)\n",
    "cross_val"
   ]
  },
  {
   "cell_type": "code",
   "execution_count": 179,
   "metadata": {},
   "outputs": [
    {
     "name": "stdout",
     "output_type": "stream",
     "text": [
      "Mean Cross-validation score sur le train dataset : 89.807%\n"
     ]
    }
   ],
   "source": [
    "print(f\"Mean Cross-validation score sur le train dataset : {cross_val.mean() * 100:.3f}%\")"
   ]
  },
  {
   "cell_type": "markdown",
   "metadata": {},
   "source": [
    "## Feature Importance"
   ]
  },
  {
   "cell_type": "code",
   "execution_count": 180,
   "metadata": {},
   "outputs": [
    {
     "data": {
      "text/html": [
       "<div>\n",
       "<style scoped>\n",
       "    .dataframe tbody tr th:only-of-type {\n",
       "        vertical-align: middle;\n",
       "    }\n",
       "\n",
       "    .dataframe tbody tr th {\n",
       "        vertical-align: top;\n",
       "    }\n",
       "\n",
       "    .dataframe thead th {\n",
       "        text-align: right;\n",
       "    }\n",
       "</style>\n",
       "<table border=\"1\" class=\"dataframe\">\n",
       "  <thead>\n",
       "    <tr style=\"text-align: right;\">\n",
       "      <th></th>\n",
       "      <th>Importance</th>\n",
       "    </tr>\n",
       "  </thead>\n",
       "  <tbody>\n",
       "    <tr>\n",
       "      <th>Unités curriculaires 2e semestre (approuvées)</th>\n",
       "      <td>0.338912</td>\n",
       "    </tr>\n",
       "    <tr>\n",
       "      <th>Frais de scolarité à jour</th>\n",
       "      <td>0.119559</td>\n",
       "    </tr>\n",
       "    <tr>\n",
       "      <th>Unités curriculaires 1er semestre (inscrits)</th>\n",
       "      <td>0.060418</td>\n",
       "    </tr>\n",
       "    <tr>\n",
       "      <th>International</th>\n",
       "      <td>0.039473</td>\n",
       "    </tr>\n",
       "    <tr>\n",
       "      <th>Cours</th>\n",
       "      <td>0.033568</td>\n",
       "    </tr>\n",
       "    <tr>\n",
       "      <th>Qualification antérieure</th>\n",
       "      <td>0.032198</td>\n",
       "    </tr>\n",
       "    <tr>\n",
       "      <th>Unités curriculaires 1er semestre (créditées)</th>\n",
       "      <td>0.027767</td>\n",
       "    </tr>\n",
       "    <tr>\n",
       "      <th>Bourse</th>\n",
       "      <td>0.023678</td>\n",
       "    </tr>\n",
       "    <tr>\n",
       "      <th>Unités curriculaires 2e semestre (inscrits)</th>\n",
       "      <td>0.022832</td>\n",
       "    </tr>\n",
       "    <tr>\n",
       "      <th>Unités curriculaires 1er semestre (sans évaluations)</th>\n",
       "      <td>0.020452</td>\n",
       "    </tr>\n",
       "    <tr>\n",
       "      <th>Unités curriculaires 2e semestre (évaluations)</th>\n",
       "      <td>0.018109</td>\n",
       "    </tr>\n",
       "    <tr>\n",
       "      <th>Occupation père</th>\n",
       "      <td>0.017750</td>\n",
       "    </tr>\n",
       "    <tr>\n",
       "      <th>Qualification père</th>\n",
       "      <td>0.017657</td>\n",
       "    </tr>\n",
       "    <tr>\n",
       "      <th>Unités curriculaires 1er semestre (approuvées)</th>\n",
       "      <td>0.017559</td>\n",
       "    </tr>\n",
       "    <tr>\n",
       "      <th>Mode d'application</th>\n",
       "      <td>0.016029</td>\n",
       "    </tr>\n",
       "    <tr>\n",
       "      <th>Unités curriculaires 1er semestre (évaluations)</th>\n",
       "      <td>0.015202</td>\n",
       "    </tr>\n",
       "    <tr>\n",
       "      <th>État civil</th>\n",
       "      <td>0.014931</td>\n",
       "    </tr>\n",
       "    <tr>\n",
       "      <th>Dettes</th>\n",
       "      <td>0.014362</td>\n",
       "    </tr>\n",
       "    <tr>\n",
       "      <th>Occupation mère</th>\n",
       "      <td>0.013703</td>\n",
       "    </tr>\n",
       "    <tr>\n",
       "      <th>Unités curriculaires 2e semestre (note)</th>\n",
       "      <td>0.012981</td>\n",
       "    </tr>\n",
       "    <tr>\n",
       "      <th>Âge à l'inscription</th>\n",
       "      <td>0.012708</td>\n",
       "    </tr>\n",
       "    <tr>\n",
       "      <th>Qualification mère</th>\n",
       "      <td>0.012575</td>\n",
       "    </tr>\n",
       "    <tr>\n",
       "      <th>Ordre d'application</th>\n",
       "      <td>0.012390</td>\n",
       "    </tr>\n",
       "    <tr>\n",
       "      <th>Sexe</th>\n",
       "      <td>0.012159</td>\n",
       "    </tr>\n",
       "    <tr>\n",
       "      <th>Unités curriculaires 1er semestre (note)</th>\n",
       "      <td>0.011474</td>\n",
       "    </tr>\n",
       "    <tr>\n",
       "      <th>Taux d'inflation</th>\n",
       "      <td>0.009944</td>\n",
       "    </tr>\n",
       "    <tr>\n",
       "      <th>Unités curriculaires 2e semestre (créditées)</th>\n",
       "      <td>0.009904</td>\n",
       "    </tr>\n",
       "    <tr>\n",
       "      <th>PIB</th>\n",
       "      <td>0.009074</td>\n",
       "    </tr>\n",
       "    <tr>\n",
       "      <th>Taux de chômage</th>\n",
       "      <td>0.009063</td>\n",
       "    </tr>\n",
       "    <tr>\n",
       "      <th>Déplacé</th>\n",
       "      <td>0.008884</td>\n",
       "    </tr>\n",
       "    <tr>\n",
       "      <th>Unités curriculaires 2e semestre (sans évaluations)</th>\n",
       "      <td>0.008395</td>\n",
       "    </tr>\n",
       "    <tr>\n",
       "      <th>Présence jour/soir</th>\n",
       "      <td>0.006287</td>\n",
       "    </tr>\n",
       "    <tr>\n",
       "      <th>Besoins éducatifs spéciaux</th>\n",
       "      <td>0.000000</td>\n",
       "    </tr>\n",
       "  </tbody>\n",
       "</table>\n",
       "</div>"
      ],
      "text/plain": [
       "                                                    Importance\n",
       "Unités curriculaires 2e semestre (approuvées)         0.338912\n",
       "Frais de scolarité à jour                             0.119559\n",
       "Unités curriculaires 1er semestre (inscrits)          0.060418\n",
       "International                                         0.039473\n",
       "Cours                                                 0.033568\n",
       "Qualification antérieure                              0.032198\n",
       "Unités curriculaires 1er semestre (créditées)         0.027767\n",
       "Bourse                                                0.023678\n",
       "Unités curriculaires 2e semestre (inscrits)           0.022832\n",
       "Unités curriculaires 1er semestre (sans évaluat...    0.020452\n",
       "Unités curriculaires 2e semestre (évaluations)        0.018109\n",
       "Occupation père                                       0.017750\n",
       "Qualification père                                    0.017657\n",
       "Unités curriculaires 1er semestre (approuvées)        0.017559\n",
       "Mode d'application                                    0.016029\n",
       "Unités curriculaires 1er semestre (évaluations)       0.015202\n",
       "État civil                                            0.014931\n",
       "Dettes                                                0.014362\n",
       "Occupation mère                                       0.013703\n",
       "Unités curriculaires 2e semestre (note)               0.012981\n",
       "Âge à l'inscription                                   0.012708\n",
       "Qualification mère                                    0.012575\n",
       "Ordre d'application                                   0.012390\n",
       "Sexe                                                  0.012159\n",
       "Unités curriculaires 1er semestre (note)              0.011474\n",
       "Taux d'inflation                                      0.009944\n",
       "Unités curriculaires 2e semestre (créditées)          0.009904\n",
       "PIB                                                   0.009074\n",
       "Taux de chômage                                       0.009063\n",
       "Déplacé                                               0.008884\n",
       "Unités curriculaires 2e semestre (sans évaluati...    0.008395\n",
       "Présence jour/soir                                    0.006287\n",
       "Besoins éducatifs spéciaux                            0.000000"
      ]
     },
     "execution_count": 180,
     "metadata": {},
     "output_type": "execute_result"
    }
   ],
   "source": [
    "utils.features_importance(xgbClassifier, X_train.columns)"
   ]
  },
  {
   "cell_type": "markdown",
   "metadata": {},
   "source": [
    "## Optimisation des Hyperparamètres"
   ]
  },
  {
   "cell_type": "code",
   "execution_count": 181,
   "metadata": {},
   "outputs": [],
   "source": [
    "X, y, cat_features = load_data().get_data_X_y(data='simplify', OneHot=True)\n",
    "X_train, X_test, y_train, y_test = train_test_split(X, y, test_size=0.3, random_state=42)"
   ]
  },
  {
   "cell_type": "code",
   "execution_count": 182,
   "metadata": {},
   "outputs": [
    {
     "name": "stdout",
     "output_type": "stream",
     "text": [
      "Meilleurs hyperparamèetres:\n",
      "  booster  learning_rate  n_estimators        objective\n",
      "0  gbtree            0.1            50  binary:logistic\n",
      "\n",
      "Meilleur score: 0.9205512115483762\n"
     ]
    }
   ],
   "source": [
    "# init xgb classifier\n",
    "xgb_clf = xgb.XGBClassifier(verbosity=0, random_state=42)\n",
    "\n",
    "param_grid = {\n",
    "    'objective':[\"binary:logistic\", \"binary:hinge\"],\n",
    "    'booster':[\"gblinear\", \"gbtree\"],\n",
    "    'n_estimators': [50, 100, 150],\n",
    "    'learning_rate': [0.01, 0.05, 0.1],\n",
    "}\n",
    "\n",
    "\n",
    "# init grid search\n",
    "grid_search = GridSearchCV(estimator=xgb_clf, param_grid=param_grid, cv=3, scoring='f1')\n",
    "\n",
    "grid_search.fit(X_train, y_train)\n",
    "\n",
    "best_parameters = grid_search.best_params_\n",
    "best_score = grid_search.best_score_\n",
    "\n",
    "print(\"Meilleurs hyperparamèetres:\")\n",
    "best_parameters_df = {key: [value] for key, value in best_parameters.items()}\n",
    "df = pd.DataFrame(best_parameters_df)\n",
    "print(df)\n",
    "print()\n",
    "print(\"Meilleur score:\", best_score)"
   ]
  },
  {
   "cell_type": "code",
   "execution_count": 183,
   "metadata": {},
   "outputs": [],
   "source": [
    "model = grid_search.best_estimator_"
   ]
  },
  {
   "cell_type": "code",
   "execution_count": 184,
   "metadata": {},
   "outputs": [
    {
     "name": "stdout",
     "output_type": "stream",
     "text": [
      "Train Accuracy : 95.789 %\n"
     ]
    }
   ],
   "source": [
    "model.fit(X_train, y_train)\n",
    "\n",
    "print(f\"Train Accuracy : {model.score(X_train, y_train) * 100:.3f} %\")"
   ]
  },
  {
   "cell_type": "code",
   "execution_count": 185,
   "metadata": {},
   "outputs": [
    {
     "name": "stdout",
     "output_type": "stream",
     "text": [
      "Test Accuracy : 90.542 %\n"
     ]
    }
   ],
   "source": [
    "print(f\"Test Accuracy : {model.score(X_test, y_test) * 100:.3f} %\")"
   ]
  }
 ],
 "metadata": {
  "kernelspec": {
   "display_name": "Jake_env",
   "language": "python",
   "name": "python3"
  },
  "language_info": {
   "codemirror_mode": {
    "name": "ipython",
    "version": 3
   },
   "file_extension": ".py",
   "mimetype": "text/x-python",
   "name": "python",
   "nbconvert_exporter": "python",
   "pygments_lexer": "ipython3",
   "version": "3.10.12"
  }
 },
 "nbformat": 4,
 "nbformat_minor": 2
}
