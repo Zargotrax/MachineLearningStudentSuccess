{
 "cells": [
  {
   "cell_type": "code",
   "execution_count": 1,
   "metadata": {},
   "outputs": [],
   "source": [
    "import numpy as np\n",
    "from load_dataset import load_data\n",
    "import utils\n",
    "\n",
    "from sklearn import metrics\n",
    "from sklearn import preprocessing\n",
    "from sklearn.neighbors import KNeighborsClassifier\n",
    "from sklearn.model_selection import train_test_split\n",
    "from sklearn.model_selection import GridSearchCV\n",
    "from sklearn.feature_selection import SelectKBest, f_classif"
   ]
  },
  {
   "cell_type": "markdown",
   "metadata": {},
   "source": [
    "## Instancier le jeu de données"
   ]
  },
  {
   "cell_type": "code",
   "execution_count": 2,
   "metadata": {},
   "outputs": [],
   "source": [
    "X, y, cat_features = load_data().get_data_X_y(data='simplify')"
   ]
  },
  {
   "cell_type": "code",
   "execution_count": 10,
   "metadata": {},
   "outputs": [],
   "source": [
    "X_train, X_test, y_train, y_test = train_test_split(X, y, test_size=0.3, random_state=42)\n",
    "X_train_cpy = X_train.copy()"
   ]
  },
  {
   "cell_type": "markdown",
   "metadata": {},
   "source": [
    "### Feature selection\n",
    "Let's test what inputs has the most impact on the outcome for a few values of K"
   ]
  },
  {
   "cell_type": "code",
   "execution_count": 4,
   "metadata": {},
   "outputs": [
    {
     "name": "stdout",
     "output_type": "stream",
     "text": [
      "most important inputs : Index(['Unités curriculaires 2e semestre (approuvées)',\n",
      "       'Unités curriculaires 2e semestre (note)',\n",
      "       'Unités curriculaires 1er semestre (approuvées)',\n",
      "       'Unités curriculaires 1er semestre (note)',\n",
      "       'Frais de scolarité à jour'],\n",
      "      dtype='object')\n"
     ]
    }
   ],
   "source": [
    "desired_features_cnt = 5\n",
    "\n",
    "ft = SelectKBest(f_classif, k=desired_features_cnt).fit(X_train, y_train)\n",
    "ft_np = np.array(ft.scores_)\n",
    "max_elements_ind = np.argpartition(ft_np, -desired_features_cnt)[-desired_features_cnt:]\n",
    "top = X_train.columns[max_elements_ind]\n",
    "\n",
    "print(f'most important inputs : {X_train.columns[max_elements_ind[np.argsort(ft_np[max_elements_ind])[::-1]]]}')"
   ]
  },
  {
   "cell_type": "markdown",
   "metadata": {},
   "source": [
    "### Finding a good range for K\n",
    "Testing a couple of values for K with a default KNN classifier, let's find the range we want for the tuning"
   ]
  },
  {
   "cell_type": "code",
   "execution_count": 5,
   "metadata": {},
   "outputs": [
    {
     "data": {
      "text/plain": [
       "\"\\nloc = np.arange(1,n_range + 1,step=1.0)\\nplt.figure(figsize = (10, 6))\\nplt.plot(range(1,n_range + 1), mean_acc)\\nplt.xticks(loc)\\nplt.xlabel('Number of Neighbors ')\\nplt.ylabel('Accuracy')\\nplt.show()\\n\""
      ]
     },
     "execution_count": 5,
     "metadata": {},
     "output_type": "execute_result"
    }
   ],
   "source": [
    "# Preprocessing\n",
    "X_train_2 = ft.transform(X_train)\n",
    "X_test_2 = ft.transform(X_test)\n",
    "X_train = preprocessing.StandardScaler().fit(X_train_2).transform(X_train_2.astype(float))\n",
    "X_test = preprocessing.StandardScaler().fit(X_test_2).transform(X_test_2.astype(float))\n",
    "\n",
    "n_range = 30\n",
    "mean_acc = np.zeros(n_range)\n",
    "for i in range(1,n_range + 1):\n",
    "    #Train Model and Predict  \n",
    "    knn = KNeighborsClassifier(n_neighbors = i).fit(X_train,y_train)\n",
    "    yhat= knn.predict(X_test)\n",
    "    mean_acc[i-1] = metrics.accuracy_score(y_test, yhat)\n",
    "    \n",
    "k_range_cnt = 10\n",
    "k_range = np.argpartition(mean_acc, -k_range_cnt)[-k_range_cnt:]\n",
    "#print(k_range)\n",
    "\n",
    "\"\"\"\n",
    "loc = np.arange(1,n_range + 1,step=1.0)\n",
    "plt.figure(figsize = (10, 6))\n",
    "plt.plot(range(1,n_range + 1), mean_acc)\n",
    "plt.xticks(loc)\n",
    "plt.xlabel('Number of Neighbors ')\n",
    "plt.ylabel('Accuracy')\n",
    "plt.show()\n",
    "\"\"\"\n"
   ]
  },
  {
   "cell_type": "markdown",
   "metadata": {},
   "source": [
    "# Hyperparameters tuning\n",
    "\n",
    "### 1. every hyperparameters"
   ]
  },
  {
   "cell_type": "code",
   "execution_count": 6,
   "metadata": {},
   "outputs": [
    {
     "name": "stdout",
     "output_type": "stream",
     "text": [
      "Fitting 5 folds for each of 360 candidates, totalling 1800 fits\n",
      "best score : 0.8878339495382331\n",
      "best params : {'algorithm': 'ball_tree', 'metric': 'minkowski', 'n_neighbors': 14, 'p': 1, 'weights': 'uniform'}\n"
     ]
    }
   ],
   "source": [
    "\n",
    "grid_params = { \n",
    "               'n_neighbors' : k_range,\n",
    "               'weights' : ['uniform','distance'],\n",
    "               'metric' : ['minkowski','euclidean','manhattan'],\n",
    "               'algorithm' : ['ball_tree', 'kd_tree', 'brute'],\n",
    "               'p' : [1,2],\n",
    "               }\n",
    "gs = GridSearchCV(KNeighborsClassifier(), grid_params, verbose = 1, cv=5, n_jobs = -1)\n",
    "g_res = gs.fit(X_train, y_train)\n",
    "\n",
    "tuned_best_param_1 = g_res.best_params_\n",
    "print(f'best score : {g_res.best_score_}')\n",
    "print(f'best params : {tuned_best_param_1}')"
   ]
  },
  {
   "cell_type": "markdown",
   "metadata": {},
   "source": [
    "### Performance comparisons"
   ]
  },
  {
   "cell_type": "code",
   "execution_count": 7,
   "metadata": {},
   "outputs": [
    {
     "name": "stdout",
     "output_type": "stream",
     "text": [
      "\n",
      "control\n",
      "KNeighborsClassifier with params {'algorithm': 'auto', 'leaf_size': 30, 'metric': 'minkowski', 'metric_params': None, 'n_jobs': None, 'n_neighbors': 5, 'p': 2, 'weights': 'uniform'}\n",
      "train_time: 0.2749974727630615, classification report: \n",
      "              precision    recall  f1-score   support\n",
      "\n",
      "           0       0.89      0.69      0.78       435\n",
      "           1       0.82      0.94      0.88       654\n",
      "\n",
      "    accuracy                           0.84      1089\n",
      "   macro avg       0.85      0.82      0.83      1089\n",
      "weighted avg       0.85      0.84      0.84      1089\n",
      "\n",
      "performance: 0.8173099230201413\n",
      "\n",
      "with optimized hyperparameters\n",
      "KNeighborsClassifier with params {'algorithm': 'ball_tree', 'leaf_size': 30, 'metric': 'minkowski', 'metric_params': None, 'n_jobs': None, 'n_neighbors': 14, 'p': 1, 'weights': 'uniform'}\n",
      "train_time: 0.1634986400604248, classification report: \n",
      "              precision    recall  f1-score   support\n",
      "\n",
      "           0       0.93      0.71      0.80       435\n",
      "           1       0.83      0.96      0.89       654\n",
      "\n",
      "    accuracy                           0.86      1089\n",
      "   macro avg       0.88      0.84      0.85      1089\n",
      "weighted avg       0.87      0.86      0.86      1089\n",
      "\n",
      "performance: 0.8364388906464197\n"
     ]
    }
   ],
   "source": [
    "tuned_clf = [KNeighborsClassifier(), KNeighborsClassifier(**tuned_best_param_1)]\n",
    "names = ['control', 'with optimized hyperparameters']\n",
    "\n",
    "utils.compare_classifiers(tuned_clf, X, y, clf_names=names)"
   ]
  },
  {
   "cell_type": "code",
   "execution_count": 11,
   "metadata": {},
   "outputs": [
    {
     "ename": "AttributeError",
     "evalue": "'KNeighborsClassifier' object has no attribute 'feature_importances_'",
     "output_type": "error",
     "traceback": [
      "\u001b[1;31m---------------------------------------------------------------------------\u001b[0m",
      "\u001b[1;31mAttributeError\u001b[0m                            Traceback (most recent call last)",
      "\u001b[1;32mc:\\Users\\samue\\Documents\\school\\A2023\\GIF-4101\\proj\\MachineLearningStudentSuccess\\KNN.ipynb Cell 13\u001b[0m line \u001b[0;36m1\n\u001b[1;32m----> <a href='vscode-notebook-cell:/c%3A/Users/samue/Documents/school/A2023/GIF-4101/proj/MachineLearningStudentSuccess/KNN.ipynb#X34sZmlsZQ%3D%3D?line=0'>1</a>\u001b[0m utils\u001b[39m.\u001b[39;49mfeatures_importance(KNeighborsClassifier(\u001b[39m*\u001b[39;49m\u001b[39m*\u001b[39;49mtuned_best_param_1), X_train_cpy\u001b[39m.\u001b[39;49mcolumns, plot\u001b[39m=\u001b[39;49m\u001b[39mFalse\u001b[39;49;00m, log\u001b[39m=\u001b[39;49m\u001b[39mTrue\u001b[39;49;00m)\n",
      "File \u001b[1;32mc:\\Users\\samue\\Documents\\school\\A2023\\GIF-4101\\proj\\MachineLearningStudentSuccess\\utils.py:90\u001b[0m, in \u001b[0;36mfeatures_importance\u001b[1;34m(clf, X_train_columns, plot, _coef, log)\u001b[0m\n\u001b[0;32m     88\u001b[0m     feat_imp \u001b[39m=\u001b[39m clf\u001b[39m.\u001b[39mcoef_\u001b[39m.\u001b[39mT\n\u001b[0;32m     89\u001b[0m \u001b[39melse\u001b[39;00m:\n\u001b[1;32m---> 90\u001b[0m     feat_imp \u001b[39m=\u001b[39m clf\u001b[39m.\u001b[39;49mfeature_importances_\n\u001b[0;32m     91\u001b[0m feat_df \u001b[39m=\u001b[39m pd\u001b[39m.\u001b[39mDataFrame(\n\u001b[0;32m     92\u001b[0m     feat_imp, index\u001b[39m=\u001b[39mX_train_columns, columns\u001b[39m=\u001b[39m[\u001b[39m\"\u001b[39m\u001b[39mImportance\u001b[39m\u001b[39m\"\u001b[39m])\n\u001b[0;32m     93\u001b[0m \u001b[39msorted\u001b[39m \u001b[39m=\u001b[39m feat_df\u001b[39m.\u001b[39msort_values(by\u001b[39m=\u001b[39m\u001b[39m\"\u001b[39m\u001b[39mImportance\u001b[39m\u001b[39m\"\u001b[39m, ascending\u001b[39m=\u001b[39m\u001b[39mFalse\u001b[39;00m)\n",
      "\u001b[1;31mAttributeError\u001b[0m: 'KNeighborsClassifier' object has no attribute 'feature_importances_'"
     ]
    }
   ],
   "source": [
    "#utils.features_importance(KNeighborsClassifier(**tuned_best_param_1), X_train_cpy.columns, plot=False, log=True)"
   ]
  },
  {
   "cell_type": "markdown",
   "metadata": {},
   "source": [
    "## Observations\n",
    "- Tuning the leaf size does nothing for performance. Same for P\n",
    "- Increasing the sizes of K and the number of columns helps every versions but the one where we tune every hyperparameters\n",
    "- with 10 columns every tunings have the same score of 84.20%\n",
    "- The chosen metric seems to pretty much always choose minkowsky"
   ]
  }
 ],
 "metadata": {
  "kernelspec": {
   "display_name": ".venv",
   "language": "python",
   "name": "python3"
  },
  "language_info": {
   "codemirror_mode": {
    "name": "ipython",
    "version": 3
   },
   "file_extension": ".py",
   "mimetype": "text/x-python",
   "name": "python",
   "nbconvert_exporter": "python",
   "pygments_lexer": "ipython3",
   "version": "3.10.12"
  }
 },
 "nbformat": 4,
 "nbformat_minor": 2
}
