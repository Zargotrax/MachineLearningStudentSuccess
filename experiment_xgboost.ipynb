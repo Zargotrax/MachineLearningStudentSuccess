{
 "cells": [
  {
   "cell_type": "code",
   "execution_count": 1,
   "id": "initial_id",
   "metadata": {
    "ExecuteTime": {
     "end_time": "2023-11-01T23:54:29.836617Z",
     "start_time": "2023-11-01T23:54:29.819662800Z"
    },
    "collapsed": true
   },
   "outputs": [],
   "source": [
    "import pandas as pd\n",
    "import numpy as np"
   ]
  },
  {
   "cell_type": "markdown",
   "metadata": {},
   "source": [
    "## Prétraitement des données:"
   ]
  },
  {
   "cell_type": "code",
   "execution_count": 2,
   "id": "f9a905d6c5f31208",
   "metadata": {
    "ExecuteTime": {
     "end_time": "2023-11-01T23:54:33.576685400Z",
     "start_time": "2023-11-01T23:54:33.538786400Z"
    },
    "collapsed": false
   },
   "outputs": [
    {
     "data": {
      "text/html": [
       "<div>\n",
       "<style scoped>\n",
       "    .dataframe tbody tr th:only-of-type {\n",
       "        vertical-align: middle;\n",
       "    }\n",
       "\n",
       "    .dataframe tbody tr th {\n",
       "        vertical-align: top;\n",
       "    }\n",
       "\n",
       "    .dataframe thead th {\n",
       "        text-align: right;\n",
       "    }\n",
       "</style>\n",
       "<table border=\"1\" class=\"dataframe\">\n",
       "  <thead>\n",
       "    <tr style=\"text-align: right;\">\n",
       "      <th></th>\n",
       "      <th>Marital status</th>\n",
       "      <th>Application mode</th>\n",
       "      <th>Application order</th>\n",
       "      <th>Course</th>\n",
       "      <th>Daytime/evening attendance</th>\n",
       "      <th>Previous qualification</th>\n",
       "      <th>Nacionality</th>\n",
       "      <th>Mother's qualification</th>\n",
       "      <th>Father's qualification</th>\n",
       "      <th>Mother's occupation</th>\n",
       "      <th>...</th>\n",
       "      <th>Curricular units 2nd sem (credited)</th>\n",
       "      <th>Curricular units 2nd sem (enrolled)</th>\n",
       "      <th>Curricular units 2nd sem (evaluations)</th>\n",
       "      <th>Curricular units 2nd sem (approved)</th>\n",
       "      <th>Curricular units 2nd sem (grade)</th>\n",
       "      <th>Curricular units 2nd sem (without evaluations)</th>\n",
       "      <th>Unemployment rate</th>\n",
       "      <th>Inflation rate</th>\n",
       "      <th>GDP</th>\n",
       "      <th>Target</th>\n",
       "    </tr>\n",
       "  </thead>\n",
       "  <tbody>\n",
       "    <tr>\n",
       "      <th>0</th>\n",
       "      <td>1</td>\n",
       "      <td>8</td>\n",
       "      <td>5</td>\n",
       "      <td>2</td>\n",
       "      <td>1</td>\n",
       "      <td>1</td>\n",
       "      <td>1</td>\n",
       "      <td>13</td>\n",
       "      <td>10</td>\n",
       "      <td>6</td>\n",
       "      <td>...</td>\n",
       "      <td>0</td>\n",
       "      <td>0</td>\n",
       "      <td>0</td>\n",
       "      <td>0</td>\n",
       "      <td>0.000000</td>\n",
       "      <td>0</td>\n",
       "      <td>10.8</td>\n",
       "      <td>1.4</td>\n",
       "      <td>1.74</td>\n",
       "      <td>Dropout</td>\n",
       "    </tr>\n",
       "    <tr>\n",
       "      <th>1</th>\n",
       "      <td>1</td>\n",
       "      <td>6</td>\n",
       "      <td>1</td>\n",
       "      <td>11</td>\n",
       "      <td>1</td>\n",
       "      <td>1</td>\n",
       "      <td>1</td>\n",
       "      <td>1</td>\n",
       "      <td>3</td>\n",
       "      <td>4</td>\n",
       "      <td>...</td>\n",
       "      <td>0</td>\n",
       "      <td>6</td>\n",
       "      <td>6</td>\n",
       "      <td>6</td>\n",
       "      <td>13.666667</td>\n",
       "      <td>0</td>\n",
       "      <td>13.9</td>\n",
       "      <td>-0.3</td>\n",
       "      <td>0.79</td>\n",
       "      <td>Graduate</td>\n",
       "    </tr>\n",
       "    <tr>\n",
       "      <th>2</th>\n",
       "      <td>1</td>\n",
       "      <td>1</td>\n",
       "      <td>5</td>\n",
       "      <td>5</td>\n",
       "      <td>1</td>\n",
       "      <td>1</td>\n",
       "      <td>1</td>\n",
       "      <td>22</td>\n",
       "      <td>27</td>\n",
       "      <td>10</td>\n",
       "      <td>...</td>\n",
       "      <td>0</td>\n",
       "      <td>6</td>\n",
       "      <td>0</td>\n",
       "      <td>0</td>\n",
       "      <td>0.000000</td>\n",
       "      <td>0</td>\n",
       "      <td>10.8</td>\n",
       "      <td>1.4</td>\n",
       "      <td>1.74</td>\n",
       "      <td>Dropout</td>\n",
       "    </tr>\n",
       "    <tr>\n",
       "      <th>3</th>\n",
       "      <td>1</td>\n",
       "      <td>8</td>\n",
       "      <td>2</td>\n",
       "      <td>15</td>\n",
       "      <td>1</td>\n",
       "      <td>1</td>\n",
       "      <td>1</td>\n",
       "      <td>23</td>\n",
       "      <td>27</td>\n",
       "      <td>6</td>\n",
       "      <td>...</td>\n",
       "      <td>0</td>\n",
       "      <td>6</td>\n",
       "      <td>10</td>\n",
       "      <td>5</td>\n",
       "      <td>12.400000</td>\n",
       "      <td>0</td>\n",
       "      <td>9.4</td>\n",
       "      <td>-0.8</td>\n",
       "      <td>-3.12</td>\n",
       "      <td>Graduate</td>\n",
       "    </tr>\n",
       "    <tr>\n",
       "      <th>4</th>\n",
       "      <td>2</td>\n",
       "      <td>12</td>\n",
       "      <td>1</td>\n",
       "      <td>3</td>\n",
       "      <td>0</td>\n",
       "      <td>1</td>\n",
       "      <td>1</td>\n",
       "      <td>22</td>\n",
       "      <td>28</td>\n",
       "      <td>10</td>\n",
       "      <td>...</td>\n",
       "      <td>0</td>\n",
       "      <td>6</td>\n",
       "      <td>6</td>\n",
       "      <td>6</td>\n",
       "      <td>13.000000</td>\n",
       "      <td>0</td>\n",
       "      <td>13.9</td>\n",
       "      <td>-0.3</td>\n",
       "      <td>0.79</td>\n",
       "      <td>Graduate</td>\n",
       "    </tr>\n",
       "  </tbody>\n",
       "</table>\n",
       "<p>5 rows × 35 columns</p>\n",
       "</div>"
      ],
      "text/plain": [
       "   Marital status  Application mode  Application order  Course  \\\n",
       "0               1                 8                  5       2   \n",
       "1               1                 6                  1      11   \n",
       "2               1                 1                  5       5   \n",
       "3               1                 8                  2      15   \n",
       "4               2                12                  1       3   \n",
       "\n",
       "   Daytime/evening attendance  Previous qualification  Nacionality  \\\n",
       "0                           1                       1            1   \n",
       "1                           1                       1            1   \n",
       "2                           1                       1            1   \n",
       "3                           1                       1            1   \n",
       "4                           0                       1            1   \n",
       "\n",
       "   Mother's qualification  Father's qualification  Mother's occupation  ...  \\\n",
       "0                      13                      10                    6  ...   \n",
       "1                       1                       3                    4  ...   \n",
       "2                      22                      27                   10  ...   \n",
       "3                      23                      27                    6  ...   \n",
       "4                      22                      28                   10  ...   \n",
       "\n",
       "   Curricular units 2nd sem (credited)  Curricular units 2nd sem (enrolled)  \\\n",
       "0                                    0                                    0   \n",
       "1                                    0                                    6   \n",
       "2                                    0                                    6   \n",
       "3                                    0                                    6   \n",
       "4                                    0                                    6   \n",
       "\n",
       "   Curricular units 2nd sem (evaluations)  \\\n",
       "0                                       0   \n",
       "1                                       6   \n",
       "2                                       0   \n",
       "3                                      10   \n",
       "4                                       6   \n",
       "\n",
       "   Curricular units 2nd sem (approved)  Curricular units 2nd sem (grade)  \\\n",
       "0                                    0                          0.000000   \n",
       "1                                    6                         13.666667   \n",
       "2                                    0                          0.000000   \n",
       "3                                    5                         12.400000   \n",
       "4                                    6                         13.000000   \n",
       "\n",
       "   Curricular units 2nd sem (without evaluations)  Unemployment rate  \\\n",
       "0                                               0               10.8   \n",
       "1                                               0               13.9   \n",
       "2                                               0               10.8   \n",
       "3                                               0                9.4   \n",
       "4                                               0               13.9   \n",
       "\n",
       "   Inflation rate   GDP    Target  \n",
       "0             1.4  1.74   Dropout  \n",
       "1            -0.3  0.79  Graduate  \n",
       "2             1.4  1.74   Dropout  \n",
       "3            -0.8 -3.12  Graduate  \n",
       "4            -0.3  0.79  Graduate  \n",
       "\n",
       "[5 rows x 35 columns]"
      ]
     },
     "execution_count": 2,
     "metadata": {},
     "output_type": "execute_result"
    }
   ],
   "source": [
    "data = pd.read_csv(\"dataset.csv\")\n",
    "data.head()"
   ]
  },
  {
   "cell_type": "markdown",
   "id": "e597f2f5b3ecdffb",
   "metadata": {
    "collapsed": false
   },
   "source": [
    "**Structure des données:**"
   ]
  },
  {
   "cell_type": "code",
   "execution_count": 3,
   "id": "b181c5165730d693",
   "metadata": {
    "ExecuteTime": {
     "end_time": "2023-11-01T23:54:39.624183900Z",
     "start_time": "2023-11-01T23:54:39.611218200Z"
    },
    "collapsed": false
   },
   "outputs": [
    {
     "name": "stdout",
     "output_type": "stream",
     "text": [
      "(4424, 35)\n"
     ]
    }
   ],
   "source": [
    "print(data.shape)"
   ]
  },
  {
   "cell_type": "markdown",
   "id": "89a84912b37d68dd",
   "metadata": {
    "collapsed": false
   },
   "source": [
    "**Seulement notre target est une entrée de type non-numérique:**"
   ]
  },
  {
   "cell_type": "code",
   "execution_count": 4,
   "id": "8634fd904ce0a69e",
   "metadata": {
    "ExecuteTime": {
     "end_time": "2023-11-01T23:54:41.024624100Z",
     "start_time": "2023-11-01T23:54:41.010637600Z"
    },
    "collapsed": false
   },
   "outputs": [
    {
     "name": "stdout",
     "output_type": "stream",
     "text": [
      "Marital status                                      int64\n",
      "Application mode                                    int64\n",
      "Application order                                   int64\n",
      "Course                                              int64\n",
      "Daytime/evening attendance                          int64\n",
      "Previous qualification                              int64\n",
      "Nacionality                                         int64\n",
      "Mother's qualification                              int64\n",
      "Father's qualification                              int64\n",
      "Mother's occupation                                 int64\n",
      "Father's occupation                                 int64\n",
      "Displaced                                           int64\n",
      "Educational special needs                           int64\n",
      "Debtor                                              int64\n",
      "Tuition fees up to date                             int64\n",
      "Gender                                              int64\n",
      "Scholarship holder                                  int64\n",
      "Age at enrollment                                   int64\n",
      "International                                       int64\n",
      "Curricular units 1st sem (credited)                 int64\n",
      "Curricular units 1st sem (enrolled)                 int64\n",
      "Curricular units 1st sem (evaluations)              int64\n",
      "Curricular units 1st sem (approved)                 int64\n",
      "Curricular units 1st sem (grade)                  float64\n",
      "Curricular units 1st sem (without evaluations)      int64\n",
      "Curricular units 2nd sem (credited)                 int64\n",
      "Curricular units 2nd sem (enrolled)                 int64\n",
      "Curricular units 2nd sem (evaluations)              int64\n",
      "Curricular units 2nd sem (approved)                 int64\n",
      "Curricular units 2nd sem (grade)                  float64\n",
      "Curricular units 2nd sem (without evaluations)      int64\n",
      "Unemployment rate                                 float64\n",
      "Inflation rate                                    float64\n",
      "GDP                                               float64\n",
      "Target                                             object\n",
      "dtype: object\n"
     ]
    }
   ],
   "source": [
    "print(data.dtypes)"
   ]
  },
  {
   "cell_type": "code",
   "execution_count": 5,
   "id": "3b412a061e0844b",
   "metadata": {
    "ExecuteTime": {
     "end_time": "2023-11-02T00:01:12.297263Z",
     "start_time": "2023-11-02T00:01:12.277317500Z"
    },
    "collapsed": false
   },
   "outputs": [],
   "source": [
    "import xgboost as xgb\n",
    "from sklearn.model_selection import train_test_split\n",
    "from sklearn.preprocessing import LabelEncoder\n",
    "import graphviz"
   ]
  },
  {
   "cell_type": "code",
   "execution_count": 6,
   "id": "867eb57087c907ff",
   "metadata": {
    "ExecuteTime": {
     "end_time": "2023-11-02T00:13:29.564029200Z",
     "start_time": "2023-11-02T00:13:29.540067800Z"
    },
    "collapsed": false
   },
   "outputs": [
    {
     "name": "stdout",
     "output_type": "stream",
     "text": [
      "(3630, 35)\n",
      "(3630, 34)\n",
      "(3630, 1)\n"
     ]
    }
   ],
   "source": [
    "data = data[data['Target'] != \"Enrolled\"]\n",
    "print(data.shape)\n",
    "\n",
    "dataY = data.iloc[:,-1:]\n",
    "dataX = data.drop(\"Target\", axis=1)\n",
    "\n",
    "arrayX = pd.DataFrame.to_numpy(dataX)\n",
    "arrayY = pd.DataFrame.to_numpy(dataY)\n",
    "\n",
    "print(arrayX.shape)\n",
    "print(arrayY.shape)"
   ]
  },
  {
   "cell_type": "code",
   "execution_count": 7,
   "id": "40b5bce4a8adf5ab",
   "metadata": {
    "ExecuteTime": {
     "end_time": "2023-11-02T00:15:12.537900200Z",
     "start_time": "2023-11-02T00:15:12.507980300Z"
    },
    "collapsed": false
   },
   "outputs": [
    {
     "name": "stderr",
     "output_type": "stream",
     "text": [
      "c:\\Users\\Guillaume Gagnon\\AppData\\Local\\Programs\\Python\\Python39\\lib\\site-packages\\sklearn\\preprocessing\\_label.py:114: DataConversionWarning: A column-vector y was passed when a 1d array was expected. Please change the shape of y to (n_samples, ), for example using ravel().\n",
      "  y = column_or_1d(y, warn=True)\n",
      "c:\\Users\\Guillaume Gagnon\\AppData\\Local\\Programs\\Python\\Python39\\lib\\site-packages\\sklearn\\preprocessing\\_label.py:114: DataConversionWarning: A column-vector y was passed when a 1d array was expected. Please change the shape of y to (n_samples, ), for example using ravel().\n",
      "  y = column_or_1d(y, warn=True)\n"
     ]
    }
   ],
   "source": [
    "X_train, X_test, y_train, y_test = train_test_split(arrayX, arrayY, test_size=0.2)\n",
    "le = LabelEncoder()\n",
    "y_train = le.fit_transform(y_train)\n",
    "y_test = le.fit_transform(y_test)"
   ]
  },
  {
   "cell_type": "markdown",
   "metadata": {},
   "source": [
    "## Classification par xgboost:"
   ]
  },
  {
   "cell_type": "code",
   "execution_count": 17,
   "id": "799d321e91f6b604",
   "metadata": {
    "ExecuteTime": {
     "end_time": "2023-11-02T00:15:22.167258100Z",
     "start_time": "2023-11-02T00:15:22.064025500Z"
    },
    "collapsed": false
   },
   "outputs": [
    {
     "data": {
      "text/plain": [
       "0.9180440771349863"
      ]
     },
     "execution_count": 17,
     "metadata": {},
     "output_type": "execute_result"
    }
   ],
   "source": [
    "xgbClassifier = xgb.XGBClassifier(objective=\"binary:logistic\", random_state=42, booster= \"gblinear\")\n",
    "xgbClassifier.fit(X_train, y_train)\n",
    "xgbClassifier.score(X_train, y_train)"
   ]
  },
  {
   "cell_type": "code",
   "execution_count": 18,
   "id": "a3ae4566",
   "metadata": {},
   "outputs": [
    {
     "data": {
      "text/plain": [
       "0.9201101928374655"
      ]
     },
     "execution_count": 18,
     "metadata": {},
     "output_type": "execute_result"
    }
   ],
   "source": [
    "xgbClassifier.score(X_test, y_test)"
   ]
  },
  {
   "cell_type": "code",
   "execution_count": 10,
   "id": "d7d1f1fe69463f04",
   "metadata": {
    "ExecuteTime": {
     "end_time": "2023-11-02T00:15:26.132188400Z",
     "start_time": "2023-11-02T00:15:26.101271800Z"
    },
    "collapsed": false
   },
   "outputs": [
    {
     "data": {
      "text/plain": [
       "<Axes: title={'center': 'Feature importance'}, xlabel='F score', ylabel='Features'>"
      ]
     },
     "execution_count": 10,
     "metadata": {},
     "output_type": "execute_result"
    },
    {
     "data": {
      "image/png": "[encoded data removed]",
      "text/plain": [
       "<Figure size 432x288 with 1 Axes>"
      ]
     },
     "metadata": {
      "needs_background": "light"
     },
     "output_type": "display_data"
    }
   ],
   "source": [
    "xgbClassifier.score(X_test, y_test)\n",
    "xgb.plot_importance(xgbClassifier, max_num_features=10)"
   ]
  },
  {
   "cell_type": "code",
   "execution_count": 26,
   "metadata": {},
   "outputs": [],
   "source": [
    "from sklearn.svm import SVC\n",
    "from sklearn.metrics import classification_report"
   ]
  },
  {
   "cell_type": "code",
   "execution_count": 23,
   "metadata": {},
   "outputs": [
    {
     "data": {
      "text/plain": [
       "0.897038567493113"
      ]
     },
     "execution_count": 23,
     "metadata": {},
     "output_type": "execute_result"
    }
   ],
   "source": [
    "svcClassifier = SVC(kernel=\"rbf\", C=1.0, degree=3, gamma='scale')\n",
    "svcClassifier.fit(X_train, y_train)\n",
    "svcClassifier.score(X_train, y_train)"
   ]
  },
  {
   "cell_type": "code",
   "execution_count": 25,
   "metadata": {},
   "outputs": [
    {
     "data": {
      "text/plain": [
       "0.8842975206611571"
      ]
     },
     "execution_count": 25,
     "metadata": {},
     "output_type": "execute_result"
    }
   ],
   "source": [
    "svcClassifier.score(X_test, y_test)"
   ]
  },
  {
   "cell_type": "code",
   "execution_count": 27,
   "metadata": {},
   "outputs": [
    {
     "name": "stdout",
     "output_type": "stream",
     "text": [
      "              precision    recall  f1-score   support\n",
      "\n",
      "           0       0.93      0.77      0.84       288\n",
      "           1       0.86      0.96      0.91       438\n",
      "\n",
      "    accuracy                           0.88       726\n",
      "   macro avg       0.89      0.86      0.88       726\n",
      "weighted avg       0.89      0.88      0.88       726\n",
      "\n"
     ]
    }
   ],
   "source": [
    "predz = svcClassifier.predict(X_test)\n",
    "print(classification_report(y_test, predz))"
   ]
  }
 ],
 "metadata": {
  "kernelspec": {
   "display_name": "Python 3",
   "language": "python",
   "name": "python3"
  },
  "language_info": {
   "codemirror_mode": {
    "name": "ipython",
    "version": 3
   },
   "file_extension": ".py",
   "mimetype": "text/x-python",
   "name": "python",
   "nbconvert_exporter": "python",
   "pygments_lexer": "ipython3",
   "version": "3.9.5"
  }
 },
 "nbformat": 4,
 "nbformat_minor": 5
}
