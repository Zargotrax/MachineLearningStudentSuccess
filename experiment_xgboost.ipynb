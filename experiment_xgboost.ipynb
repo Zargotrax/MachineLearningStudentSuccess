{
 "cells": [
  {
   "cell_type": "code",
   "execution_count": 1,
   "id": "initial_id",
   "metadata": {
    "ExecuteTime": {
     "end_time": "2023-11-01T23:54:29.836617Z",
     "start_time": "2023-11-01T23:54:29.819662800Z"
    },
    "collapsed": true
   },
   "outputs": [],
   "source": [
    "import pandas as pd\n",
    "import numpy as np"
   ]
  },
  {
   "cell_type": "markdown",
   "metadata": {},
   "source": [
    "## Prétraitement des données:"
   ]
  },
  {
   "cell_type": "code",
   "execution_count": 2,
   "id": "f9a905d6c5f31208",
   "metadata": {
    "ExecuteTime": {
     "end_time": "2023-11-01T23:54:33.576685400Z",
     "start_time": "2023-11-01T23:54:33.538786400Z"
    },
    "collapsed": false
   },
   "outputs": [
    {
     "data": {
      "text/html": [
       "<div>\n",
       "<style scoped>\n",
       "    .dataframe tbody tr th:only-of-type {\n",
       "        vertical-align: middle;\n",
       "    }\n",
       "\n",
       "    .dataframe tbody tr th {\n",
       "        vertical-align: top;\n",
       "    }\n",
       "\n",
       "    .dataframe thead th {\n",
       "        text-align: right;\n",
       "    }\n",
       "</style>\n",
       "<table border=\"1\" class=\"dataframe\">\n",
       "  <thead>\n",
       "    <tr style=\"text-align: right;\">\n",
       "      <th></th>\n",
       "      <th>Marital status</th>\n",
       "      <th>Application mode</th>\n",
       "      <th>Application order</th>\n",
       "      <th>Course</th>\n",
       "      <th>Daytime/evening attendance</th>\n",
       "      <th>Previous qualification</th>\n",
       "      <th>Nacionality</th>\n",
       "      <th>Mother's qualification</th>\n",
       "      <th>Father's qualification</th>\n",
       "      <th>Mother's occupation</th>\n",
       "      <th>...</th>\n",
       "      <th>Curricular units 2nd sem (credited)</th>\n",
       "      <th>Curricular units 2nd sem (enrolled)</th>\n",
       "      <th>Curricular units 2nd sem (evaluations)</th>\n",
       "      <th>Curricular units 2nd sem (approved)</th>\n",
       "      <th>Curricular units 2nd sem (grade)</th>\n",
       "      <th>Curricular units 2nd sem (without evaluations)</th>\n",
       "      <th>Unemployment rate</th>\n",
       "      <th>Inflation rate</th>\n",
       "      <th>GDP</th>\n",
       "      <th>Target</th>\n",
       "    </tr>\n",
       "  </thead>\n",
       "  <tbody>\n",
       "    <tr>\n",
       "      <th>0</th>\n",
       "      <td>1</td>\n",
       "      <td>8</td>\n",
       "      <td>5</td>\n",
       "      <td>2</td>\n",
       "      <td>1</td>\n",
       "      <td>1</td>\n",
       "      <td>1</td>\n",
       "      <td>13</td>\n",
       "      <td>10</td>\n",
       "      <td>6</td>\n",
       "      <td>...</td>\n",
       "      <td>0</td>\n",
       "      <td>0</td>\n",
       "      <td>0</td>\n",
       "      <td>0</td>\n",
       "      <td>0.000000</td>\n",
       "      <td>0</td>\n",
       "      <td>10.8</td>\n",
       "      <td>1.4</td>\n",
       "      <td>1.74</td>\n",
       "      <td>Dropout</td>\n",
       "    </tr>\n",
       "    <tr>\n",
       "      <th>1</th>\n",
       "      <td>1</td>\n",
       "      <td>6</td>\n",
       "      <td>1</td>\n",
       "      <td>11</td>\n",
       "      <td>1</td>\n",
       "      <td>1</td>\n",
       "      <td>1</td>\n",
       "      <td>1</td>\n",
       "      <td>3</td>\n",
       "      <td>4</td>\n",
       "      <td>...</td>\n",
       "      <td>0</td>\n",
       "      <td>6</td>\n",
       "      <td>6</td>\n",
       "      <td>6</td>\n",
       "      <td>13.666667</td>\n",
       "      <td>0</td>\n",
       "      <td>13.9</td>\n",
       "      <td>-0.3</td>\n",
       "      <td>0.79</td>\n",
       "      <td>Graduate</td>\n",
       "    </tr>\n",
       "    <tr>\n",
       "      <th>2</th>\n",
       "      <td>1</td>\n",
       "      <td>1</td>\n",
       "      <td>5</td>\n",
       "      <td>5</td>\n",
       "      <td>1</td>\n",
       "      <td>1</td>\n",
       "      <td>1</td>\n",
       "      <td>22</td>\n",
       "      <td>27</td>\n",
       "      <td>10</td>\n",
       "      <td>...</td>\n",
       "      <td>0</td>\n",
       "      <td>6</td>\n",
       "      <td>0</td>\n",
       "      <td>0</td>\n",
       "      <td>0.000000</td>\n",
       "      <td>0</td>\n",
       "      <td>10.8</td>\n",
       "      <td>1.4</td>\n",
       "      <td>1.74</td>\n",
       "      <td>Dropout</td>\n",
       "    </tr>\n",
       "    <tr>\n",
       "      <th>3</th>\n",
       "      <td>1</td>\n",
       "      <td>8</td>\n",
       "      <td>2</td>\n",
       "      <td>15</td>\n",
       "      <td>1</td>\n",
       "      <td>1</td>\n",
       "      <td>1</td>\n",
       "      <td>23</td>\n",
       "      <td>27</td>\n",
       "      <td>6</td>\n",
       "      <td>...</td>\n",
       "      <td>0</td>\n",
       "      <td>6</td>\n",
       "      <td>10</td>\n",
       "      <td>5</td>\n",
       "      <td>12.400000</td>\n",
       "      <td>0</td>\n",
       "      <td>9.4</td>\n",
       "      <td>-0.8</td>\n",
       "      <td>-3.12</td>\n",
       "      <td>Graduate</td>\n",
       "    </tr>\n",
       "    <tr>\n",
       "      <th>4</th>\n",
       "      <td>2</td>\n",
       "      <td>12</td>\n",
       "      <td>1</td>\n",
       "      <td>3</td>\n",
       "      <td>0</td>\n",
       "      <td>1</td>\n",
       "      <td>1</td>\n",
       "      <td>22</td>\n",
       "      <td>28</td>\n",
       "      <td>10</td>\n",
       "      <td>...</td>\n",
       "      <td>0</td>\n",
       "      <td>6</td>\n",
       "      <td>6</td>\n",
       "      <td>6</td>\n",
       "      <td>13.000000</td>\n",
       "      <td>0</td>\n",
       "      <td>13.9</td>\n",
       "      <td>-0.3</td>\n",
       "      <td>0.79</td>\n",
       "      <td>Graduate</td>\n",
       "    </tr>\n",
       "  </tbody>\n",
       "</table>\n",
       "<p>5 rows × 35 columns</p>\n",
       "</div>"
      ],
      "text/plain": [
       "   Marital status  Application mode  Application order  Course  \\\n",
       "0               1                 8                  5       2   \n",
       "1               1                 6                  1      11   \n",
       "2               1                 1                  5       5   \n",
       "3               1                 8                  2      15   \n",
       "4               2                12                  1       3   \n",
       "\n",
       "   Daytime/evening attendance  Previous qualification  Nacionality  \\\n",
       "0                           1                       1            1   \n",
       "1                           1                       1            1   \n",
       "2                           1                       1            1   \n",
       "3                           1                       1            1   \n",
       "4                           0                       1            1   \n",
       "\n",
       "   Mother's qualification  Father's qualification  Mother's occupation  ...  \\\n",
       "0                      13                      10                    6  ...   \n",
       "1                       1                       3                    4  ...   \n",
       "2                      22                      27                   10  ...   \n",
       "3                      23                      27                    6  ...   \n",
       "4                      22                      28                   10  ...   \n",
       "\n",
       "   Curricular units 2nd sem (credited)  Curricular units 2nd sem (enrolled)  \\\n",
       "0                                    0                                    0   \n",
       "1                                    0                                    6   \n",
       "2                                    0                                    6   \n",
       "3                                    0                                    6   \n",
       "4                                    0                                    6   \n",
       "\n",
       "   Curricular units 2nd sem (evaluations)  \\\n",
       "0                                       0   \n",
       "1                                       6   \n",
       "2                                       0   \n",
       "3                                      10   \n",
       "4                                       6   \n",
       "\n",
       "   Curricular units 2nd sem (approved)  Curricular units 2nd sem (grade)  \\\n",
       "0                                    0                          0.000000   \n",
       "1                                    6                         13.666667   \n",
       "2                                    0                          0.000000   \n",
       "3                                    5                         12.400000   \n",
       "4                                    6                         13.000000   \n",
       "\n",
       "   Curricular units 2nd sem (without evaluations)  Unemployment rate  \\\n",
       "0                                               0               10.8   \n",
       "1                                               0               13.9   \n",
       "2                                               0               10.8   \n",
       "3                                               0                9.4   \n",
       "4                                               0               13.9   \n",
       "\n",
       "   Inflation rate   GDP    Target  \n",
       "0             1.4  1.74   Dropout  \n",
       "1            -0.3  0.79  Graduate  \n",
       "2             1.4  1.74   Dropout  \n",
       "3            -0.8 -3.12  Graduate  \n",
       "4            -0.3  0.79  Graduate  \n",
       "\n",
       "[5 rows x 35 columns]"
      ]
     },
     "execution_count": 2,
     "metadata": {},
     "output_type": "execute_result"
    }
   ],
   "source": [
    "data = pd.read_csv(\"dataset.csv\")\n",
    "data.head()"
   ]
  },
  {
   "cell_type": "markdown",
   "id": "e597f2f5b3ecdffb",
   "metadata": {
    "collapsed": false
   },
   "source": [
    "**Structure des données:**"
   ]
  },
  {
   "cell_type": "code",
   "execution_count": 3,
   "id": "b181c5165730d693",
   "metadata": {
    "ExecuteTime": {
     "end_time": "2023-11-01T23:54:39.624183900Z",
     "start_time": "2023-11-01T23:54:39.611218200Z"
    },
    "collapsed": false
   },
   "outputs": [
    {
     "name": "stdout",
     "output_type": "stream",
     "text": [
      "(4424, 35)\n"
     ]
    }
   ],
   "source": [
    "print(data.shape)"
   ]
  },
  {
   "cell_type": "markdown",
   "id": "89a84912b37d68dd",
   "metadata": {
    "collapsed": false
   },
   "source": [
    "**Seulement notre target est une entrée de type non-numérique:**"
   ]
  },
  {
   "cell_type": "code",
   "execution_count": 4,
   "id": "8634fd904ce0a69e",
   "metadata": {
    "ExecuteTime": {
     "end_time": "2023-11-01T23:54:41.024624100Z",
     "start_time": "2023-11-01T23:54:41.010637600Z"
    },
    "collapsed": false
   },
   "outputs": [
    {
     "name": "stdout",
     "output_type": "stream",
     "text": [
      "Marital status                                      int64\n",
      "Application mode                                    int64\n",
      "Application order                                   int64\n",
      "Course                                              int64\n",
      "Daytime/evening attendance                          int64\n",
      "Previous qualification                              int64\n",
      "Nacionality                                         int64\n",
      "Mother's qualification                              int64\n",
      "Father's qualification                              int64\n",
      "Mother's occupation                                 int64\n",
      "Father's occupation                                 int64\n",
      "Displaced                                           int64\n",
      "Educational special needs                           int64\n",
      "Debtor                                              int64\n",
      "Tuition fees up to date                             int64\n",
      "Gender                                              int64\n",
      "Scholarship holder                                  int64\n",
      "Age at enrollment                                   int64\n",
      "International                                       int64\n",
      "Curricular units 1st sem (credited)                 int64\n",
      "Curricular units 1st sem (enrolled)                 int64\n",
      "Curricular units 1st sem (evaluations)              int64\n",
      "Curricular units 1st sem (approved)                 int64\n",
      "Curricular units 1st sem (grade)                  float64\n",
      "Curricular units 1st sem (without evaluations)      int64\n",
      "Curricular units 2nd sem (credited)                 int64\n",
      "Curricular units 2nd sem (enrolled)                 int64\n",
      "Curricular units 2nd sem (evaluations)              int64\n",
      "Curricular units 2nd sem (approved)                 int64\n",
      "Curricular units 2nd sem (grade)                  float64\n",
      "Curricular units 2nd sem (without evaluations)      int64\n",
      "Unemployment rate                                 float64\n",
      "Inflation rate                                    float64\n",
      "GDP                                               float64\n",
      "Target                                             object\n",
      "dtype: object\n"
     ]
    }
   ],
   "source": [
    "print(data.dtypes)"
   ]
  },
  {
   "cell_type": "code",
   "execution_count": 5,
   "id": "3b412a061e0844b",
   "metadata": {
    "ExecuteTime": {
     "end_time": "2023-11-02T00:01:12.297263Z",
     "start_time": "2023-11-02T00:01:12.277317500Z"
    },
    "collapsed": false
   },
   "outputs": [],
   "source": [
    "import xgboost as xgb\n",
    "from sklearn.model_selection import train_test_split\n",
    "from sklearn.preprocessing import LabelEncoder\n",
    "import graphviz"
   ]
  },
  {
   "cell_type": "code",
   "execution_count": 6,
   "id": "867eb57087c907ff",
   "metadata": {
    "ExecuteTime": {
     "end_time": "2023-11-02T00:13:29.564029200Z",
     "start_time": "2023-11-02T00:13:29.540067800Z"
    },
    "collapsed": false
   },
   "outputs": [
    {
     "name": "stdout",
     "output_type": "stream",
     "text": [
      "(3630, 35)\n",
      "(3630, 34)\n",
      "(3630, 1)\n"
     ]
    }
   ],
   "source": [
    "data = data[data['Target'] != \"Enrolled\"]\n",
    "print(data.shape)\n",
    "\n",
    "dataY = data.iloc[:,-1:]\n",
    "dataX = data.drop(\"Target\", axis=1)\n",
    "\n",
    "arrayX = pd.DataFrame.to_numpy(dataX)\n",
    "arrayY = pd.DataFrame.to_numpy(dataY)\n",
    "\n",
    "print(arrayX.shape)\n",
    "print(arrayY.shape)"
   ]
  },
  {
   "cell_type": "code",
   "execution_count": 7,
   "id": "40b5bce4a8adf5ab",
   "metadata": {
    "ExecuteTime": {
     "end_time": "2023-11-02T00:15:12.537900200Z",
     "start_time": "2023-11-02T00:15:12.507980300Z"
    },
    "collapsed": false
   },
   "outputs": [
    {
     "name": "stderr",
     "output_type": "stream",
     "text": [
      "c:\\Users\\Guillaume Gagnon\\AppData\\Local\\Programs\\Python\\Python39\\lib\\site-packages\\sklearn\\preprocessing\\_label.py:114: DataConversionWarning: A column-vector y was passed when a 1d array was expected. Please change the shape of y to (n_samples, ), for example using ravel().\n",
      "  y = column_or_1d(y, warn=True)\n",
      "c:\\Users\\Guillaume Gagnon\\AppData\\Local\\Programs\\Python\\Python39\\lib\\site-packages\\sklearn\\preprocessing\\_label.py:114: DataConversionWarning: A column-vector y was passed when a 1d array was expected. Please change the shape of y to (n_samples, ), for example using ravel().\n",
      "  y = column_or_1d(y, warn=True)\n"
     ]
    }
   ],
   "source": [
    "X_train, X_test, y_train, y_test = train_test_split(arrayX, arrayY, test_size=0.2)\n",
    "le = LabelEncoder()\n",
    "y_train = le.fit_transform(y_train)\n",
    "y_test = le.fit_transform(y_test)"
   ]
  },
  {
   "cell_type": "markdown",
   "metadata": {},
   "source": [
    "## Classification par xgboost:"
   ]
  },
  {
   "cell_type": "code",
   "execution_count": 8,
   "id": "799d321e91f6b604",
   "metadata": {
    "ExecuteTime": {
     "end_time": "2023-11-02T00:15:22.167258100Z",
     "start_time": "2023-11-02T00:15:22.064025500Z"
    },
    "collapsed": false
   },
   "outputs": [
    {
     "data": {
      "text/plain": [
       "0.9204545454545454"
      ]
     },
     "execution_count": 8,
     "metadata": {},
     "output_type": "execute_result"
    }
   ],
   "source": [
    "xgbClassifier = xgb.XGBClassifier(objective=\"binary:logistic\", random_state=42, booster= \"gblinear\")\n",
    "xgbClassifier.fit(X_train, y_train)\n",
    "xgbClassifier.score(X_train, y_train)"
   ]
  },
  {
   "cell_type": "code",
   "execution_count": 9,
   "id": "a3ae4566",
   "metadata": {},
   "outputs": [
    {
     "data": {
      "text/plain": [
       "0.9049586776859504"
      ]
     },
     "execution_count": 9,
     "metadata": {},
     "output_type": "execute_result"
    }
   ],
   "source": [
    "xgbClassifier.score(X_test, y_test)"
   ]
  },
  {
   "cell_type": "code",
   "execution_count": 10,
   "id": "d7d1f1fe69463f04",
   "metadata": {
    "ExecuteTime": {
     "end_time": "2023-11-02T00:15:26.132188400Z",
     "start_time": "2023-11-02T00:15:26.101271800Z"
    },
    "collapsed": false
   },
   "outputs": [
    {
     "data": {
      "text/plain": [
       "<Axes: title={'center': 'Feature importance'}, xlabel='F score', ylabel='Features'>"
      ]
     },
     "execution_count": 10,
     "metadata": {},
     "output_type": "execute_result"
    },
    {
     "data": {
      "image/png": "[encoded data removed]",
      "text/plain": [
       "<Figure size 432x288 with 1 Axes>"
      ]
     },
     "metadata": {
      "needs_background": "light"
     },
     "output_type": "display_data"
    }
   ],
   "source": [
    "xgbClassifier.score(X_test, y_test)\n",
    "xgb.plot_importance(xgbClassifier, max_num_features=10)"
   ]
  },
  {
   "cell_type": "code",
   "execution_count": 14,
   "metadata": {},
   "outputs": [
    {
     "name": "stdout",
     "output_type": "stream",
     "text": [
      "[ 0.04280994 -0.00880665 -0.01570957 -0.02300236 -0.07089586  0.00558187\n",
      " -0.051665   -0.00356279  0.00332425  0.0088883   0.00207738 -0.0585844\n",
      " -0.07700317 -0.30434442  0.5123829  -0.09040429  0.19845207 -0.00738469\n",
      "  0.80422425 -0.03349421 -0.065085   -0.00729546  0.12383106 -0.0189165\n",
      "  0.01737244 -0.05174855 -0.08609537 -0.01344506  0.19433431  0.01864093\n",
      "  0.05531934 -0.0095215   0.00834419  0.00138161]\n"
     ]
    },
    {
     "data": {
      "text/plain": [
       "Debtor                                           -0.304344\n",
       "Gender                                           -0.090404\n",
       "Curricular units 2nd sem (enrolled)              -0.086095\n",
       "Educational special needs                        -0.077003\n",
       "Daytime/evening attendance                       -0.070896\n",
       "Curricular units 1st sem (enrolled)              -0.065085\n",
       "Displaced                                        -0.058584\n",
       "Curricular units 2nd sem (credited)              -0.051749\n",
       "Nacionality                                      -0.051665\n",
       "Curricular units 1st sem (credited)              -0.033494\n",
       "Course                                           -0.023002\n",
       "Curricular units 1st sem (grade)                 -0.018916\n",
       "Application order                                -0.015710\n",
       "Curricular units 2nd sem (evaluations)           -0.013445\n",
       "Unemployment rate                                -0.009522\n",
       "Application mode                                 -0.008807\n",
       "Age at enrollment                                -0.007385\n",
       "Curricular units 1st sem (evaluations)           -0.007295\n",
       "Mother's qualification                           -0.003563\n",
       "GDP                                               0.001382\n",
       "Father's occupation                               0.002077\n",
       "Father's qualification                            0.003324\n",
       "Previous qualification                            0.005582\n",
       "Inflation rate                                    0.008344\n",
       "Mother's occupation                               0.008888\n",
       "Curricular units 1st sem (without evaluations)    0.017372\n",
       "Curricular units 2nd sem (grade)                  0.018641\n",
       "Marital status                                    0.042810\n",
       "Curricular units 2nd sem (without evaluations)    0.055319\n",
       "Curricular units 1st sem (approved)               0.123831\n",
       "Curricular units 2nd sem (approved)               0.194334\n",
       "Scholarship holder                                0.198452\n",
       "Tuition fees up to date                           0.512383\n",
       "International                                     0.804224\n",
       "dtype: float32"
      ]
     },
     "execution_count": 14,
     "metadata": {},
     "output_type": "execute_result"
    }
   ],
   "source": [
    "importances = xgbClassifier.feature_importances_\n",
    "print(importances)\n",
    "pd.Series(importances, index=dataX.columns).sort_values()"
   ]
  },
  {
   "cell_type": "markdown",
   "metadata": {},
   "source": [
    "## Classification par SVC (SVM pour classification):"
   ]
  },
  {
   "cell_type": "code",
   "execution_count": 15,
   "metadata": {},
   "outputs": [],
   "source": [
    "from sklearn.svm import SVC\n",
    "from sklearn.metrics import classification_report\n",
    "from sklearn.model_selection import GridSearchCV"
   ]
  },
  {
   "cell_type": "code",
   "execution_count": 16,
   "metadata": {},
   "outputs": [
    {
     "data": {
      "text/plain": [
       "0.897038567493113"
      ]
     },
     "execution_count": 16,
     "metadata": {},
     "output_type": "execute_result"
    }
   ],
   "source": [
    "svcClassifier = SVC(kernel=\"rbf\", C=1.0, degree=3, gamma='scale')\n",
    "svcClassifier.fit(X_train, y_train)\n",
    "svcClassifier.score(X_train, y_train)"
   ]
  },
  {
   "cell_type": "code",
   "execution_count": 17,
   "metadata": {},
   "outputs": [
    {
     "data": {
      "text/plain": [
       "0.8691460055096418"
      ]
     },
     "execution_count": 17,
     "metadata": {},
     "output_type": "execute_result"
    }
   ],
   "source": [
    "svcClassifier.score(X_test, y_test)"
   ]
  },
  {
   "cell_type": "code",
   "execution_count": 18,
   "metadata": {},
   "outputs": [
    {
     "name": "stdout",
     "output_type": "stream",
     "text": [
      "              precision    recall  f1-score   support\n",
      "\n",
      "           0       0.89      0.75      0.81       278\n",
      "           1       0.86      0.94      0.90       448\n",
      "\n",
      "    accuracy                           0.87       726\n",
      "   macro avg       0.88      0.85      0.86       726\n",
      "weighted avg       0.87      0.87      0.87       726\n",
      "\n"
     ]
    }
   ],
   "source": [
    "predz = svcClassifier.predict(X_test)\n",
    "print(classification_report(y_test, predz))"
   ]
  },
  {
   "cell_type": "code",
   "execution_count": 20,
   "metadata": {},
   "outputs": [
    {
     "data": {
      "text/plain": [
       "\" parameters_to_tune = {\\n    'kernel': ['linear', 'rbf', 'poly', 'sigmoid'],\\n    'C': [0.1, 1, 10, 100],\\n    'gamma': ['scale', 'auto', 0.001, 0.0001],\\n    'degree': [2, 3, 4]\\n}\\n\\ngrid_search = GridSearchCV(SVC(), parameters_to_tune, refit=True, verbose=3, cv=5, n_jobs=-1)\\ngrid_search.fit(X_train, y_train)\\n\\nprint(grid_search.best_params_) \""
      ]
     },
     "execution_count": 20,
     "metadata": {},
     "output_type": "execute_result"
    }
   ],
   "source": [
    "\"\"\" parameters_to_tune = {\n",
    "    'kernel': ['linear', 'rbf', 'poly', 'sigmoid'],\n",
    "    'C': [0.1, 1, 10, 100],\n",
    "    'gamma': ['scale', 'auto', 0.001, 0.0001],\n",
    "    'degree': [2, 3, 4]\n",
    "}\n",
    "\n",
    "grid_search = GridSearchCV(SVC(), parameters_to_tune, refit=True, verbose=3, cv=5, n_jobs=-1)\n",
    "grid_search.fit(X_train, y_train)\n",
    "\n",
    "print(grid_search.best_params_) \"\"\""
   ]
  },
  {
   "cell_type": "code",
   "execution_count": 21,
   "metadata": {},
   "outputs": [
    {
     "name": "stdout",
     "output_type": "stream",
     "text": [
      "Fitting 3 folds for each of 12 candidates, totalling 36 fits\n",
      "{'C': 0.1, 'gamma': 'scale', 'kernel': 'linear'}\n"
     ]
    }
   ],
   "source": [
    "parameters_to_tune = {\n",
    "    'kernel': ['linear', 'rbf'],\n",
    "    'C': [0.1, 1, 10],\n",
    "    'gamma': ['scale', 0.001],\n",
    "}\n",
    "\n",
    "grid_search = GridSearchCV(SVC(), parameters_to_tune, refit=True, verbose=10, cv=3, n_jobs=-1)\n",
    "grid_search.fit(X_train, y_train)\n",
    "\n",
    "print(grid_search.best_params_)"
   ]
  },
  {
   "cell_type": "code",
   "execution_count": 26,
   "metadata": {},
   "outputs": [
    {
     "data": {
      "text/plain": [
       "0.9190771349862259"
      ]
     },
     "execution_count": 26,
     "metadata": {},
     "output_type": "execute_result"
    }
   ],
   "source": [
    "svcClassifier_optimized = SVC(kernel=\"linear\", C=0.1, degree=3, gamma='scale')\n",
    "svcClassifier_optimized.fit(X_train, y_train)\n",
    "svcClassifier_optimized.score(X_train, y_train)"
   ]
  },
  {
   "cell_type": "code",
   "execution_count": 27,
   "metadata": {},
   "outputs": [
    {
     "data": {
      "text/plain": [
       "0.9035812672176309"
      ]
     },
     "execution_count": 27,
     "metadata": {},
     "output_type": "execute_result"
    }
   ],
   "source": [
    "svcClassifier_optimized.score(X_test, y_test)"
   ]
  },
  {
   "cell_type": "markdown",
   "metadata": {},
   "source": [
    "Le *svcClassifier_optimized* possède un noyeau linéaire donc il est possible de faire cette manipulation pour obtenir les features importants pour la classification:"
   ]
  },
  {
   "cell_type": "code",
   "execution_count": 28,
   "metadata": {},
   "outputs": [
    {
     "name": "stdout",
     "output_type": "stream",
     "text": [
      "[[ 1.13291288e-01 -1.19472094e-02 -2.81018082e-02 -4.59865049e-02\n",
      "  -1.98963005e-01  7.91218858e-03  4.26012134e-02 -1.51015334e-02\n",
      "   7.73485428e-03  1.22143252e-02  8.74775939e-03 -1.26393179e-01\n",
      "   5.24794231e-02 -7.44452319e-01  1.25844867e+00 -1.99811996e-01\n",
      "   5.27605728e-01 -1.91062800e-02  1.95584709e-01 -1.28139592e-01\n",
      "  -2.65944461e-01  2.57386509e-02  4.19337457e-01 -9.69750179e-02\n",
      "   2.92119843e-02 -6.10655872e-02 -3.84540903e-01 -3.67916282e-03\n",
      "   5.63009575e-01  6.94833936e-02  9.70110189e-02 -3.85217379e-02\n",
      "  -7.02944132e-03  3.79995913e-06]]\n"
     ]
    }
   ],
   "source": [
    "coefs = svcClassifier_optimized.coef_\n",
    "print(coefs)"
   ]
  },
  {
   "cell_type": "markdown",
   "metadata": {},
   "source": [
    "L'utilisation d'un noyeau linéaire permet au SVM de rester dans l'espace dimensionnel de base et ne projète pas les features dans un espace à plus haute dimensionnalité, comme le ferait un noyeau Gaussien ou RBF, par exemple. C'est pourquoi nous pouvons directement récupérer l'importance des features."
   ]
  },
  {
   "cell_type": "code",
   "execution_count": 29,
   "metadata": {},
   "outputs": [
    {
     "data": {
      "text/plain": [
       "Debtor                                           -0.744452\n",
       "Curricular units 2nd sem (enrolled)              -0.384541\n",
       "Curricular units 1st sem (enrolled)              -0.265944\n",
       "Gender                                           -0.199812\n",
       "Daytime/evening attendance                       -0.198963\n",
       "Curricular units 1st sem (credited)              -0.128140\n",
       "Displaced                                        -0.126393\n",
       "Curricular units 1st sem (grade)                 -0.096975\n",
       "Curricular units 2nd sem (credited)              -0.061066\n",
       "Course                                           -0.045987\n",
       "Unemployment rate                                -0.038522\n",
       "Application order                                -0.028102\n",
       "Age at enrollment                                -0.019106\n",
       "Mother's qualification                           -0.015102\n",
       "Application mode                                 -0.011947\n",
       "Inflation rate                                   -0.007029\n",
       "Curricular units 2nd sem (evaluations)           -0.003679\n",
       "GDP                                               0.000004\n",
       "Father's qualification                            0.007735\n",
       "Previous qualification                            0.007912\n",
       "Father's occupation                               0.008748\n",
       "Mother's occupation                               0.012214\n",
       "Curricular units 1st sem (evaluations)            0.025739\n",
       "Curricular units 1st sem (without evaluations)    0.029212\n",
       "Nacionality                                       0.042601\n",
       "Educational special needs                         0.052479\n",
       "Curricular units 2nd sem (grade)                  0.069483\n",
       "Curricular units 2nd sem (without evaluations)    0.097011\n",
       "Marital status                                    0.113291\n",
       "International                                     0.195585\n",
       "Curricular units 1st sem (approved)               0.419337\n",
       "Scholarship holder                                0.527606\n",
       "Curricular units 2nd sem (approved)               0.563010\n",
       "Tuition fees up to date                           1.258449\n",
       "dtype: float64"
      ]
     },
     "execution_count": 29,
     "metadata": {},
     "output_type": "execute_result"
    }
   ],
   "source": [
    "pd.Series(coefs[0], index=dataX.columns).sort_values()"
   ]
  }
 ],
 "metadata": {
  "kernelspec": {
   "display_name": "Python 3",
   "language": "python",
   "name": "python3"
  },
  "language_info": {
   "codemirror_mode": {
    "name": "ipython",
    "version": 3
   },
   "file_extension": ".py",
   "mimetype": "text/x-python",
   "name": "python",
   "nbconvert_exporter": "python",
   "pygments_lexer": "ipython3",
   "version": "3.9.5"
  }
 },
 "nbformat": 4,
 "nbformat_minor": 5
}
