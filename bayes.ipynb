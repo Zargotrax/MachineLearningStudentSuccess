{
 "cells": [
  {
   "cell_type": "code",
   "execution_count": null,
   "metadata": {},
   "outputs": [],
   "source": [
    "import pandas as pd\n",
    "from sklearn.datasets import load_iris\n",
    "from sklearn.model_selection import train_test_split, GridSearchCV\n",
    "from sklearn.naive_bayes import GaussianNB, CategoricalNB\n",
    "from sklearn import metrics\n",
    "\n",
    "import warnings\n",
    "warnings.filterwarnings(\"ignore\")"
   ]
  },
  {
   "cell_type": "code",
   "execution_count": null,
   "metadata": {},
   "outputs": [],
   "source": [
    "# Load the dataset from CSV\n",
    "data = pd.read_csv(\"./dataset.csv\")\n",
    "\n",
    "# Identify non-categorical columns to filter out\n",
    "non_categorical_columns = ['Debtor', 'Unemployment rate', 'Inflation rate', 'GDP', 'Target']\n",
    "\n",
    "X = data.drop(non_categorical_columns, axis=1)  # Features\n",
    "y = data['Target']  # Target variable\n",
    "\n",
    "# Division des données en ensembles d'entraînement et de test\n",
    "X_train, X_test, y_train, y_test = train_test_split(X, y, test_size=0.3, random_state=42)"
   ]
  },
  {
   "cell_type": "code",
   "execution_count": null,
   "metadata": {},
   "outputs": [],
   "source": [
    "# Initialisation du classificateur Naive Bayes\n",
    "naive_bayes = CategoricalNB(min_categories=50)\n",
    "\n",
    "# Entraînement du modèle\n",
    "naive_bayes.fit(X_train, y_train)\n",
    "\n",
    "# Prédiction sur l'ensemble de test\n",
    "y_pred = naive_bayes.predict(X_test)"
   ]
  },
  {
   "cell_type": "code",
   "execution_count": null,
   "metadata": {},
   "outputs": [],
   "source": [
    "# Évaluation des performances du modèle\n",
    "accuracy = metrics.accuracy_score(y_test, y_pred)\n",
    "print(f\"Précision du modèle : {accuracy}\")\n",
    "\n",
    "# Affichage du rapport de classification et de la matrice de confusion\n",
    "print(\"Rapport de classification :\")\n",
    "print(metrics.classification_report(y_test, y_pred))\n",
    "\n",
    "print(\"Matrice de confusion :\")\n",
    "print(metrics.confusion_matrix(y_test, y_pred))"
   ]
  },
  {
   "cell_type": "code",
   "execution_count": null,
   "metadata": {},
   "outputs": [],
   "source": [
    "# Définir les hyperparamètres à tester\n",
    "parameters = {'var_smoothing': [1e-9, 1e-8, 1e-7, 1e-6, 1e-5],\n",
    "              'priors': [None, [0.2, 0.3, 0.5], [0.3, 0.4, 0.3]]}\n",
    "\n",
    "# Initialiser le modèle Naïf Bayes Gaussien\n",
    "naive_bayes = GaussianNB()\n",
    "\n",
    "# Utiliser GridSearchCV pour tester différents hyperparamètres\n",
    "grid_search = GridSearchCV(naive_bayes, parameters, cv=5, scoring='accuracy')\n",
    "grid_search.fit(X_train, y_train)\n",
    "\n",
    "# Obtenir les résultats de la validation croisée\n",
    "results = pd.DataFrame(grid_search.cv_results_)\n",
    "\n",
    "# Afficher un tableau des résultats pour chaque combinaison d'hyperparamètres testée\n",
    "print(\"Tableau des performances pour différentes combinaisons d'hyperparamètres :\")\n",
    "print(results[['param_var_smoothing', 'param_priors', 'mean_test_score', 'std_test_score']])"
   ]
  }
 ],
 "metadata": {
  "kernelspec": {
   "display_name": "Python 3",
   "language": "python",
   "name": "python3"
  },
  "language_info": {
   "codemirror_mode": {
    "name": "ipython",
    "version": 3
   },
   "file_extension": ".py",
   "mimetype": "text/x-python",
   "name": "python",
   "nbconvert_exporter": "python",
   "pygments_lexer": "ipython3",
   "version": "3.11.1"
  }
 },
 "nbformat": 4,
 "nbformat_minor": 2
}
