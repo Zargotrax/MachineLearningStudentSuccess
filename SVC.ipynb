{
 "cells": [
  {
   "cell_type": "code",
   "execution_count": 27,
   "metadata": {},
   "outputs": [],
   "source": [
    "from load_dataset import load_data\n",
    "import utils\n",
    "from sklearn.svm import SVC\n",
    "from sklearn.metrics import classification_report\n",
    "from sklearn.model_selection import GridSearchCV\n",
    "from sklearn.model_selection import train_test_split\n",
    "import pandas as pd"
   ]
  },
  {
   "cell_type": "markdown",
   "metadata": {},
   "source": [
    "## Instancier le jeu de données"
   ]
  },
  {
   "cell_type": "code",
   "execution_count": 28,
   "metadata": {},
   "outputs": [],
   "source": [
    "X, y, cat_features = load_data().get_data_X_y(data='simplify', OneHot=True)"
   ]
  },
  {
   "cell_type": "code",
   "execution_count": 29,
   "metadata": {},
   "outputs": [],
   "source": [
    "X_train, X_test, y_train, y_test = train_test_split(X, y, test_size=0.3, random_state=42)"
   ]
  },
  {
   "cell_type": "markdown",
   "metadata": {},
   "source": [
    "## Classification par SVC (Avec One-Hot Encoding):"
   ]
  },
  {
   "cell_type": "code",
   "execution_count": 30,
   "metadata": {},
   "outputs": [
    {
     "name": "stdout",
     "output_type": "stream",
     "text": [
      "Train Accuracy : 89.414 %\n"
     ]
    }
   ],
   "source": [
    "svcClassifier = SVC(kernel=\"rbf\", C=1.0, degree=3, gamma='scale', random_state=42)\n",
    "svcClassifier.fit(X_train, y_train)\n",
    "\n",
    "print(f\"Train Accuracy : {svcClassifier.score(X_train, y_train) * 100:.3f} %\")"
   ]
  },
  {
   "cell_type": "code",
   "execution_count": 31,
   "metadata": {},
   "outputs": [
    {
     "name": "stdout",
     "output_type": "stream",
     "text": [
      "Test Accuracy : 90.174 %\n"
     ]
    }
   ],
   "source": [
    "print(f\"Test Accuracy : {svcClassifier.score(X_test, y_test) * 100:.3f} %\")"
   ]
  },
  {
   "cell_type": "code",
   "execution_count": 32,
   "metadata": {},
   "outputs": [
    {
     "name": "stdout",
     "output_type": "stream",
     "text": [
      "              precision    recall  f1-score   support\n",
      "\n",
      "           0       0.93      0.80      0.86       414\n",
      "           1       0.89      0.96      0.92       675\n",
      "\n",
      "    accuracy                           0.90      1089\n",
      "   macro avg       0.91      0.88      0.89      1089\n",
      "weighted avg       0.90      0.90      0.90      1089\n",
      "\n"
     ]
    }
   ],
   "source": [
    "preds = svcClassifier.predict(X_test)\n",
    "print(classification_report(y_test, preds))"
   ]
  },
  {
   "cell_type": "markdown",
   "metadata": {},
   "source": [
    "## Optimisation d'hyperparamètres"
   ]
  },
  {
   "cell_type": "code",
   "execution_count": 33,
   "metadata": {},
   "outputs": [
    {
     "data": {
      "text/plain": [
       "\" parameters_to_tune = {\\n    'kernel': ['linear', 'rbf', 'poly', 'sigmoid'],\\n    'C': [0.1, 1, 10, 100],\\n    'gamma': ['scale', 'auto', 0.001, 0.0001],\\n    'degree': [2, 3, 4]\\n}\\n\\ngrid_search = GridSearchCV(SVC(), parameters_to_tune, refit=True, verbose=3, cv=5, n_jobs=-1)\\ngrid_search.fit(X_train, y_train)\\n\\nprint(grid_search.best_params_) \""
      ]
     },
     "execution_count": 33,
     "metadata": {},
     "output_type": "execute_result"
    }
   ],
   "source": [
    "\"\"\" parameters_to_tune = {\n",
    "    'kernel': ['linear', 'rbf', 'poly', 'sigmoid'],\n",
    "    'C': [0.1, 1, 10, 100],\n",
    "    'gamma': ['scale', 'auto', 0.001, 0.0001],\n",
    "    'degree': [2, 3, 4]\n",
    "}\n",
    "\n",
    "grid_search = GridSearchCV(SVC(), parameters_to_tune, refit=True, verbose=3, cv=5, n_jobs=-1)\n",
    "grid_search.fit(X_train, y_train)\n",
    "\n",
    "print(grid_search.best_params_) \"\"\""
   ]
  },
  {
   "cell_type": "code",
   "execution_count": 34,
   "metadata": {},
   "outputs": [
    {
     "name": "stdout",
     "output_type": "stream",
     "text": [
      "Fitting 5 folds for each of 12 candidates, totalling 60 fits\n",
      "[CV 5/5; 1/12] START C=0.1, gamma=scale, kernel=linear..........................\n",
      "[CV 4/5; 1/12] START C=0.1, gamma=scale, kernel=linear..........................\n",
      "[CV 1/5; 1/12] START C=0.1, gamma=scale, kernel=linear..........................\n",
      "[CV 2/5; 1/12] START C=0.1, gamma=scale, kernel=linear..........................\n",
      "[CV 3/5; 1/12] START C=0.1, gamma=scale, kernel=linear..........................\n",
      "[CV 3/5; 2/12] START C=0.1, gamma=scale, kernel=rbf.............................\n",
      "[CV 1/5; 2/12] START C=0.1, gamma=scale, kernel=rbf.............................\n",
      "[CV 2/5; 2/12] START C=0.1, gamma=scale, kernel=rbf.............................\n",
      "[CV 4/5; 1/12] END C=0.1, gamma=scale, kernel=linear;, score=0.922 total time=   0.4s\n",
      "[CV 5/5; 1/12] END C=0.1, gamma=scale, kernel=linear;, score=0.929 total time=   0.4s\n",
      "[CV 1/5; 1/12] END C=0.1, gamma=scale, kernel=linear;, score=0.939 total time=   0.4s\n",
      "[CV 4/5; 2/12] START C=0.1, gamma=scale, kernel=rbf.............................\n",
      "[CV 2/5; 1/12] END C=0.1, gamma=scale, kernel=linear;, score=0.917 total time=   0.4s\n",
      "[CV 5/5; 2/12] START C=0.1, gamma=scale, kernel=rbf.............................\n",
      "[CV 1/5; 3/12] START C=0.1, gamma=0.001, kernel=linear..........................\n",
      "[CV 2/5; 3/12] START C=0.1, gamma=0.001, kernel=linear..........................\n",
      "[CV 3/5; 1/12] END C=0.1, gamma=scale, kernel=linear;, score=0.927 total time=   0.5s\n",
      "[CV 3/5; 3/12] START C=0.1, gamma=0.001, kernel=linear..........................\n",
      "[CV 2/5; 2/12] END C=0.1, gamma=scale, kernel=rbf;, score=0.859 total time=   0.8s\n",
      "[CV 3/5; 2/12] END C=0.1, gamma=scale, kernel=rbf;, score=0.884 total time=   0.8s\n",
      "[CV 1/5; 2/12] END C=0.1, gamma=scale, kernel=rbf;, score=0.878 total time=   0.8s\n",
      "[CV 1/5; 3/12] END C=0.1, gamma=0.001, kernel=linear;, score=0.939 total time=   0.4s\n",
      "[CV 4/5; 3/12] START C=0.1, gamma=0.001, kernel=linear..........................\n",
      "[CV 5/5; 3/12] START C=0.1, gamma=0.001, kernel=linear..........................\n",
      "[CV 1/5; 4/12] START C=0.1, gamma=0.001, kernel=rbf.............................\n",
      "[CV 2/5; 4/12] START C=0.1, gamma=0.001, kernel=rbf.............................\n",
      "[CV 2/5; 3/12] END C=0.1, gamma=0.001, kernel=linear;, score=0.917 total time=   0.4s\n",
      "[CV 3/5; 4/12] START C=0.1, gamma=0.001, kernel=rbf.............................\n",
      "[CV 3/5; 3/12] END C=0.1, gamma=0.001, kernel=linear;, score=0.927 total time=   0.4s\n",
      "[CV 4/5; 4/12] START C=0.1, gamma=0.001, kernel=rbf.............................\n",
      "[CV 4/5; 2/12] END C=0.1, gamma=scale, kernel=rbf;, score=0.857 total time=   0.8s\n",
      "[CV 5/5; 4/12] START C=0.1, gamma=0.001, kernel=rbf.............................\n",
      "[CV 5/5; 2/12] END C=0.1, gamma=scale, kernel=rbf;, score=0.861 total time=   0.8s\n",
      "[CV 1/5; 5/12] START C=1, gamma=scale, kernel=linear............................\n",
      "[CV 5/5; 3/12] END C=0.1, gamma=0.001, kernel=linear;, score=0.929 total time=   0.4s\n",
      "[CV 4/5; 3/12] END C=0.1, gamma=0.001, kernel=linear;, score=0.922 total time=   0.4s\n",
      "[CV 2/5; 5/12] START C=1, gamma=scale, kernel=linear............................[CV 3/5; 5/12] START C=1, gamma=scale, kernel=linear............................\n",
      "\n",
      "[CV 2/5; 4/12] END C=0.1, gamma=0.001, kernel=rbf;, score=0.869 total time=   0.7s\n",
      "[CV 1/5; 4/12] END C=0.1, gamma=0.001, kernel=rbf;, score=0.885 total time=   0.7s\n",
      "[CV 4/5; 5/12] START C=1, gamma=scale, kernel=linear............................\n",
      "[CV 5/5; 5/12] START C=1, gamma=scale, kernel=linear............................\n",
      "[CV 3/5; 4/12] END C=0.1, gamma=0.001, kernel=rbf;, score=0.883 total time=   0.7s\n",
      "[CV 1/5; 6/12] START C=1, gamma=scale, kernel=rbf...............................\n",
      "[CV 4/5; 4/12] END C=0.1, gamma=0.001, kernel=rbf;, score=0.864 total time=   0.7s\n",
      "[CV 2/5; 6/12] START C=1, gamma=scale, kernel=rbf...............................\n",
      "[CV 5/5; 4/12] END C=0.1, gamma=0.001, kernel=rbf;, score=0.864 total time=   0.6s\n",
      "[CV 3/5; 6/12] START C=1, gamma=scale, kernel=rbf...............................\n",
      "[CV 1/5; 5/12] END C=1, gamma=scale, kernel=linear;, score=0.939 total time=   0.8s\n",
      "[CV 4/5; 6/12] START C=1, gamma=scale, kernel=rbf...............................\n",
      "[CV 1/5; 6/12] END C=1, gamma=scale, kernel=rbf;, score=0.920 total time=   0.5s\n",
      "[CV 3/5; 5/12] END C=1, gamma=scale, kernel=linear;, score=0.927 total time=   0.8s\n",
      "[CV 5/5; 6/12] START C=1, gamma=scale, kernel=rbf...............................\n",
      "[CV 1/5; 7/12] START C=1, gamma=0.001, kernel=linear............................\n",
      "[CV 2/5; 6/12] END C=1, gamma=scale, kernel=rbf;, score=0.909 total time=   0.5s\n",
      "[CV 2/5; 7/12] START C=1, gamma=0.001, kernel=linear............................\n",
      "[CV 3/5; 6/12] END C=1, gamma=scale, kernel=rbf;, score=0.911 total time=   0.5s\n",
      "[CV 3/5; 7/12] START C=1, gamma=0.001, kernel=linear............................\n",
      "[CV 2/5; 5/12] END C=1, gamma=scale, kernel=linear;, score=0.912 total time=   1.1s\n",
      "[CV 4/5; 7/12] START C=1, gamma=0.001, kernel=linear............................\n",
      "[CV 4/5; 5/12] END C=1, gamma=scale, kernel=linear;, score=0.927 total time=   0.8s\n",
      "[CV 5/5; 7/12] START C=1, gamma=0.001, kernel=linear............................\n",
      "[CV 5/5; 5/12] END C=1, gamma=scale, kernel=linear;, score=0.930 total time=   0.8s\n",
      "[CV 1/5; 8/12] START C=1, gamma=0.001, kernel=rbf...............................\n",
      "[CV 4/5; 6/12] END C=1, gamma=scale, kernel=rbf;, score=0.903 total time=   0.5s\n",
      "[CV 2/5; 8/12] START C=1, gamma=0.001, kernel=rbf...............................\n",
      "[CV 5/5; 6/12] END C=1, gamma=scale, kernel=rbf;, score=0.902 total time=   0.5s\n",
      "[CV 3/5; 8/12] START C=1, gamma=0.001, kernel=rbf...............................\n",
      "[CV 1/5; 7/12] END C=1, gamma=0.001, kernel=linear;, score=0.939 total time=   0.8s\n",
      "[CV 1/5; 8/12] END C=1, gamma=0.001, kernel=rbf;, score=0.923 total time=   0.5s\n",
      "[CV 4/5; 8/12] START C=1, gamma=0.001, kernel=rbf...............................\n",
      "[CV 5/5; 8/12] START C=1, gamma=0.001, kernel=rbf...............................\n",
      "[CV 2/5; 8/12] END C=1, gamma=0.001, kernel=rbf;, score=0.910 total time=   0.5s\n",
      "[CV 1/5; 9/12] START C=10, gamma=scale, kernel=linear...........................\n",
      "[CV 3/5; 8/12] END C=1, gamma=0.001, kernel=rbf;, score=0.917 total time=   0.5s\n",
      "[CV 2/5; 9/12] START C=10, gamma=scale, kernel=linear...........................\n",
      "[CV 3/5; 7/12] END C=1, gamma=0.001, kernel=linear;, score=0.927 total time=   1.0s\n",
      "[CV 3/5; 9/12] START C=10, gamma=scale, kernel=linear...........................\n",
      "[CV 4/5; 7/12] END C=1, gamma=0.001, kernel=linear;, score=0.927 total time=   1.0s\n",
      "[CV 4/5; 9/12] START C=10, gamma=scale, kernel=linear...........................\n",
      "[CV 2/5; 7/12] END C=1, gamma=0.001, kernel=linear;, score=0.912 total time=   1.2s\n",
      "[CV 5/5; 9/12] START C=10, gamma=scale, kernel=linear...........................\n",
      "[CV 5/5; 7/12] END C=1, gamma=0.001, kernel=linear;, score=0.930 total time=   1.0s\n",
      "[CV 1/5; 10/12] START C=10, gamma=scale, kernel=rbf.............................\n",
      "[CV 4/5; 8/12] END C=1, gamma=0.001, kernel=rbf;, score=0.903 total time=   0.6s\n",
      "[CV 2/5; 10/12] START C=10, gamma=scale, kernel=rbf.............................\n",
      "[CV 5/5; 8/12] END C=1, gamma=0.001, kernel=rbf;, score=0.900 total time=   0.6s\n",
      "[CV 3/5; 10/12] START C=10, gamma=scale, kernel=rbf.............................\n",
      "[CV 1/5; 10/12] END C=10, gamma=scale, kernel=rbf;, score=0.935 total time=   0.5s\n",
      "[CV 4/5; 10/12] START C=10, gamma=scale, kernel=rbf.............................\n",
      "[CV 2/5; 10/12] END C=10, gamma=scale, kernel=rbf;, score=0.915 total time=   0.5s\n",
      "[CV 5/5; 10/12] START C=10, gamma=scale, kernel=rbf.............................\n",
      "[CV 3/5; 10/12] END C=10, gamma=scale, kernel=rbf;, score=0.926 total time=   0.5s\n",
      "[CV 1/5; 11/12] START C=10, gamma=0.001, kernel=linear..........................\n",
      "[CV 4/5; 10/12] END C=10, gamma=scale, kernel=rbf;, score=0.918 total time=   0.5s\n",
      "[CV 2/5; 11/12] START C=10, gamma=0.001, kernel=linear..........................\n",
      "[CV 5/5; 10/12] END C=10, gamma=scale, kernel=rbf;, score=0.920 total time=   0.5s\n",
      "[CV 3/5; 11/12] START C=10, gamma=0.001, kernel=linear..........................\n",
      "[CV 5/5; 9/12] END C=10, gamma=scale, kernel=linear;, score=0.930 total time=   4.9s\n",
      "[CV 4/5; 11/12] START C=10, gamma=0.001, kernel=linear..........................\n",
      "[CV 2/5; 9/12] END C=10, gamma=scale, kernel=linear;, score=0.907 total time=   6.1s\n",
      "[CV 5/5; 11/12] START C=10, gamma=0.001, kernel=linear..........................\n",
      "[CV 2/5; 11/12] END C=10, gamma=0.001, kernel=linear;, score=0.907 total time=   5.7s\n",
      "[CV 1/5; 12/12] START C=10, gamma=0.001, kernel=rbf.............................\n",
      "[CV 1/5; 9/12] END C=10, gamma=scale, kernel=linear;, score=0.936 total time=   7.2s\n",
      "[CV 2/5; 12/12] START C=10, gamma=0.001, kernel=rbf.............................\n",
      "[CV 1/5; 12/12] END C=10, gamma=0.001, kernel=rbf;, score=0.933 total time=   0.4s\n",
      "[CV 3/5; 12/12] START C=10, gamma=0.001, kernel=rbf.............................\n",
      "[CV 2/5; 12/12] END C=10, gamma=0.001, kernel=rbf;, score=0.918 total time=   0.4s\n",
      "[CV 4/5; 12/12] START C=10, gamma=0.001, kernel=rbf.............................\n",
      "[CV 3/5; 12/12] END C=10, gamma=0.001, kernel=rbf;, score=0.927 total time=   0.5s\n",
      "[CV 5/5; 12/12] START C=10, gamma=0.001, kernel=rbf.............................\n",
      "[CV 1/5; 11/12] END C=10, gamma=0.001, kernel=linear;, score=0.936 total time=   6.9s\n",
      "[CV 4/5; 12/12] END C=10, gamma=0.001, kernel=rbf;, score=0.920 total time=   0.4s\n",
      "[CV 4/5; 9/12] END C=10, gamma=scale, kernel=linear;, score=0.925 total time=   8.0s\n",
      "[CV 5/5; 12/12] END C=10, gamma=0.001, kernel=rbf;, score=0.918 total time=   0.5s\n",
      "[CV 3/5; 9/12] END C=10, gamma=scale, kernel=linear;, score=0.917 total time=   8.4s\n",
      "[CV 3/5; 11/12] END C=10, gamma=0.001, kernel=linear;, score=0.917 total time=   7.7s\n",
      "[CV 5/5; 11/12] END C=10, gamma=0.001, kernel=linear;, score=0.930 total time=   3.4s\n",
      "[CV 4/5; 11/12] END C=10, gamma=0.001, kernel=linear;, score=0.925 total time=   5.2s\n",
      "{'C': 1, 'gamma': 'scale', 'kernel': 'linear'}\n"
     ]
    }
   ],
   "source": [
    "parameters_to_tune = {\n",
    "    'kernel': ['linear', 'rbf'],\n",
    "    'C': [0.1, 1, 10],\n",
    "    'gamma': ['scale', 0.001],\n",
    "}\n",
    "\n",
    "grid_search = GridSearchCV(SVC(), parameters_to_tune, refit=True, verbose=10, cv=5, n_jobs=-1, scoring='f1')\n",
    "grid_search.fit(X_train, y_train)\n",
    "\n",
    "print(grid_search.best_params_)"
   ]
  },
  {
   "cell_type": "code",
   "execution_count": 35,
   "metadata": {},
   "outputs": [
    {
     "name": "stdout",
     "output_type": "stream",
     "text": [
      "Train Accuracy : 91.972 %\n"
     ]
    }
   ],
   "source": [
    "svcClassifier_optimized = SVC(kernel=\"linear\", C=0.1, degree=3, gamma='scale', random_state=42)\n",
    "svcClassifier_optimized.fit(X_train, y_train)\n",
    "\n",
    "print(f\"Train Accuracy : {svcClassifier_optimized.score(X_train, y_train) * 100:.3f} %\")"
   ]
  },
  {
   "cell_type": "code",
   "execution_count": 36,
   "metadata": {},
   "outputs": [
    {
     "name": "stdout",
     "output_type": "stream",
     "text": [
      "Test Accuracy : 91.644 %\n"
     ]
    }
   ],
   "source": [
    "print(f\"Test Accuracy : {svcClassifier_optimized.score(X_test, y_test) * 100:.3f} %\")"
   ]
  },
  {
   "cell_type": "code",
   "execution_count": 37,
   "metadata": {},
   "outputs": [
    {
     "name": "stdout",
     "output_type": "stream",
     "text": [
      "              precision    recall  f1-score   support\n",
      "\n",
      "           0       0.93      0.80      0.86       414\n",
      "           1       0.89      0.96      0.92       675\n",
      "\n",
      "    accuracy                           0.90      1089\n",
      "   macro avg       0.91      0.88      0.89      1089\n",
      "weighted avg       0.90      0.90      0.90      1089\n",
      "\n"
     ]
    }
   ],
   "source": [
    "preds = svcClassifier.predict(X_test)\n",
    "print(classification_report(y_test, preds))"
   ]
  },
  {
   "cell_type": "markdown",
   "metadata": {},
   "source": [
    "### Le *svcClassifier_optimized* possède un noyeau linéaire donc il est possible de faire cette manipulation pour obtenir les features importants pour la classification:"
   ]
  },
  {
   "cell_type": "code",
   "execution_count": 38,
   "metadata": {},
   "outputs": [
    {
     "name": "stdout",
     "output_type": "stream",
     "text": [
      "[[-1.02325535e-02 -1.49964432e-02 -9.48399855e-02 -1.89379727e-01\n",
      "   3.84769921e-02  3.70320358e-01 -6.24696889e-02 -2.79251958e-02\n",
      "  -2.69944835e-02 -4.41699303e-01 -3.62974082e-02  4.98724778e-01\n",
      "   5.56880992e-02  2.09841792e-01 -4.21152370e-02 -1.04367197e-02\n",
      "  -1.26835197e-02 -1.54601939e-01 -1.39512431e-01  0.00000000e+00\n",
      "   9.10796858e-02  2.03034685e-01  0.00000000e+00  7.23087592e-02\n",
      "  -9.27431892e-02 -1.87595279e-01  1.36460318e-01  5.54716096e-02\n",
      "   5.64462378e-02 -2.69504994e-01  2.70744172e-02 -2.29824209e-01\n",
      "   4.24483205e-01  7.42312521e-03  0.00000000e+00  1.18740699e-01\n",
      "   2.94181526e-01  6.63572087e-02  4.18547405e-01 -6.71831932e-01\n",
      "  -1.82879632e-01  6.59950222e-03  3.84299008e-01  2.04310882e-01\n",
      "   5.03427460e-02 -1.66237842e-01  1.52329804e-01 -7.49915692e-02\n",
      "  -5.99767805e-01  7.02737482e-02 -7.02737482e-02  0.00000000e+00\n",
      "  -1.00000000e-01 -1.88413919e-01 -6.64211899e-02 -7.61166874e-02\n",
      "   1.38985384e-01  1.76518711e-01  1.15447701e-01 -6.18217581e-02\n",
      "   2.67304514e-01  1.03034685e-01 -1.09514930e-01  1.00000000e-01\n",
      "   0.00000000e+00 -8.83487595e-03  9.28105954e-03  1.00000000e-01\n",
      "  -1.45120049e-01 -1.54328645e-01 -1.00000000e-01 -1.33762787e-01\n",
      "   1.94624480e-01 -2.11511035e-01  2.73910180e-01  0.00000000e+00\n",
      "  -2.00000000e-01  0.00000000e+00  1.61096255e-02  0.00000000e+00\n",
      "   2.31943161e-01 -4.94339895e-02 -1.21879634e-01 -9.36635280e-02\n",
      "  -9.51424254e-02  2.51758800e-02  1.03964477e-01  1.03061267e-01\n",
      "   7.01281377e-02 -3.72197848e-04 -4.95122354e-02 -2.75714395e-01\n",
      "   5.62879472e-02  1.00000000e-01 -1.70216649e-01  0.00000000e+00\n",
      "   4.48985423e-02  0.00000000e+00  0.00000000e+00  1.00000000e-01\n",
      "   8.11051794e-02 -2.18796338e-02 -2.78298556e-02 -1.31612760e-01\n",
      "   2.64828383e-02 -1.92263254e-01  5.47518422e-02  1.79577517e-01\n",
      "  -3.04295141e-02 -6.10665340e-02 -1.29558896e-01  1.81025427e-01\n",
      "  -1.47197176e-01  0.00000000e+00  0.00000000e+00  0.00000000e+00\n",
      "   0.00000000e+00  1.00000000e-01  1.00000000e-01  1.00000000e-01\n",
      "   0.00000000e+00  1.62877562e-02 -1.62877562e-02 -1.51321297e-02\n",
      "   1.51321297e-02  2.71915060e-01 -2.71915060e-01 -7.40113496e-01\n",
      "   7.40113496e-01  8.51759364e-02 -8.51759364e-02 -2.32773685e-01\n",
      "   2.32773685e-01 -6.82117220e-02  6.82117220e-02]]\n"
     ]
    }
   ],
   "source": [
    "coefs = svcClassifier_optimized.coef_\n",
    "print(coefs)"
   ]
  },
  {
   "cell_type": "markdown",
   "metadata": {},
   "source": [
    "### L'utilisation d'un noyeau linéaire permet au SVM de rester dans l'espace dimensionnel de base et ne projète pas les features dans un espace à plus haute dimensionnalité, comme le ferait un noyeau Gaussien ou RBF, par exemple. C'est pourquoi nous pouvons directement récupérer l'importance des features."
   ]
  },
  {
   "cell_type": "code",
   "execution_count": 39,
   "metadata": {},
   "outputs": [
    {
     "data": {
      "text/plain": [
       "Frais de scolarité à jour_1                      0.740113\n",
       "Unités curriculaires 2e semestre (approuvées)    0.498725\n",
       "Mode d'application_10                            0.424483\n",
       "Cours_5                                          0.418547\n",
       "Cours_9                                          0.384299\n",
       "                                                   ...   \n",
       "Occupation mère_9                               -0.275714\n",
       "Unités curriculaires 2e semestre (inscrits)     -0.441699\n",
       "Cours_15                                        -0.599768\n",
       "Cours_6                                         -0.671832\n",
       "Frais de scolarité à jour_0                     -0.740113\n",
       "Length: 135, dtype: float64"
      ]
     },
     "execution_count": 39,
     "metadata": {},
     "output_type": "execute_result"
    }
   ],
   "source": [
    "pd.Series(coefs[0], index=X_train.columns).sort_values(ascending=False)"
   ]
  }
 ],
 "metadata": {
  "kernelspec": {
   "display_name": "Jake_env",
   "language": "python",
   "name": "python3"
  },
  "language_info": {
   "codemirror_mode": {
    "name": "ipython",
    "version": 3
   },
   "file_extension": ".py",
   "mimetype": "text/x-python",
   "name": "python",
   "nbconvert_exporter": "python",
   "pygments_lexer": "ipython3",
   "version": "3.10.12"
  }
 },
 "nbformat": 4,
 "nbformat_minor": 2
}
