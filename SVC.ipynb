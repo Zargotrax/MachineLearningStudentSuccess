{
 "cells": [
  {
   "cell_type": "code",
   "execution_count": 14,
   "metadata": {},
   "outputs": [],
   "source": [
    "from load_dataset import load_data\n",
    "import utils\n",
    "from sklearn.svm import SVC\n",
    "from sklearn.metrics import classification_report\n",
    "from sklearn.model_selection import GridSearchCV\n",
    "from sklearn.model_selection import train_test_split\n",
    "import pandas as pd"
   ]
  },
  {
   "cell_type": "markdown",
   "metadata": {},
   "source": [
    "## Instancier le jeu de données"
   ]
  },
  {
   "cell_type": "code",
   "execution_count": 2,
   "metadata": {},
   "outputs": [],
   "source": [
    "X, y, cat_features = load_data().get_data_X_y(data='simplify', OneHot=False)"
   ]
  },
  {
   "cell_type": "code",
   "execution_count": 3,
   "metadata": {},
   "outputs": [],
   "source": [
    "X_train, X_test, y_train, y_test = train_test_split(X, y, test_size=0.3, random_state=42)"
   ]
  },
  {
   "cell_type": "markdown",
   "metadata": {},
   "source": [
    "## Classification par SVC (Avec One-Hot Encoding):"
   ]
  },
  {
   "cell_type": "code",
   "execution_count": 4,
   "metadata": {},
   "outputs": [
    {
     "name": "stdout",
     "output_type": "stream",
     "text": [
      "Train Accuracy : 89.847 %\n"
     ]
    }
   ],
   "source": [
    "svcClassifier = SVC(kernel=\"rbf\", C=1.0, degree=3, gamma='scale', random_state=42)\n",
    "svcClassifier.fit(X_train, y_train)\n",
    "\n",
    "print(f\"Train Accuracy : {svcClassifier.score(X_train, y_train) * 100:.3f} %\")"
   ]
  },
  {
   "cell_type": "code",
   "execution_count": 5,
   "metadata": {},
   "outputs": [
    {
     "name": "stdout",
     "output_type": "stream",
     "text": [
      "Test Accuracy : 90.083 %\n"
     ]
    }
   ],
   "source": [
    "print(f\"Test Accuracy : {svcClassifier.score(X_test, y_test) * 100:.3f} %\")"
   ]
  },
  {
   "cell_type": "code",
   "execution_count": 6,
   "metadata": {},
   "outputs": [
    {
     "name": "stdout",
     "output_type": "stream",
     "text": [
      "              precision    recall  f1-score   support\n",
      "\n",
      "           0       0.93      0.80      0.86       414\n",
      "           1       0.89      0.96      0.92       675\n",
      "\n",
      "    accuracy                           0.90      1089\n",
      "   macro avg       0.91      0.88      0.89      1089\n",
      "weighted avg       0.90      0.90      0.90      1089\n",
      "\n"
     ]
    }
   ],
   "source": [
    "preds = svcClassifier.predict(X_test)\n",
    "print(classification_report(y_test, preds))"
   ]
  },
  {
   "cell_type": "markdown",
   "metadata": {},
   "source": [
    "## Optimisation d'hyperparamètres"
   ]
  },
  {
   "cell_type": "code",
   "execution_count": 7,
   "metadata": {},
   "outputs": [
    {
     "data": {
      "text/plain": [
       "\" parameters_to_tune = {\\n    'kernel': ['linear', 'rbf', 'poly', 'sigmoid'],\\n    'C': [0.1, 1, 10, 100],\\n    'gamma': ['scale', 'auto', 0.001, 0.0001],\\n    'degree': [2, 3, 4]\\n}\\n\\ngrid_search = GridSearchCV(SVC(), parameters_to_tune, refit=True, verbose=3, cv=5, n_jobs=-1)\\ngrid_search.fit(X_train, y_train)\\n\\nprint(grid_search.best_params_) \""
      ]
     },
     "execution_count": 7,
     "metadata": {},
     "output_type": "execute_result"
    }
   ],
   "source": [
    "\"\"\" parameters_to_tune = {\n",
    "    'kernel': ['linear', 'rbf', 'poly', 'sigmoid'],\n",
    "    'C': [0.1, 1, 10, 100],\n",
    "    'gamma': ['scale', 'auto', 0.001, 0.0001],\n",
    "    'degree': [2, 3, 4]\n",
    "}\n",
    "\n",
    "grid_search = GridSearchCV(SVC(), parameters_to_tune, refit=True, verbose=3, cv=5, n_jobs=-1)\n",
    "grid_search.fit(X_train, y_train)\n",
    "\n",
    "print(grid_search.best_params_) \"\"\""
   ]
  },
  {
   "cell_type": "code",
   "execution_count": 8,
   "metadata": {},
   "outputs": [
    {
     "name": "stdout",
     "output_type": "stream",
     "text": [
      "Fitting 5 folds for each of 12 candidates, totalling 60 fits\n"
     ]
    },
    {
     "name": "stdout",
     "output_type": "stream",
     "text": [
      "{'C': 0.1, 'gamma': 'scale', 'kernel': 'linear'}\n"
     ]
    }
   ],
   "source": [
    "parameters_to_tune = {\n",
    "    'kernel': ['linear', 'rbf'],\n",
    "    'C': [0.1, 1, 10],\n",
    "    'gamma': ['scale', 0.001],\n",
    "}\n",
    "\n",
    "grid_search = GridSearchCV(SVC(), parameters_to_tune, refit=True, verbose=10, cv=5, n_jobs=-1, scoring='f1')\n",
    "grid_search.fit(X_train, y_train)\n",
    "\n",
    "print(grid_search.best_params_)"
   ]
  },
  {
   "cell_type": "code",
   "execution_count": 9,
   "metadata": {},
   "outputs": [
    {
     "name": "stdout",
     "output_type": "stream",
     "text": [
      "Train Accuracy : 91.106 %\n"
     ]
    }
   ],
   "source": [
    "svcClassifier_optimized = SVC(kernel=\"linear\", C=0.1, degree=3, gamma='scale', random_state=42)\n",
    "svcClassifier_optimized.fit(X_train, y_train)\n",
    "\n",
    "print(f\"Train Accuracy : {svcClassifier_optimized.score(X_train, y_train) * 100:.3f} %\")"
   ]
  },
  {
   "cell_type": "code",
   "execution_count": 10,
   "metadata": {},
   "outputs": [
    {
     "name": "stdout",
     "output_type": "stream",
     "text": [
      "Test Accuracy : 91.552 %\n"
     ]
    }
   ],
   "source": [
    "print(f\"Test Accuracy : {svcClassifier_optimized.score(X_test, y_test) * 100:.3f} %\")"
   ]
  },
  {
   "cell_type": "code",
   "execution_count": 11,
   "metadata": {},
   "outputs": [
    {
     "name": "stdout",
     "output_type": "stream",
     "text": [
      "              precision    recall  f1-score   support\n",
      "\n",
      "           0       0.93      0.80      0.86       414\n",
      "           1       0.89      0.96      0.92       675\n",
      "\n",
      "    accuracy                           0.90      1089\n",
      "   macro avg       0.91      0.88      0.89      1089\n",
      "weighted avg       0.90      0.90      0.90      1089\n",
      "\n"
     ]
    }
   ],
   "source": [
    "preds = svcClassifier.predict(X_test)\n",
    "print(classification_report(y_test, preds))"
   ]
  },
  {
   "cell_type": "markdown",
   "metadata": {},
   "source": [
    "### Le *svcClassifier_optimized* possède un noyeau linéaire donc il est possible de faire cette manipulation pour obtenir les features importants pour la classification:"
   ]
  },
  {
   "cell_type": "code",
   "execution_count": 12,
   "metadata": {},
   "outputs": [
    {
     "name": "stdout",
     "output_type": "stream",
     "text": [
      "[[ 0.10421376 -0.02093673 -0.02381913 -0.04101897 -0.2268206   0.07405449\n",
      "  -0.0468593   0.01153824 -0.0029237   0.02335793 -0.05918744  0.11526675\n",
      "  -0.39158429  1.39763712 -0.26823118  0.41267636 -0.01285592  0.05825528\n",
      "  -0.12994642 -0.16229555  0.02659416  0.36372397 -0.04391105 -0.05855946\n",
      "  -0.04529809 -0.42742584 -0.01733669  0.50496143  0.02814424  0.13858297\n",
      "  -0.02841713 -0.03227027 -0.00345831]]\n"
     ]
    }
   ],
   "source": [
    "coefs = svcClassifier_optimized.coef_\n",
    "print(coefs)"
   ]
  },
  {
   "cell_type": "markdown",
   "metadata": {},
   "source": [
    "### L'utilisation d'un noyeau linéaire permet au SVM de rester dans l'espace dimensionnel de base et ne projète pas les features dans un espace à plus haute dimensionnalité, comme le ferait un noyeau Gaussien ou RBF, par exemple. C'est pourquoi nous pouvons directement récupérer l'importance des features."
   ]
  },
  {
   "cell_type": "code",
   "execution_count": 16,
   "metadata": {},
   "outputs": [
    {
     "name": "stdout",
     "output_type": "stream",
     "text": [
      "File features_importances.csv has been updated and saved.\n"
     ]
    }
   ],
   "source": [
    "feature_importances = pd.Series(coefs[0], index=X_train.columns).sort_values(ascending=False)\n",
    "\n",
    "# feeding it to the compiler\n",
    "def log_feature_importances(feature_importances):\n",
    "    s = feature_importances.reset_index()\n",
    "    line = []\n",
    "    for index, row in s.iterrows():\n",
    "        ind, imp = row\n",
    "        line.append([ind, imp])\n",
    "    utils.add_model_feature_importances(svcClassifier_optimized, line)\n",
    "    \n",
    "#log_feature_importances(feature_importances) # uncomment to load the importances into the compiled csv\n"
   ]
  }
 ],
 "metadata": {
  "kernelspec": {
   "display_name": "Jake_env",
   "language": "python",
   "name": "python3"
  },
  "language_info": {
   "codemirror_mode": {
    "name": "ipython",
    "version": 3
   },
   "file_extension": ".py",
   "mimetype": "text/x-python",
   "name": "python",
   "nbconvert_exporter": "python",
   "pygments_lexer": "ipython3",
   "version": "3.10.12"
  }
 },
 "nbformat": 4,
 "nbformat_minor": 2
}
