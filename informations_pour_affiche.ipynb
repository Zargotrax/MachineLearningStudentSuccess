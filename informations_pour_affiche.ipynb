{
 "cells": [
  {
   "cell_type": "markdown",
   "metadata": {},
   "source": [
    "# Informations importantes à mettre sur l'affiche"
   ]
  },
  {
   "cell_type": "markdown",
   "metadata": {},
   "source": [
    "## Informations sur la bannière du haut"
   ]
  },
  {
   "cell_type": "markdown",
   "metadata": {},
   "source": [
    "### Numéro d'équipe \n",
    "\n",
    "- Équipe 5"
   ]
  },
  {
   "cell_type": "markdown",
   "metadata": {},
   "source": [
    "### Nom des coéquipiers \n",
    "\n",
    "- Jacob Comeau (536 850 694)\n",
    "- Guillaume Gagnon ()\n",
    "- Marc-Antoine Morneau ()\n",
    "- Andrinirina Joël Velonjatovo ()\n",
    "- Samuel Yergeau ()"
   ]
  },
  {
   "cell_type": "markdown",
   "metadata": {},
   "source": [
    "### Titre du projet \n",
    "\n",
    "`Analyse des facteurs prédictifs amenant un étudiant à graduer ou abandonner l'université basé sur les valeurs SHAP`"
   ]
  },
  {
   "cell_type": "markdown",
   "metadata": {},
   "source": [
    "## Introduction et présentation du projet"
   ]
  },
  {
   "cell_type": "markdown",
   "metadata": {},
   "source": [
    "Introduire le sujet ou le projet ?\n",
    "\n",
    "Le but du problème est de faire une analyse approfondie sur des données d'étudiants ayant gradué ou abandonné l’université afin de pouvoir ressortir les facteurs prédictifs qui amènent à tirer une de ces conclusions. \n",
    "\n",
    "À FINIR...\n",
    "\n",
    "Pour ce faire, nous allons entraîner un modèle de classification binaire permettant de prédire si un étudiant a gradué ou abandonné l’université. À partir du modèle entraîné, nous allons tenter de ressortir les facteurs prédictifs importants. Autrement dit, nous cherchons à interpréter le modèle. Il est possible que nous allons utiliser plus d’un modèle pour notre analyse. Selon nous, il serait intéressant d’être en mesure d’expliquer ce qui peut amener un étudiant à graduer ou à abandonner et même de pouvoir faire des suggestions basées sur les facteurs prédictifs identifiés afin d’améliorer le taux de rétention des étudiants."
   ]
  },
  {
   "cell_type": "markdown",
   "metadata": {},
   "source": [
    "## Méthode utilisée"
   ]
  },
  {
   "cell_type": "markdown",
   "metadata": {},
   "source": [
    "1. Analyse a priori des données\n",
    "\n",
    "2. Prétraitements des données \n",
    "\n",
    "3. Entraînements et optimisation de différent modèles pertinants pour le problème\n",
    "\n",
    "4. Évaluation des modèles selon différentes métriques (Accuracy, F1-score)\n",
    "\n",
    "5. Sélection d'un ou des modèle(s) pour l'analyse \n",
    "\n",
    "6. Analyse SHAP du ou des modèle(s)\n",
    "\n",
    "7. Conclusion et recommandations à partir de l'analyse"
   ]
  },
  {
   "cell_type": "markdown",
   "metadata": {},
   "source": [
    "## Résultats"
   ]
  },
  {
   "cell_type": "markdown",
   "metadata": {},
   "source": [
    "### Informations importantes\n",
    "\n",
    "- Séparation du jeu de données : 70% pour l'entraînement et 30% pour les test\n",
    "- Optimisation des hyperparamètres des modèles par recherche en grille (GridSearch) avec validation croisée (cross-validation) sur le F1-score\n",
    "\n",
    "Explication du choix du F1-score pour la métrique principale : \n",
    "\n",
    "Notre jeu de données est non balancé sur les classes et le F1-score est souvent préféré à l'exactitude (accuracy) dans le cas de données non balancées car il offre une évaluation plus significative de la performance du modèle, en particulier en ce qui concerne la classe minoritaire. "
   ]
  },
  {
   "cell_type": "markdown",
   "metadata": {},
   "source": [
    "### Tableau des résultats des modèles sur le jeu de données de test\n",
    "\n",
    "| Nom du modèle | Exactitude (Accuracy) | F1-Score |\n",
    "|---|:-:|:-:|\n",
    "| Naive Bayes (GaussianNB) | 84.2057 | 87.6437 |\n",
    "| K-PPV (KNN) | 87.8788 | 90.8966 |\n",
    "| Arbre de décision | 88.9807 | 91.4408 |\n",
    "| XGBoost | 90.4500 | 92.5287 |\n",
    "| Forêt aléatoire (RandomForest) | 90.9091 | 92.9235 |\n",
    "| CatBoost | 91.3682 | 93.2953 |\n",
    "| Régression Logistique | 91.6437 | 93.4391 |\n",
    "| SVC | 91.6437 | 93.4954 |"
   ]
  },
  {
   "cell_type": "markdown",
   "metadata": {},
   "source": [
    "### Explication du choix du modèle pour l'analyse\n",
    "\n",
    "Puisque les résultats des trois meilleurs modèles sont très semblables, nous avons décidé de sélectionner le modèle CatBoost pour faire l'analyse, car il peut gérer très bien nativement les données catégoriques et la librairie SHAP offre plus de fonctions avec les modèles basés sur des arbres que des modèles linéaires ou à noyau."
   ]
  },
  {
   "cell_type": "markdown",
   "metadata": {},
   "source": [
    "### Matrice de confusion du modèle CatBoost sur les données de test\n",
    "\n",
    "## TODO Changer Classe 0 et 1 pour le vrai nom des classes\n",
    "\n",
    "![Matrice de confusion](figures/conf_matrix_catboost.png)"
   ]
  },
  {
   "cell_type": "markdown",
   "metadata": {},
   "source": [
    "## Analyse Shap"
   ]
  },
  {
   "cell_type": "markdown",
   "metadata": {},
   "source": [
    "### Explication de comment fonctionne SHAP \n",
    "\n",
    "SHAP (SHapley Additive exPlanations) est une approche théorique de l'interprétabilité des modèles, et c'est aussi une bibliothèque en Python qui met en œuvre cette approche. SHAP vise à expliquer la sortie d'un modèle de machine learning en attribuant une contribution à chaque feature pour chaque prédiction.\n",
    "\n",
    "### Fonctionnement de SHAP :\n",
    "\n",
    "- `Définition du Shapley Value` : Le Shapley Value est un concept de la théorie des jeux qui mesure la contribution marginale de chaque joueur à un jeu collaboratif. Appliqué aux modèles de machine learning, chaque feature est considéré comme un \"joueur\" contribuant à la prédiction du modèle.\n",
    "\n",
    "- `Computation des Contributions` : SHAP calcule les Shapley values pour chaque feature en considérant toutes les combinaisons possibles de features. Cela signifie qu'il évalue la contribution marginale de chaque feature en moyennant sur toutes les façons dont les features peuvent être ordonnancées (c'est-à-dire, toutes les permutations possibles).\n",
    "\n",
    "- `Attribution des Contributions` : Les Shapley values obtenus sont utilisés pour attribuer les contributions de chaque feature à chaque prédiction du modèle. Ces valeurs peuvent être interprétées comme la contribution marginale de chaque feature à la différence entre la prédiction du modèle et la prédiction moyenne.\n",
    "\n",
    "- `Visualisation et Interprétation` : Les valeurs SHAP attribuées à chaque feature peuvent être visualisées de différentes manières pour interpréter l'impact de chaque feature sur chaque prédiction. Cela inclut des graphiques tels que les diagrammes de forêts, les summary plots, les dot plots, etc.\n",
    "\n",
    "### Avantages de SHAP :\n",
    "\n",
    "- `Global et Local Interpretability` : SHAP fournit à la fois une interprétation globale du modèle (comment chaque feature contribue en moyenne) et une interprétation locale (comment chaque feature a contribué à une prédiction spécifique).\n",
    "\n",
    "- `Consistance avec la Théorie des Jeux` : Le concept de Shapley Value a une base théorique solide dans la théorie des jeux, ce qui rend les explications plus robustes et cohérentes.\n",
    "\n",
    "- `Applicabilité à Divers Modèles` : SHAP peut être utilisé avec divers types de modèles, y compris les modèles de régression, les modèles de classification, les modèles de machine learning interprétables (comme les arbres de décision), les modèles de boîte noire (comme les réseaux de neurones), etc.\n",
    "\n",
    "### Référence de l'information pour l'affiche \n",
    "\n",
    "@incollection{NIPS2017_7062,\n",
    "title = {A Unified Approach to Interpreting Model Predictions},\n",
    "author = {Lundberg, Scott M and Lee, Su-In},\n",
    "booktitle = {Advances in Neural Information Processing Systems 30},\n",
    "editor = {I. Guyon and U. V. Luxburg and S. Bengio and H. Wallach and R. Fergus and S. Vishwanathan and R. Garnett},\n",
    "pages = {4765--4774},\n",
    "year = {2017},\n",
    "publisher = {Curran Associates, Inc.},\n",
    "url = {http://papers.nips.cc/paper/7062-a-unified-approach-to-interpreting-model-predictions.pdf}\n",
    "}\n",
    "\n",
    "Aussi faut ajouter la référence de kaggle et celle du site ou on a l'info sur les données [À FAIRE]"
   ]
  },
  {
   "cell_type": "markdown",
   "metadata": {},
   "source": [
    "### Tableau de l'importance de chaque features sur le modèle avec les valeurs SHAP (bar plot) \n",
    "\n",
    "![shap_bar_plot](figures/feature_importance_catboost_shap.png)"
   ]
  },
  {
   "cell_type": "markdown",
   "metadata": {},
   "source": [
    "### Tableau de l'impact de chaque features sur le modèle avec les valeurs SHAP (beeswarm plot)\n",
    "\n",
    "![shap_beeswarm_plot](figures/beeswarm_catboost_shap.png)"
   ]
  },
  {
   "cell_type": "markdown",
   "metadata": {},
   "source": [
    "### Exemple de l'impact de chaque feature sur une prédiction du jeu de données (waterfall plot)\n",
    "\n",
    "![shap_waterfall_plot](figures/echantillon_impact_feature_shape.png)"
   ]
  },
  {
   "cell_type": "markdown",
   "metadata": {},
   "source": [
    "### Retour général sur l'impact des grandes catégories de données sur le modèle (possiblement appuyé avec des tableaux si on a de l'espace)\n",
    "\n",
    "### `Données académiques à l'inscription`\n",
    "\n",
    "- L'`Ordre d'application`, la `Qualification antérieure` et la `Présence jour/soir` à un cours, sont des caractéristiques qui n'ont pas vraiment d'impacts sur les prédictions du modèle.\n",
    "\n",
    "- Le `Mode d'application` a un peu plus d'impact sur les prédictions du modèle, mais ce n'est pas énorme.\n",
    "\n",
    "- Les `Mode d'applications` tels que `Étudiant international (baccalauréat)` et `Transfert` ont en moyenne des impacts importants sur les prédictions du modèle. A VOIR...\n",
    "\n",
    "- Le choix du `Cours` d'un étudiant peut avoir un impact important sur les prédictions du modèle. Certains cours ont des impact positifs ou négatifs importants, d'autre pratiquement aucun impact.\n",
    "\n",
    "\n",
    "### `Données académiques au 1er semestre`\n",
    "\n",
    "- Le nombre d'unités curriculaires `créditées` et `sans évaluations` au 1er semestre n'ont pas vraiment d'impact sur les prédictions du modèle.\n",
    "\n",
    "- Le nombre d'unités curriculaires en terme d'`évaluations` au 1er semestre n'a pas autant d'impact qu'au 2e semestre.\n",
    "\n",
    "- Le nombre d'unités curriculaires `approuvées` au 1er semestre a vraiment beaucoup d'impact sur les prédictions du modèle. L'impact est vraiment positif lorsque le nombre d'unités est élevé et l'impact est vraiment négatif lorsque le nombre d'unités est faible.\n",
    "\n",
    "- La `note` moyenne au 1er semestre a vraiment beaucoup d'impact sur les prédictions du modèle. L'impact est positif lorsque les notes sont élevées et négatif lorsque les notes sont faibles. Les `notes` ont plus d'impact au `2e semestre` qu'au `1er semestre`.\n",
    "\n",
    "### `Données académiques au 2e semestre`\n",
    "\n",
    "- Le nombre d'unités curriculaires `créditées` et `sans évaluations` au 2e semestre n'ont pas vraiment d'impact sur les prédictions du modèle.\n",
    "\n",
    "- Le nombre d'unités curriculaires en terme d'`évaluations` au 2e semestre a quand même de l'impact sur les prédictions du modèle. L'impact est positif lorsque le nombre d'unités est faible et l'impact est négatif lorsque le nombre d'unités est élevé.\n",
    "\n",
    "- Le nombre d'unités curriculaires `approuvées` au 2e semestre a vraiment beaucoup d'impact sur les prédictions du modèle (Le plus important même). L'impact est vraiment positif lorsque le nombre d'unités est élevé et l'impact est vraiment négatif lorsque le nombre d'unités est faible.\n",
    "\n",
    "- La `note` moyenne au 2e semestre a vraiment beaucoup d'impact sur les prédictions du modèle. L'impact est positif lorsque les notes sont élevées et négatif lorsque les notes sont faibles.\n",
    "\n",
    "### `Données macroéconomiques`\n",
    "\n",
    "- Le `PIB`, le `Taux de chômage` et le `Taux d'inflation` à l'inscription de l'étudiant n'ont pas vraiment d'impacts sur les prédictions du modèle. \n",
    "\n",
    "- Malgré ça c'est intéressant de voir que ... À Continuer\n",
    "\n",
    "### `Données socioéconomiques`\n",
    "\n",
    "### `Données démographiques`"
   ]
  },
  {
   "cell_type": "markdown",
   "metadata": {},
   "source": [
    "## Discussion et Conclusion"
   ]
  },
  {
   "cell_type": "markdown",
   "metadata": {},
   "source": [
    "- Retour sur l'analyse SHAP et donner la perspective du point de vue d'un humain\n",
    "\n",
    "Vite de même c'est les résultats scolaires qui ont le plus grands impact sur le prédictions du modèle. \n",
    "\n",
    "Recommandation sur l'aspect économique, sur l'âge et sur les résultats scolaires.\n",
    "\n",
    "Pour atténuer l'abandon universitaire, on suggère d'apporter plus de soutien financier aux étudiants qui en ont besoin. Sinon, peut être proposer un cours pour sensibiliser les étudiants sur les dépenses etc... Le dettes ainsi que les frais de scolarité à jours sont des facteurs prédictifs très importants.\n",
    "\n",
    "Aussi, on observe que l'âge à l'inscription d'un étudiant à un impact significatif sur les décisions du modèle. Les étudiants plus vieux (23 ans et plus) à l'inscription ont plus un impact négatif sur les prédictions. Ceci pourrait être expliqué par plusieurs facteurs, comme le fait que l'étudiant fait un retour au études, ou qu'il a appliqué pour les `23 et plus` et  sans nécessairement avoir eu beaucoup d'éducation, etc.. Peut être il serait intéressant de proposer une formation permettant d'aider le retour aux études pour ces étudiants avant de recommencer les cours.\n",
    "\n",
    "Ajouter un commentaire/conseil sur le nbr d'unités curriculaires inscrits, évaluations etc...\n",
    "\n",
    "Finalement, on encourage les enseignants à maintenir leur bon travail au sein des élèves, car les résultats scolaires est le facteur prédictif le plus important dans nos données. (REFORMULER)\n",
    "\n",
    "- Retour sur les objectifs et si ils ont été accomplis "
   ]
  }
 ],
 "metadata": {
  "kernelspec": {
   "display_name": "Jake_env",
   "language": "python",
   "name": "python3"
  },
  "language_info": {
   "codemirror_mode": {
    "name": "ipython",
    "version": 3
   },
   "file_extension": ".py",
   "mimetype": "text/x-python",
   "name": "python",
   "nbconvert_exporter": "python",
   "pygments_lexer": "ipython3",
   "version": "3.10.12"
  }
 },
 "nbformat": 4,
 "nbformat_minor": 2
}
